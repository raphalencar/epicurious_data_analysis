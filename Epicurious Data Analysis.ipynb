{
 "cells": [
  {
   "cell_type": "markdown",
   "metadata": {},
   "source": [
    "# Epicurious Data Analysis\n",
    "\n",
    "**Autor:** Raphael Brito Alencar\n",
    "\n",
    "**Descrição:** Análise dos dados coletados do site https://www.epicurious.com/"
   ]
  },
  {
   "cell_type": "code",
   "execution_count": 584,
   "metadata": {},
   "outputs": [
    {
     "name": "stderr",
     "output_type": "stream",
     "text": [
      "[nltk_data] Downloading package punkt to /home/raphael-b-\n",
      "[nltk_data]     alencar/nltk_data...\n",
      "[nltk_data]   Package punkt is already up-to-date!\n",
      "[nltk_data] Downloading package averaged_perceptron_tagger to\n",
      "[nltk_data]     /home/raphael-b-alencar/nltk_data...\n",
      "[nltk_data]   Package averaged_perceptron_tagger is already up-to-\n",
      "[nltk_data]       date!\n"
     ]
    }
   ],
   "source": [
    "# carregando libs\n",
    "import pandas as pd\n",
    "import numpy as np\n",
    "import seaborn as sns\n",
    "import matplotlib.pyplot as plt\n",
    "from scipy.stats import iqr, norm, probplot\n",
    "\n",
    "import nltk\n",
    "nltk.download('punkt')\n",
    "nltk.download('averaged_perceptron_tagger')\n",
    "from nltk import pos_tag, word_tokenize\n",
    "import re\n",
    "\n",
    "import json\n",
    "import gc\n",
    "\n",
    "%matplotlib inline"
   ]
  },
  {
   "cell_type": "code",
   "execution_count": 732,
   "metadata": {},
   "outputs": [],
   "source": [
    "# Utils\n",
    "# percentual de preenchimento de cada feature\n",
    "def show_filling_factor(data):\n",
    "    missing_df = data.isnull().sum(axis=0).reset_index()\n",
    "    missing_df.columns = ['variable', 'missing values']\n",
    "    missing_df['filling factor (%)'] = ((data.shape[0] - missing_df['missing values']) / data.shape[0]) * 100\n",
    "    return missing_df.sort_values('filling factor (%)').reset_index(drop = True)\n",
    "\n",
    "# histograma e normal probability plot\n",
    "def create_hist_prob_plot(ser):\n",
    "    sns.distplot(ser, fit=norm);\n",
    "    fig = plt.figure()\n",
    "    res = probplot(ser, plot=plt)\n",
    "    \n",
    "# transformar para log\n",
    "def log_transform(ser):\n",
    "    return ser.map(lambda i: np.log(i) if i > 0 else 0)\n",
    "\n",
    "def median_outlier_treatment(col):\n",
    "    # substituindo valores de outliers pela mediana\n",
    "    IQR = iqr(data[col])\n",
    "    uper_bound = data[col].quantile(0.75) + 1.5 * IQR\n",
    "    lower_bound = data[col].quantile(0.25) - 1.5 * IQR\n",
    "\n",
    "    idx = data[(data[col] > uper_bound) | (data[col] < lower_bound)].index\n",
    "    data.loc[idx, col] = data[col].median()\n",
    "    \n",
    "    return data[col].describe().round(decimals=2).drop('count')\n",
    "\n",
    "\n",
    "def count_sublist_values(data,sublist):\n",
    "    series = list()\n",
    "    for i in data.index:\n",
    "        try:\n",
    "            t = data.loc[i, sublist]\n",
    "            for j in t:\n",
    "                series.append(j)\n",
    "        except:\n",
    "            pass\n",
    "    return pd.Series(series)\n",
    "\n",
    "def sublist_uniques(data,sublist):\n",
    "    categories = set()\n",
    "    for i in data.index:\n",
    "        try:\n",
    "            t = data.loc[i, sublist]\n",
    "            for j in t:\n",
    "                categories.add(j)\n",
    "        except:\n",
    "            pass\n",
    "    return list(categories)\n",
    "\n",
    "def sublists_to_binaries(data, sublist, index_key = None):\n",
    "    categories = sublist_uniques(data,sublist)\n",
    "    frame = pd.DataFrame(columns=categories)\n",
    "    for i in data.index:\n",
    "        if type(data.loc[i, sublist]) == list or np.array:\n",
    "            try:\n",
    "                if index_key != None:\n",
    "                    key = data.loc[i, index_key]\n",
    "                    f = np.zeros(len(categories))\n",
    "                    for j in data.loc[i, sublist]:\n",
    "                        f[categories.index(j)] = 1\n",
    "                    if key in frame.index:\n",
    "                        for j in data.loc[i, sublist]:\n",
    "                            frame.loc[key][j]+=1\n",
    "                    else:\n",
    "                        frame.loc[key]=f\n",
    "                else:\n",
    "                    f = np.zeros(len(categories))\n",
    "                    for j in data.loc[i, sublist]:\n",
    "                        f[categories.index(j)] = 1\n",
    "                    frame.loc[i]=f\n",
    "            except:\n",
    "                pass\n",
    "                \n",
    "    return frame"
   ]
  },
  {
   "cell_type": "code",
   "execution_count": 721,
   "metadata": {},
   "outputs": [
    {
     "data": {
      "text/html": [
       "<div>\n",
       "<style scoped>\n",
       "    .dataframe tbody tr th:only-of-type {\n",
       "        vertical-align: middle;\n",
       "    }\n",
       "\n",
       "    .dataframe tbody tr th {\n",
       "        vertical-align: top;\n",
       "    }\n",
       "\n",
       "    .dataframe thead th {\n",
       "        text-align: right;\n",
       "    }\n",
       "</style>\n",
       "<table border=\"1\" class=\"dataframe\">\n",
       "  <thead>\n",
       "    <tr style=\"text-align: right;\">\n",
       "      <th></th>\n",
       "      <th>directions</th>\n",
       "      <th>fat</th>\n",
       "      <th>date</th>\n",
       "      <th>categories</th>\n",
       "      <th>calories</th>\n",
       "      <th>desc</th>\n",
       "      <th>protein</th>\n",
       "      <th>rating</th>\n",
       "      <th>title</th>\n",
       "      <th>ingredients</th>\n",
       "      <th>sodium</th>\n",
       "    </tr>\n",
       "  </thead>\n",
       "  <tbody>\n",
       "    <tr>\n",
       "      <th>0</th>\n",
       "      <td>[1. Place the stock, lentils, celery, carrot, ...</td>\n",
       "      <td>7.0</td>\n",
       "      <td>2006-09-01 04:00:00+00:00</td>\n",
       "      <td>[Sandwich, Bean, Fruit, Tomato, turkey, Vegeta...</td>\n",
       "      <td>426.0</td>\n",
       "      <td>None</td>\n",
       "      <td>30.0</td>\n",
       "      <td>2.500</td>\n",
       "      <td>Lentil, Apple, and Turkey Wrap</td>\n",
       "      <td>[4 cups low-sodium vegetable or chicken stock,...</td>\n",
       "      <td>559.0</td>\n",
       "    </tr>\n",
       "    <tr>\n",
       "      <th>1</th>\n",
       "      <td>[Combine first 9 ingredients in heavy medium s...</td>\n",
       "      <td>23.0</td>\n",
       "      <td>2004-08-20 04:00:00+00:00</td>\n",
       "      <td>[Food Processor, Onion, Pork, Bake, Bastille D...</td>\n",
       "      <td>403.0</td>\n",
       "      <td>This uses the same ingredients found in boudin...</td>\n",
       "      <td>18.0</td>\n",
       "      <td>4.375</td>\n",
       "      <td>Boudin Blanc Terrine with Red Onion Confit</td>\n",
       "      <td>[1 1/2 cups whipping cream, 2 medium onions, c...</td>\n",
       "      <td>1439.0</td>\n",
       "    </tr>\n",
       "    <tr>\n",
       "      <th>2</th>\n",
       "      <td>[In a large heavy saucepan cook diced fennel a...</td>\n",
       "      <td>7.0</td>\n",
       "      <td>2004-08-20 04:00:00+00:00</td>\n",
       "      <td>[Soup/Stew, Dairy, Potato, Vegetable, Fennel, ...</td>\n",
       "      <td>165.0</td>\n",
       "      <td>None</td>\n",
       "      <td>6.0</td>\n",
       "      <td>3.750</td>\n",
       "      <td>Potato and Fennel Soup Hodge</td>\n",
       "      <td>[1 fennel bulb (sometimes called anise), stalk...</td>\n",
       "      <td>165.0</td>\n",
       "    </tr>\n",
       "    <tr>\n",
       "      <th>3</th>\n",
       "      <td>[Heat oil in heavy large skillet over medium-h...</td>\n",
       "      <td>NaN</td>\n",
       "      <td>2009-03-27 04:00:00+00:00</td>\n",
       "      <td>[Fish, Olive, Tomato, Sauté, Low Fat, Low Cal,...</td>\n",
       "      <td>NaN</td>\n",
       "      <td>The Sicilian-style tomato sauce has tons of Me...</td>\n",
       "      <td>NaN</td>\n",
       "      <td>5.000</td>\n",
       "      <td>Mahi-Mahi in Tomato Olive Sauce</td>\n",
       "      <td>[2 tablespoons extra-virgin olive oil, 1 cup c...</td>\n",
       "      <td>NaN</td>\n",
       "    </tr>\n",
       "    <tr>\n",
       "      <th>4</th>\n",
       "      <td>[Preheat oven to 350°F. Lightly grease 8x8x2-i...</td>\n",
       "      <td>32.0</td>\n",
       "      <td>2004-08-20 04:00:00+00:00</td>\n",
       "      <td>[Cheese, Dairy, Pasta, Vegetable, Side, Bake, ...</td>\n",
       "      <td>547.0</td>\n",
       "      <td>None</td>\n",
       "      <td>20.0</td>\n",
       "      <td>3.125</td>\n",
       "      <td>Spinach Noodle Casserole</td>\n",
       "      <td>[1 12-ounce package frozen spinach soufflé, th...</td>\n",
       "      <td>452.0</td>\n",
       "    </tr>\n",
       "  </tbody>\n",
       "</table>\n",
       "</div>"
      ],
      "text/plain": [
       "                                          directions   fat  \\\n",
       "0  [1. Place the stock, lentils, celery, carrot, ...   7.0   \n",
       "1  [Combine first 9 ingredients in heavy medium s...  23.0   \n",
       "2  [In a large heavy saucepan cook diced fennel a...   7.0   \n",
       "3  [Heat oil in heavy large skillet over medium-h...   NaN   \n",
       "4  [Preheat oven to 350°F. Lightly grease 8x8x2-i...  32.0   \n",
       "\n",
       "                       date  \\\n",
       "0 2006-09-01 04:00:00+00:00   \n",
       "1 2004-08-20 04:00:00+00:00   \n",
       "2 2004-08-20 04:00:00+00:00   \n",
       "3 2009-03-27 04:00:00+00:00   \n",
       "4 2004-08-20 04:00:00+00:00   \n",
       "\n",
       "                                          categories  calories  \\\n",
       "0  [Sandwich, Bean, Fruit, Tomato, turkey, Vegeta...     426.0   \n",
       "1  [Food Processor, Onion, Pork, Bake, Bastille D...     403.0   \n",
       "2  [Soup/Stew, Dairy, Potato, Vegetable, Fennel, ...     165.0   \n",
       "3  [Fish, Olive, Tomato, Sauté, Low Fat, Low Cal,...       NaN   \n",
       "4  [Cheese, Dairy, Pasta, Vegetable, Side, Bake, ...     547.0   \n",
       "\n",
       "                                                desc  protein  rating  \\\n",
       "0                                               None     30.0   2.500   \n",
       "1  This uses the same ingredients found in boudin...     18.0   4.375   \n",
       "2                                               None      6.0   3.750   \n",
       "3  The Sicilian-style tomato sauce has tons of Me...      NaN   5.000   \n",
       "4                                               None     20.0   3.125   \n",
       "\n",
       "                                         title  \\\n",
       "0              Lentil, Apple, and Turkey Wrap    \n",
       "1  Boudin Blanc Terrine with Red Onion Confit    \n",
       "2                Potato and Fennel Soup Hodge    \n",
       "3             Mahi-Mahi in Tomato Olive Sauce    \n",
       "4                    Spinach Noodle Casserole    \n",
       "\n",
       "                                         ingredients  sodium  \n",
       "0  [4 cups low-sodium vegetable or chicken stock,...   559.0  \n",
       "1  [1 1/2 cups whipping cream, 2 medium onions, c...  1439.0  \n",
       "2  [1 fennel bulb (sometimes called anise), stalk...   165.0  \n",
       "3  [2 tablespoons extra-virgin olive oil, 1 cup c...     NaN  \n",
       "4  [1 12-ounce package frozen spinach soufflé, th...   452.0  "
      ]
     },
     "execution_count": 721,
     "metadata": {},
     "output_type": "execute_result"
    }
   ],
   "source": [
    "# carregando dados de receitas.json\n",
    "# verificando os primeiros registros\n",
    "data = pd.read_json('receitas.json')\n",
    "data.head()"
   ]
  },
  {
   "cell_type": "code",
   "execution_count": 722,
   "metadata": {},
   "outputs": [
    {
     "data": {
      "text/plain": [
       "(20130, 11)"
      ]
     },
     "execution_count": 722,
     "metadata": {},
     "output_type": "execute_result"
    }
   ],
   "source": [
    "data.shape"
   ]
  },
  {
   "cell_type": "code",
   "execution_count": 724,
   "metadata": {},
   "outputs": [
    {
     "data": {
      "text/plain": [
       "674"
      ]
     },
     "execution_count": 724,
     "metadata": {},
     "output_type": "execute_result"
    }
   ],
   "source": [
    "len(sublist_uniques(data, 'categories'))"
   ]
  },
  {
   "cell_type": "code",
   "execution_count": 726,
   "metadata": {},
   "outputs": [
    {
     "data": {
      "text/html": [
       "<div>\n",
       "<style scoped>\n",
       "    .dataframe tbody tr th:only-of-type {\n",
       "        vertical-align: middle;\n",
       "    }\n",
       "\n",
       "    .dataframe tbody tr th {\n",
       "        vertical-align: top;\n",
       "    }\n",
       "\n",
       "    .dataframe thead th {\n",
       "        text-align: right;\n",
       "    }\n",
       "</style>\n",
       "<table border=\"1\" class=\"dataframe\">\n",
       "  <thead>\n",
       "    <tr style=\"text-align: right;\">\n",
       "      <th></th>\n",
       "      <th>directions</th>\n",
       "      <th>fat</th>\n",
       "      <th>date</th>\n",
       "      <th>categories</th>\n",
       "      <th>calories</th>\n",
       "      <th>desc</th>\n",
       "      <th>protein</th>\n",
       "      <th>rating</th>\n",
       "      <th>title</th>\n",
       "      <th>ingredients</th>\n",
       "      <th>sodium</th>\n",
       "    </tr>\n",
       "  </thead>\n",
       "  <tbody>\n",
       "    <tr>\n",
       "      <th>0</th>\n",
       "      <td>[1. Place the stock, lentils, celery, carrot, ...</td>\n",
       "      <td>7.0</td>\n",
       "      <td>2006-09-01 04:00:00+00:00</td>\n",
       "      <td>[Sandwich, Bean, Fruit, Tomato, turkey, Vegeta...</td>\n",
       "      <td>426.0</td>\n",
       "      <td>None</td>\n",
       "      <td>30.0</td>\n",
       "      <td>2.500</td>\n",
       "      <td>Lentil, Apple, and Turkey Wrap</td>\n",
       "      <td>[4 cups low-sodium vegetable or chicken stock,...</td>\n",
       "      <td>559.0</td>\n",
       "    </tr>\n",
       "    <tr>\n",
       "      <th>1</th>\n",
       "      <td>[Combine first 9 ingredients in heavy medium s...</td>\n",
       "      <td>23.0</td>\n",
       "      <td>2004-08-20 04:00:00+00:00</td>\n",
       "      <td>[Food Processor, Onion, Pork, Bake, Bastille D...</td>\n",
       "      <td>403.0</td>\n",
       "      <td>This uses the same ingredients found in boudin...</td>\n",
       "      <td>18.0</td>\n",
       "      <td>4.375</td>\n",
       "      <td>Boudin Blanc Terrine with Red Onion Confit</td>\n",
       "      <td>[1 1/2 cups whipping cream, 2 medium onions, c...</td>\n",
       "      <td>1439.0</td>\n",
       "    </tr>\n",
       "    <tr>\n",
       "      <th>2</th>\n",
       "      <td>[In a large heavy saucepan cook diced fennel a...</td>\n",
       "      <td>7.0</td>\n",
       "      <td>2004-08-20 04:00:00+00:00</td>\n",
       "      <td>[Soup/Stew, Dairy, Potato, Vegetable, Fennel, ...</td>\n",
       "      <td>165.0</td>\n",
       "      <td>None</td>\n",
       "      <td>6.0</td>\n",
       "      <td>3.750</td>\n",
       "      <td>Potato and Fennel Soup Hodge</td>\n",
       "      <td>[1 fennel bulb (sometimes called anise), stalk...</td>\n",
       "      <td>165.0</td>\n",
       "    </tr>\n",
       "    <tr>\n",
       "      <th>3</th>\n",
       "      <td>[Heat oil in heavy large skillet over medium-h...</td>\n",
       "      <td>NaN</td>\n",
       "      <td>2009-03-27 04:00:00+00:00</td>\n",
       "      <td>[Fish, Olive, Tomato, Sauté, Low Fat, Low Cal,...</td>\n",
       "      <td>NaN</td>\n",
       "      <td>The Sicilian-style tomato sauce has tons of Me...</td>\n",
       "      <td>NaN</td>\n",
       "      <td>5.000</td>\n",
       "      <td>Mahi-Mahi in Tomato Olive Sauce</td>\n",
       "      <td>[2 tablespoons extra-virgin olive oil, 1 cup c...</td>\n",
       "      <td>NaN</td>\n",
       "    </tr>\n",
       "    <tr>\n",
       "      <th>4</th>\n",
       "      <td>[Preheat oven to 350°F. Lightly grease 8x8x2-i...</td>\n",
       "      <td>32.0</td>\n",
       "      <td>2004-08-20 04:00:00+00:00</td>\n",
       "      <td>[Cheese, Dairy, Pasta, Vegetable, Side, Bake, ...</td>\n",
       "      <td>547.0</td>\n",
       "      <td>None</td>\n",
       "      <td>20.0</td>\n",
       "      <td>3.125</td>\n",
       "      <td>Spinach Noodle Casserole</td>\n",
       "      <td>[1 12-ounce package frozen spinach soufflé, th...</td>\n",
       "      <td>452.0</td>\n",
       "    </tr>\n",
       "    <tr>\n",
       "      <th>...</th>\n",
       "      <td>...</td>\n",
       "      <td>...</td>\n",
       "      <td>...</td>\n",
       "      <td>...</td>\n",
       "      <td>...</td>\n",
       "      <td>...</td>\n",
       "      <td>...</td>\n",
       "      <td>...</td>\n",
       "      <td>...</td>\n",
       "      <td>...</td>\n",
       "      <td>...</td>\n",
       "    </tr>\n",
       "    <tr>\n",
       "      <th>20125</th>\n",
       "      <td>[Beat whites in a bowl with an electric mixer ...</td>\n",
       "      <td>2.0</td>\n",
       "      <td>2004-08-20 04:00:00+00:00</td>\n",
       "      <td>[Mixer, Cheese, Egg, Fry, Cocktail Party, Parm...</td>\n",
       "      <td>28.0</td>\n",
       "      <td>None</td>\n",
       "      <td>2.0</td>\n",
       "      <td>3.125</td>\n",
       "      <td>Parmesan Puffs</td>\n",
       "      <td>[2 large egg whites, 3 oz Parmigiano-Reggiano,...</td>\n",
       "      <td>64.0</td>\n",
       "    </tr>\n",
       "    <tr>\n",
       "      <th>20126</th>\n",
       "      <td>[Bring broth to simmer in saucepan.Remove from...</td>\n",
       "      <td>28.0</td>\n",
       "      <td>2008-02-28 22:06:54+00:00</td>\n",
       "      <td>[Side, Kid-Friendly, High Fiber, Dinner, Parme...</td>\n",
       "      <td>671.0</td>\n",
       "      <td>Cooking the artichokes with the rice infuses t...</td>\n",
       "      <td>22.0</td>\n",
       "      <td>4.375</td>\n",
       "      <td>Artichoke and Parmesan Risotto</td>\n",
       "      <td>[5 1/2 cups (or more) low-salt chicken broth, ...</td>\n",
       "      <td>583.0</td>\n",
       "    </tr>\n",
       "    <tr>\n",
       "      <th>20127</th>\n",
       "      <td>[Using a sharp knife, cut a shallow X in botto...</td>\n",
       "      <td>38.0</td>\n",
       "      <td>2005-10-21 18:21:20+00:00</td>\n",
       "      <td>[Onion, Poultry, turkey, Vegetable, Bake, Kid-...</td>\n",
       "      <td>563.0</td>\n",
       "      <td>None</td>\n",
       "      <td>31.0</td>\n",
       "      <td>4.375</td>\n",
       "      <td>Turkey Cream Puff Pie</td>\n",
       "      <td>[1 small tomato, 1 small onion, finely chopped...</td>\n",
       "      <td>652.0</td>\n",
       "    </tr>\n",
       "    <tr>\n",
       "      <th>20128</th>\n",
       "      <td>[Heat 2 tablespoons oil in heavy medium skille...</td>\n",
       "      <td>24.0</td>\n",
       "      <td>2004-08-20 04:00:00+00:00</td>\n",
       "      <td>[Milk/Cream, Citrus, Dairy, Fish, Garlic, Past...</td>\n",
       "      <td>631.0</td>\n",
       "      <td>Sharon Hooykaas of Los Alamitos, California, w...</td>\n",
       "      <td>45.0</td>\n",
       "      <td>4.375</td>\n",
       "      <td>Snapper on Angel Hair with Citrus Cream</td>\n",
       "      <td>[4 tablespoons olive oil, 4 shallots, thinly s...</td>\n",
       "      <td>517.0</td>\n",
       "    </tr>\n",
       "    <tr>\n",
       "      <th>20129</th>\n",
       "      <td>[Position rack in bottom third of oven and pre...</td>\n",
       "      <td>10.0</td>\n",
       "      <td>2004-08-20 04:00:00+00:00</td>\n",
       "      <td>[Pork, Bake, Roast, Christmas, Ham, Winter, Bo...</td>\n",
       "      <td>560.0</td>\n",
       "      <td>Although labeled fully cooked, the ham will st...</td>\n",
       "      <td>73.0</td>\n",
       "      <td>4.375</td>\n",
       "      <td>Baked Ham with Marmalade-Horseradish Glaze</td>\n",
       "      <td>[1 18-pound fully cooked bone-in smoked ham, r...</td>\n",
       "      <td>3698.0</td>\n",
       "    </tr>\n",
       "  </tbody>\n",
       "</table>\n",
       "<p>20130 rows × 11 columns</p>\n",
       "</div>"
      ],
      "text/plain": [
       "                                              directions   fat  \\\n",
       "0      [1. Place the stock, lentils, celery, carrot, ...   7.0   \n",
       "1      [Combine first 9 ingredients in heavy medium s...  23.0   \n",
       "2      [In a large heavy saucepan cook diced fennel a...   7.0   \n",
       "3      [Heat oil in heavy large skillet over medium-h...   NaN   \n",
       "4      [Preheat oven to 350°F. Lightly grease 8x8x2-i...  32.0   \n",
       "...                                                  ...   ...   \n",
       "20125  [Beat whites in a bowl with an electric mixer ...   2.0   \n",
       "20126  [Bring broth to simmer in saucepan.Remove from...  28.0   \n",
       "20127  [Using a sharp knife, cut a shallow X in botto...  38.0   \n",
       "20128  [Heat 2 tablespoons oil in heavy medium skille...  24.0   \n",
       "20129  [Position rack in bottom third of oven and pre...  10.0   \n",
       "\n",
       "                           date  \\\n",
       "0     2006-09-01 04:00:00+00:00   \n",
       "1     2004-08-20 04:00:00+00:00   \n",
       "2     2004-08-20 04:00:00+00:00   \n",
       "3     2009-03-27 04:00:00+00:00   \n",
       "4     2004-08-20 04:00:00+00:00   \n",
       "...                         ...   \n",
       "20125 2004-08-20 04:00:00+00:00   \n",
       "20126 2008-02-28 22:06:54+00:00   \n",
       "20127 2005-10-21 18:21:20+00:00   \n",
       "20128 2004-08-20 04:00:00+00:00   \n",
       "20129 2004-08-20 04:00:00+00:00   \n",
       "\n",
       "                                              categories  calories  \\\n",
       "0      [Sandwich, Bean, Fruit, Tomato, turkey, Vegeta...     426.0   \n",
       "1      [Food Processor, Onion, Pork, Bake, Bastille D...     403.0   \n",
       "2      [Soup/Stew, Dairy, Potato, Vegetable, Fennel, ...     165.0   \n",
       "3      [Fish, Olive, Tomato, Sauté, Low Fat, Low Cal,...       NaN   \n",
       "4      [Cheese, Dairy, Pasta, Vegetable, Side, Bake, ...     547.0   \n",
       "...                                                  ...       ...   \n",
       "20125  [Mixer, Cheese, Egg, Fry, Cocktail Party, Parm...      28.0   \n",
       "20126  [Side, Kid-Friendly, High Fiber, Dinner, Parme...     671.0   \n",
       "20127  [Onion, Poultry, turkey, Vegetable, Bake, Kid-...     563.0   \n",
       "20128  [Milk/Cream, Citrus, Dairy, Fish, Garlic, Past...     631.0   \n",
       "20129  [Pork, Bake, Roast, Christmas, Ham, Winter, Bo...     560.0   \n",
       "\n",
       "                                                    desc  protein  rating  \\\n",
       "0                                                   None     30.0   2.500   \n",
       "1      This uses the same ingredients found in boudin...     18.0   4.375   \n",
       "2                                                   None      6.0   3.750   \n",
       "3      The Sicilian-style tomato sauce has tons of Me...      NaN   5.000   \n",
       "4                                                   None     20.0   3.125   \n",
       "...                                                  ...      ...     ...   \n",
       "20125                                               None      2.0   3.125   \n",
       "20126  Cooking the artichokes with the rice infuses t...     22.0   4.375   \n",
       "20127                                               None     31.0   4.375   \n",
       "20128  Sharon Hooykaas of Los Alamitos, California, w...     45.0   4.375   \n",
       "20129  Although labeled fully cooked, the ham will st...     73.0   4.375   \n",
       "\n",
       "                                             title  \\\n",
       "0                  Lentil, Apple, and Turkey Wrap    \n",
       "1      Boudin Blanc Terrine with Red Onion Confit    \n",
       "2                    Potato and Fennel Soup Hodge    \n",
       "3                 Mahi-Mahi in Tomato Olive Sauce    \n",
       "4                        Spinach Noodle Casserole    \n",
       "...                                            ...   \n",
       "20125                              Parmesan Puffs    \n",
       "20126              Artichoke and Parmesan Risotto    \n",
       "20127                       Turkey Cream Puff Pie    \n",
       "20128     Snapper on Angel Hair with Citrus Cream    \n",
       "20129  Baked Ham with Marmalade-Horseradish Glaze    \n",
       "\n",
       "                                             ingredients  sodium  \n",
       "0      [4 cups low-sodium vegetable or chicken stock,...   559.0  \n",
       "1      [1 1/2 cups whipping cream, 2 medium onions, c...  1439.0  \n",
       "2      [1 fennel bulb (sometimes called anise), stalk...   165.0  \n",
       "3      [2 tablespoons extra-virgin olive oil, 1 cup c...     NaN  \n",
       "4      [1 12-ounce package frozen spinach soufflé, th...   452.0  \n",
       "...                                                  ...     ...  \n",
       "20125  [2 large egg whites, 3 oz Parmigiano-Reggiano,...    64.0  \n",
       "20126  [5 1/2 cups (or more) low-salt chicken broth, ...   583.0  \n",
       "20127  [1 small tomato, 1 small onion, finely chopped...   652.0  \n",
       "20128  [4 tablespoons olive oil, 4 shallots, thinly s...   517.0  \n",
       "20129  [1 18-pound fully cooked bone-in smoked ham, r...  3698.0  \n",
       "\n",
       "[20130 rows x 11 columns]"
      ]
     },
     "execution_count": 726,
     "metadata": {},
     "output_type": "execute_result"
    }
   ],
   "source": [
    "data"
   ]
  },
  {
   "cell_type": "code",
   "execution_count": 725,
   "metadata": {},
   "outputs": [
    {
     "data": {
      "text/html": [
       "<div>\n",
       "<style scoped>\n",
       "    .dataframe tbody tr th:only-of-type {\n",
       "        vertical-align: middle;\n",
       "    }\n",
       "\n",
       "    .dataframe tbody tr th {\n",
       "        vertical-align: top;\n",
       "    }\n",
       "\n",
       "    .dataframe thead th {\n",
       "        text-align: right;\n",
       "    }\n",
       "</style>\n",
       "<table border=\"1\" class=\"dataframe\">\n",
       "  <thead>\n",
       "    <tr style=\"text-align: right;\">\n",
       "      <th></th>\n",
       "      <th>Plantain</th>\n",
       "      <th>Sourdough</th>\n",
       "      <th>New Jersey</th>\n",
       "      <th>Vodka</th>\n",
       "      <th>Ramadan</th>\n",
       "      <th>Biscuit</th>\n",
       "      <th>Condiment</th>\n",
       "      <th>Santa Monica</th>\n",
       "      <th>Peanut Butter</th>\n",
       "      <th>Brunch</th>\n",
       "      <th>...</th>\n",
       "      <th>Maple Syrup</th>\n",
       "      <th>Fourth of July</th>\n",
       "      <th>One-Pot Meal</th>\n",
       "      <th>Waffle</th>\n",
       "      <th>Dairy Free</th>\n",
       "      <th>Soy</th>\n",
       "      <th>Jamaica</th>\n",
       "      <th>Freezer Food</th>\n",
       "      <th>Columbus</th>\n",
       "      <th>Pasta</th>\n",
       "    </tr>\n",
       "  </thead>\n",
       "  <tbody>\n",
       "  </tbody>\n",
       "</table>\n",
       "<p>0 rows × 674 columns</p>\n",
       "</div>"
      ],
      "text/plain": [
       "Empty DataFrame\n",
       "Columns: [Plantain, Sourdough, New Jersey, Vodka, Ramadan, Biscuit, Condiment, Santa Monica, Peanut Butter, Brunch, Campari, Bulgaria, Spritzer, Beef Tenderloin, South Carolina, Nancy Silverton, Radish, Coconut, Garlic, Amaretto, Raspberry, Cinco de Mayo, Food Processor, Switzerland, Strawberry, Veal, Spirit, Healdsburg, Ham, Hanukkah, Butterscotch/Caramel, Iced Coffee, Quick & Easy, Apple Juice, Breakfast, Endive, Pasta Maker, Skewer, Brown Rice, Pacific Palisades, Pizza, Dallas, Emeril Lagasse, Denver, Boston, Game, Mustard, Kentucky Derby, Tuna, Rye, Picnic, Side, Smoothie, Cook Like a Diner, Butternut Squash, Jícama, Breadcrumbs, New Hampshire, Dominican Republic, Cognac/Armagnac, Bean, Potluck, Kumquat, Parmesan, Couscous, Low Carb, Pork Rib, Green Onion/Scallion, Louisville, Grains, Cupcake, Kid-Friendly, Carrot, Lingonberry, Raw, Nectarine, Deep-Fry, Chard, Buffet, Ramekin, Leafy Green, Suzanne Goin, Poppy, HarperCollins, Meatball, Date, Sorbet, Cilantro, Bran, Idaho, Cornmeal, Australia, House & Garden, Rice, Chile Pepper, Ohio, Beef Rib, Hors D'Oeuvre, Cheese, Camping, ...]\n",
       "Index: []\n",
       "\n",
       "[0 rows x 674 columns]"
      ]
     },
     "execution_count": 725,
     "metadata": {},
     "output_type": "execute_result"
    }
   ],
   "source": [
    "sublists_to_binaries(data, 'categories')"
   ]
  },
  {
   "cell_type": "code",
   "execution_count": 587,
   "metadata": {},
   "outputs": [
    {
     "name": "stdout",
     "output_type": "stream",
     "text": [
      "<class 'pandas.core.frame.DataFrame'>\n",
      "RangeIndex: 20130 entries, 0 to 20129\n",
      "Data columns (total 11 columns):\n",
      "directions     20111 non-null object\n",
      "fat            15908 non-null float64\n",
      "date           20111 non-null datetime64[ns, UTC]\n",
      "categories     20111 non-null object\n",
      "calories       15976 non-null float64\n",
      "desc           13495 non-null object\n",
      "protein        15929 non-null float64\n",
      "rating         20100 non-null float64\n",
      "title          20111 non-null object\n",
      "ingredients    20111 non-null object\n",
      "sodium         15974 non-null float64\n",
      "dtypes: datetime64[ns, UTC](1), float64(5), object(5)\n",
      "memory usage: 1.7+ MB\n"
     ]
    }
   ],
   "source": [
    "# informações sobre as colunas do dataframe\n",
    "data.info()"
   ]
  },
  {
   "cell_type": "code",
   "execution_count": 588,
   "metadata": {},
   "outputs": [
    {
     "data": {
      "text/html": [
       "<div>\n",
       "<style scoped>\n",
       "    .dataframe tbody tr th:only-of-type {\n",
       "        vertical-align: middle;\n",
       "    }\n",
       "\n",
       "    .dataframe tbody tr th {\n",
       "        vertical-align: top;\n",
       "    }\n",
       "\n",
       "    .dataframe thead th {\n",
       "        text-align: right;\n",
       "    }\n",
       "</style>\n",
       "<table border=\"1\" class=\"dataframe\">\n",
       "  <thead>\n",
       "    <tr style=\"text-align: right;\">\n",
       "      <th></th>\n",
       "      <th>fat</th>\n",
       "      <th>calories</th>\n",
       "      <th>protein</th>\n",
       "      <th>rating</th>\n",
       "      <th>sodium</th>\n",
       "    </tr>\n",
       "  </thead>\n",
       "  <tbody>\n",
       "    <tr>\n",
       "      <th>count</th>\n",
       "      <td>15908.00</td>\n",
       "      <td>15976.00</td>\n",
       "      <td>15929.00</td>\n",
       "      <td>20100.00</td>\n",
       "      <td>15974.00</td>\n",
       "    </tr>\n",
       "    <tr>\n",
       "      <th>mean</th>\n",
       "      <td>346.10</td>\n",
       "      <td>6307.86</td>\n",
       "      <td>99.95</td>\n",
       "      <td>3.71</td>\n",
       "      <td>6211.47</td>\n",
       "    </tr>\n",
       "    <tr>\n",
       "      <th>std</th>\n",
       "      <td>20431.02</td>\n",
       "      <td>358585.12</td>\n",
       "      <td>3835.62</td>\n",
       "      <td>1.34</td>\n",
       "      <td>332890.25</td>\n",
       "    </tr>\n",
       "    <tr>\n",
       "      <th>min</th>\n",
       "      <td>0.00</td>\n",
       "      <td>0.00</td>\n",
       "      <td>0.00</td>\n",
       "      <td>0.00</td>\n",
       "      <td>0.00</td>\n",
       "    </tr>\n",
       "    <tr>\n",
       "      <th>25%</th>\n",
       "      <td>7.00</td>\n",
       "      <td>198.00</td>\n",
       "      <td>3.00</td>\n",
       "      <td>3.75</td>\n",
       "      <td>80.00</td>\n",
       "    </tr>\n",
       "    <tr>\n",
       "      <th>50%</th>\n",
       "      <td>17.00</td>\n",
       "      <td>331.00</td>\n",
       "      <td>8.00</td>\n",
       "      <td>4.38</td>\n",
       "      <td>294.00</td>\n",
       "    </tr>\n",
       "    <tr>\n",
       "      <th>75%</th>\n",
       "      <td>33.00</td>\n",
       "      <td>586.00</td>\n",
       "      <td>27.00</td>\n",
       "      <td>4.38</td>\n",
       "      <td>711.00</td>\n",
       "    </tr>\n",
       "    <tr>\n",
       "      <th>max</th>\n",
       "      <td>1722763.00</td>\n",
       "      <td>30111218.00</td>\n",
       "      <td>236489.00</td>\n",
       "      <td>5.00</td>\n",
       "      <td>27675110.00</td>\n",
       "    </tr>\n",
       "  </tbody>\n",
       "</table>\n",
       "</div>"
      ],
      "text/plain": [
       "              fat     calories    protein    rating       sodium\n",
       "count    15908.00     15976.00   15929.00  20100.00     15974.00\n",
       "mean       346.10      6307.86      99.95      3.71      6211.47\n",
       "std      20431.02    358585.12    3835.62      1.34    332890.25\n",
       "min          0.00         0.00       0.00      0.00         0.00\n",
       "25%          7.00       198.00       3.00      3.75        80.00\n",
       "50%         17.00       331.00       8.00      4.38       294.00\n",
       "75%         33.00       586.00      27.00      4.38       711.00\n",
       "max    1722763.00  30111218.00  236489.00      5.00  27675110.00"
      ]
     },
     "execution_count": 588,
     "metadata": {},
     "output_type": "execute_result"
    }
   ],
   "source": [
    "# descrevendo estatísticas dos valores numéricos\n",
    "# resultado sem dados tratados\n",
    "data.describe().round(decimals=2)"
   ]
  },
  {
   "cell_type": "code",
   "execution_count": 589,
   "metadata": {},
   "outputs": [
    {
     "name": "stdout",
     "output_type": "stream",
     "text": [
      "Número de receitas duplicadas: 2354\n"
     ]
    }
   ],
   "source": [
    "# verificando registros duplicados\n",
    "print('Número de receitas duplicadas: {}'.format(data.duplicated('title').sum()))"
   ]
  },
  {
   "cell_type": "code",
   "execution_count": 590,
   "metadata": {},
   "outputs": [
    {
     "data": {
      "text/plain": [
       "(17776, 11)"
      ]
     },
     "execution_count": 590,
     "metadata": {},
     "output_type": "execute_result"
    }
   ],
   "source": [
    "# removendo registros duplicados\n",
    "data.drop_duplicates('title', keep='first', inplace=True)\n",
    "data.shape"
   ]
  },
  {
   "cell_type": "code",
   "execution_count": 591,
   "metadata": {},
   "outputs": [
    {
     "data": {
      "text/html": [
       "<div>\n",
       "<style scoped>\n",
       "    .dataframe tbody tr th:only-of-type {\n",
       "        vertical-align: middle;\n",
       "    }\n",
       "\n",
       "    .dataframe tbody tr th {\n",
       "        vertical-align: top;\n",
       "    }\n",
       "\n",
       "    .dataframe thead th {\n",
       "        text-align: right;\n",
       "    }\n",
       "</style>\n",
       "<table border=\"1\" class=\"dataframe\">\n",
       "  <thead>\n",
       "    <tr style=\"text-align: right;\">\n",
       "      <th></th>\n",
       "      <th>variable</th>\n",
       "      <th>missing values</th>\n",
       "      <th>filling factor (%)</th>\n",
       "    </tr>\n",
       "  </thead>\n",
       "  <tbody>\n",
       "    <tr>\n",
       "      <th>0</th>\n",
       "      <td>desc</td>\n",
       "      <td>5859</td>\n",
       "      <td>67.039829</td>\n",
       "    </tr>\n",
       "    <tr>\n",
       "      <th>1</th>\n",
       "      <td>fat</td>\n",
       "      <td>3732</td>\n",
       "      <td>79.005401</td>\n",
       "    </tr>\n",
       "    <tr>\n",
       "      <th>2</th>\n",
       "      <td>protein</td>\n",
       "      <td>3713</td>\n",
       "      <td>79.112286</td>\n",
       "    </tr>\n",
       "    <tr>\n",
       "      <th>3</th>\n",
       "      <td>sodium</td>\n",
       "      <td>3689</td>\n",
       "      <td>79.247300</td>\n",
       "    </tr>\n",
       "    <tr>\n",
       "      <th>4</th>\n",
       "      <td>calories</td>\n",
       "      <td>3688</td>\n",
       "      <td>79.252925</td>\n",
       "    </tr>\n",
       "    <tr>\n",
       "      <th>5</th>\n",
       "      <td>rating</td>\n",
       "      <td>10</td>\n",
       "      <td>99.943744</td>\n",
       "    </tr>\n",
       "    <tr>\n",
       "      <th>6</th>\n",
       "      <td>directions</td>\n",
       "      <td>1</td>\n",
       "      <td>99.994374</td>\n",
       "    </tr>\n",
       "    <tr>\n",
       "      <th>7</th>\n",
       "      <td>date</td>\n",
       "      <td>1</td>\n",
       "      <td>99.994374</td>\n",
       "    </tr>\n",
       "    <tr>\n",
       "      <th>8</th>\n",
       "      <td>categories</td>\n",
       "      <td>1</td>\n",
       "      <td>99.994374</td>\n",
       "    </tr>\n",
       "    <tr>\n",
       "      <th>9</th>\n",
       "      <td>title</td>\n",
       "      <td>1</td>\n",
       "      <td>99.994374</td>\n",
       "    </tr>\n",
       "    <tr>\n",
       "      <th>10</th>\n",
       "      <td>ingredients</td>\n",
       "      <td>1</td>\n",
       "      <td>99.994374</td>\n",
       "    </tr>\n",
       "  </tbody>\n",
       "</table>\n",
       "</div>"
      ],
      "text/plain": [
       "       variable  missing values  filling factor (%)\n",
       "0          desc            5859           67.039829\n",
       "1           fat            3732           79.005401\n",
       "2       protein            3713           79.112286\n",
       "3        sodium            3689           79.247300\n",
       "4      calories            3688           79.252925\n",
       "5        rating              10           99.943744\n",
       "6    directions               1           99.994374\n",
       "7          date               1           99.994374\n",
       "8    categories               1           99.994374\n",
       "9         title               1           99.994374\n",
       "10  ingredients               1           99.994374"
      ]
     },
     "execution_count": 591,
     "metadata": {},
     "output_type": "execute_result"
    }
   ],
   "source": [
    "show_filling_factor(data)"
   ]
  },
  {
   "cell_type": "markdown",
   "metadata": {},
   "source": [
    "Olhando a tabela acima, parece que os registros nulos são os mesmos para categories, date, directions, ingredients e title. No caso, 1 registro. Verificando:"
   ]
  },
  {
   "cell_type": "code",
   "execution_count": 592,
   "metadata": {},
   "outputs": [
    {
     "data": {
      "text/html": [
       "<div>\n",
       "<style scoped>\n",
       "    .dataframe tbody tr th:only-of-type {\n",
       "        vertical-align: middle;\n",
       "    }\n",
       "\n",
       "    .dataframe tbody tr th {\n",
       "        vertical-align: top;\n",
       "    }\n",
       "\n",
       "    .dataframe thead th {\n",
       "        text-align: right;\n",
       "    }\n",
       "</style>\n",
       "<table border=\"1\" class=\"dataframe\">\n",
       "  <thead>\n",
       "    <tr style=\"text-align: right;\">\n",
       "      <th></th>\n",
       "      <th>directions</th>\n",
       "      <th>fat</th>\n",
       "      <th>date</th>\n",
       "      <th>categories</th>\n",
       "      <th>calories</th>\n",
       "      <th>desc</th>\n",
       "      <th>protein</th>\n",
       "      <th>rating</th>\n",
       "      <th>title</th>\n",
       "      <th>ingredients</th>\n",
       "      <th>sodium</th>\n",
       "    </tr>\n",
       "  </thead>\n",
       "  <tbody>\n",
       "    <tr>\n",
       "      <th>1076</th>\n",
       "      <td>NaN</td>\n",
       "      <td>NaN</td>\n",
       "      <td>NaT</td>\n",
       "      <td>NaN</td>\n",
       "      <td>NaN</td>\n",
       "      <td>NaN</td>\n",
       "      <td>NaN</td>\n",
       "      <td>NaN</td>\n",
       "      <td>NaN</td>\n",
       "      <td>NaN</td>\n",
       "      <td>NaN</td>\n",
       "    </tr>\n",
       "  </tbody>\n",
       "</table>\n",
       "</div>"
      ],
      "text/plain": [
       "     directions  fat date categories  calories desc  protein  rating title  \\\n",
       "1076        NaN  NaN  NaT        NaN       NaN  NaN      NaN     NaN   NaN   \n",
       "\n",
       "     ingredients  sodium  \n",
       "1076         NaN     NaN  "
      ]
     },
     "execution_count": 592,
     "metadata": {},
     "output_type": "execute_result"
    }
   ],
   "source": [
    "# tratando valores nulos\n",
    "data[data['categories'].isna()]"
   ]
  },
  {
   "cell_type": "code",
   "execution_count": 593,
   "metadata": {},
   "outputs": [
    {
     "data": {
      "text/html": [
       "<div>\n",
       "<style scoped>\n",
       "    .dataframe tbody tr th:only-of-type {\n",
       "        vertical-align: middle;\n",
       "    }\n",
       "\n",
       "    .dataframe tbody tr th {\n",
       "        vertical-align: top;\n",
       "    }\n",
       "\n",
       "    .dataframe thead th {\n",
       "        text-align: right;\n",
       "    }\n",
       "</style>\n",
       "<table border=\"1\" class=\"dataframe\">\n",
       "  <thead>\n",
       "    <tr style=\"text-align: right;\">\n",
       "      <th></th>\n",
       "      <th>variable</th>\n",
       "      <th>missing values</th>\n",
       "      <th>filling factor (%)</th>\n",
       "    </tr>\n",
       "  </thead>\n",
       "  <tbody>\n",
       "    <tr>\n",
       "      <th>0</th>\n",
       "      <td>desc</td>\n",
       "      <td>5858</td>\n",
       "      <td>67.043601</td>\n",
       "    </tr>\n",
       "    <tr>\n",
       "      <th>1</th>\n",
       "      <td>fat</td>\n",
       "      <td>3731</td>\n",
       "      <td>79.009845</td>\n",
       "    </tr>\n",
       "    <tr>\n",
       "      <th>2</th>\n",
       "      <td>protein</td>\n",
       "      <td>3712</td>\n",
       "      <td>79.116737</td>\n",
       "    </tr>\n",
       "    <tr>\n",
       "      <th>3</th>\n",
       "      <td>sodium</td>\n",
       "      <td>3688</td>\n",
       "      <td>79.251758</td>\n",
       "    </tr>\n",
       "    <tr>\n",
       "      <th>4</th>\n",
       "      <td>calories</td>\n",
       "      <td>3687</td>\n",
       "      <td>79.257384</td>\n",
       "    </tr>\n",
       "    <tr>\n",
       "      <th>5</th>\n",
       "      <td>rating</td>\n",
       "      <td>9</td>\n",
       "      <td>99.949367</td>\n",
       "    </tr>\n",
       "    <tr>\n",
       "      <th>6</th>\n",
       "      <td>directions</td>\n",
       "      <td>0</td>\n",
       "      <td>100.000000</td>\n",
       "    </tr>\n",
       "    <tr>\n",
       "      <th>7</th>\n",
       "      <td>date</td>\n",
       "      <td>0</td>\n",
       "      <td>100.000000</td>\n",
       "    </tr>\n",
       "    <tr>\n",
       "      <th>8</th>\n",
       "      <td>categories</td>\n",
       "      <td>0</td>\n",
       "      <td>100.000000</td>\n",
       "    </tr>\n",
       "    <tr>\n",
       "      <th>9</th>\n",
       "      <td>title</td>\n",
       "      <td>0</td>\n",
       "      <td>100.000000</td>\n",
       "    </tr>\n",
       "    <tr>\n",
       "      <th>10</th>\n",
       "      <td>ingredients</td>\n",
       "      <td>0</td>\n",
       "      <td>100.000000</td>\n",
       "    </tr>\n",
       "  </tbody>\n",
       "</table>\n",
       "</div>"
      ],
      "text/plain": [
       "       variable  missing values  filling factor (%)\n",
       "0          desc            5858           67.043601\n",
       "1           fat            3731           79.009845\n",
       "2       protein            3712           79.116737\n",
       "3        sodium            3688           79.251758\n",
       "4      calories            3687           79.257384\n",
       "5        rating               9           99.949367\n",
       "6    directions               0          100.000000\n",
       "7          date               0          100.000000\n",
       "8    categories               0          100.000000\n",
       "9         title               0          100.000000\n",
       "10  ingredients               0          100.000000"
      ]
     },
     "execution_count": 593,
     "metadata": {},
     "output_type": "execute_result"
    }
   ],
   "source": [
    "# excluindo registros totalmente nulos\n",
    "data.drop(data[data['categories'].isna()].index, inplace=True)\n",
    "\n",
    "show_filling_factor(data)"
   ]
  },
  {
   "cell_type": "markdown",
   "metadata": {},
   "source": [
    "Ao que parece, quando o valor de sodium não está preenchido, o valor de calories também não é preenchido. Apenas em um casos que isso não acontece:"
   ]
  },
  {
   "cell_type": "code",
   "execution_count": 594,
   "metadata": {},
   "outputs": [
    {
     "data": {
      "text/html": [
       "<div>\n",
       "<style scoped>\n",
       "    .dataframe tbody tr th:only-of-type {\n",
       "        vertical-align: middle;\n",
       "    }\n",
       "\n",
       "    .dataframe tbody tr th {\n",
       "        vertical-align: top;\n",
       "    }\n",
       "\n",
       "    .dataframe thead th {\n",
       "        text-align: right;\n",
       "    }\n",
       "</style>\n",
       "<table border=\"1\" class=\"dataframe\">\n",
       "  <thead>\n",
       "    <tr style=\"text-align: right;\">\n",
       "      <th></th>\n",
       "      <th>directions</th>\n",
       "      <th>fat</th>\n",
       "      <th>date</th>\n",
       "      <th>categories</th>\n",
       "      <th>calories</th>\n",
       "      <th>desc</th>\n",
       "      <th>protein</th>\n",
       "      <th>rating</th>\n",
       "      <th>title</th>\n",
       "      <th>ingredients</th>\n",
       "      <th>sodium</th>\n",
       "    </tr>\n",
       "  </thead>\n",
       "  <tbody>\n",
       "    <tr>\n",
       "      <th>687</th>\n",
       "      <td>[Preheat oven to 350° F., In a baking pan toas...</td>\n",
       "      <td>0.0</td>\n",
       "      <td>2004-08-20 04:00:00+00:00</td>\n",
       "      <td>[Hazelnut, Gourmet]</td>\n",
       "      <td>4.0</td>\n",
       "      <td>None</td>\n",
       "      <td>0.0</td>\n",
       "      <td>3.75</td>\n",
       "      <td>To Toast and Skin Hazelnuts</td>\n",
       "      <td>[Hazelnuts]</td>\n",
       "      <td>NaN</td>\n",
       "    </tr>\n",
       "  </tbody>\n",
       "</table>\n",
       "</div>"
      ],
      "text/plain": [
       "                                            directions  fat  \\\n",
       "687  [Preheat oven to 350° F., In a baking pan toas...  0.0   \n",
       "\n",
       "                         date           categories  calories  desc  protein  \\\n",
       "687 2004-08-20 04:00:00+00:00  [Hazelnut, Gourmet]       4.0  None      0.0   \n",
       "\n",
       "     rating                         title  ingredients  sodium  \n",
       "687    3.75  To Toast and Skin Hazelnuts   [Hazelnuts]     NaN  "
      ]
     },
     "execution_count": 594,
     "metadata": {},
     "output_type": "execute_result"
    }
   ],
   "source": [
    "not_null_calories = data[data['calories'].notnull()]\n",
    "not_null_calories[not_null_calories['sodium'].isna()]"
   ]
  },
  {
   "cell_type": "code",
   "execution_count": 595,
   "metadata": {},
   "outputs": [],
   "source": [
    "# preenchendo os dois valores com a mediana dos valores de sodio onde o valor de calorias é 4.0\n",
    "q = 'calories == 4.0'\n",
    "data.query(q)['sodium'].median()\n",
    "data.loc[not_null_calories[not_null_calories['sodium'].isna()].index, 'sodium'] = data.query(q)['sodium'].median()"
   ]
  },
  {
   "cell_type": "code",
   "execution_count": 596,
   "metadata": {},
   "outputs": [
    {
     "data": {
      "text/plain": [
       "687    151.0\n",
       "Name: sodium, dtype: float64"
      ]
     },
     "execution_count": 596,
     "metadata": {},
     "output_type": "execute_result"
    }
   ],
   "source": [
    "data.loc[not_null_calories[not_null_calories['sodium'].isna()].index, 'sodium']"
   ]
  },
  {
   "cell_type": "code",
   "execution_count": 597,
   "metadata": {},
   "outputs": [
    {
     "data": {
      "text/plain": [
       "count    17766.000000\n",
       "mean         3.722982\n",
       "std          1.321459\n",
       "min          0.000000\n",
       "25%          3.750000\n",
       "50%          4.375000\n",
       "75%          4.375000\n",
       "max          5.000000\n",
       "Name: rating, dtype: float64"
      ]
     },
     "execution_count": 597,
     "metadata": {},
     "output_type": "execute_result"
    }
   ],
   "source": [
    "# verificando valores faltantes em rating\n",
    "data['rating'].describe()"
   ]
  },
  {
   "cell_type": "code",
   "execution_count": 598,
   "metadata": {},
   "outputs": [],
   "source": [
    "# preenchendo os valores faltantes de rating com a média \n",
    "data.loc[data[data['rating'].isna()].index, 'rating'] = data['rating'].mean()"
   ]
  },
  {
   "cell_type": "code",
   "execution_count": 599,
   "metadata": {},
   "outputs": [
    {
     "data": {
      "image/png": "[encoded data removed]",
      "text/plain": [
       "<Figure size 720x720 with 2 Axes>"
      ]
     },
     "metadata": {
      "needs_background": "light"
     },
     "output_type": "display_data"
    }
   ],
   "source": [
    "# verificando correlação entre variaveis numericas\n",
    "cols = ['rating', 'calories', 'protein', 'fat', 'sodium']\n",
    "\n",
    "plt.figure(figsize=(10,10))\n",
    "sns.heatmap(data[cols].corr(), vmax=1, square=True,annot=True,cmap='cubehelix')\n",
    "plt.title('Correlação entre rating e as informações nutricionais')\n",
    "plt.show()"
   ]
  },
  {
   "cell_type": "markdown",
   "metadata": {},
   "source": [
    "Percebe-se que os valores se correlacionam de forma positiva. "
   ]
  },
  {
   "cell_type": "code",
   "execution_count": 600,
   "metadata": {},
   "outputs": [],
   "source": [
    "# preenchendo os valores numericos com KNNImputer\n",
    "# esse passo pode ser revisitado caso precise melhorar a acurácia do modelo de classificação\n",
    "# from sklearn.impute import KNNImputer\n",
    "\n",
    "# data_to_transform = data[cols]\n",
    "\n",
    "# imputer = KNNImputer(n_neighbors=3, copy=False)\n",
    "# imputer.fit_transform(data_to_transform)\n",
    "# data_to_transform.head()"
   ]
  },
  {
   "cell_type": "code",
   "execution_count": 601,
   "metadata": {},
   "outputs": [],
   "source": [
    "# data[cols] = data_to_transform.round(decimals=1)\n",
    "# show_filling_factor(data)"
   ]
  },
  {
   "cell_type": "code",
   "execution_count": 602,
   "metadata": {},
   "outputs": [],
   "source": [
    "# dropando colunas, a principio, desnecessária\n",
    "# cols = ['desc', 'directions', 'date', 'title']\n",
    "\n",
    "# data.drop(cols, axis=1, inplace=True)\n",
    "# show_filling_factor(data)"
   ]
  },
  {
   "cell_type": "code",
   "execution_count": 603,
   "metadata": {},
   "outputs": [],
   "source": [
    "# Onehot encoding categorias e concatenar ao data\n",
    "# cat = sublists_to_binaries(data, 'categories')\n",
    "# data = pd.concat([data, cat], axis=1)\n",
    "\n",
    "# data.drop(columns='categories', inplace=True)\n",
    "# data.head()"
   ]
  },
  {
   "cell_type": "markdown",
   "metadata": {},
   "source": [
    "### fat"
   ]
  },
  {
   "cell_type": "code",
   "execution_count": 604,
   "metadata": {
    "scrolled": true
   },
   "outputs": [
    {
     "data": {
      "text/plain": [
       "mean        373.37\n",
       "std       21664.16\n",
       "min           0.00\n",
       "25%           9.00\n",
       "50%          18.00\n",
       "75%          35.00\n",
       "max     1722763.00\n",
       "Name: fat, dtype: float64"
      ]
     },
     "execution_count": 604,
     "metadata": {},
     "output_type": "execute_result"
    }
   ],
   "source": [
    "data['fat'].describe().round(decimals=2).drop('count')"
   ]
  },
  {
   "cell_type": "code",
   "execution_count": 605,
   "metadata": {},
   "outputs": [
    {
     "data": {
      "text/html": [
       "<div>\n",
       "<style scoped>\n",
       "    .dataframe tbody tr th:only-of-type {\n",
       "        vertical-align: middle;\n",
       "    }\n",
       "\n",
       "    .dataframe tbody tr th {\n",
       "        vertical-align: top;\n",
       "    }\n",
       "\n",
       "    .dataframe thead th {\n",
       "        text-align: right;\n",
       "    }\n",
       "</style>\n",
       "<table border=\"1\" class=\"dataframe\">\n",
       "  <thead>\n",
       "    <tr style=\"text-align: right;\">\n",
       "      <th></th>\n",
       "      <th>variable</th>\n",
       "      <th>missing values</th>\n",
       "      <th>filling factor (%)</th>\n",
       "    </tr>\n",
       "  </thead>\n",
       "  <tbody>\n",
       "    <tr>\n",
       "      <th>0</th>\n",
       "      <td>desc</td>\n",
       "      <td>5858</td>\n",
       "      <td>67.043601</td>\n",
       "    </tr>\n",
       "    <tr>\n",
       "      <th>1</th>\n",
       "      <td>protein</td>\n",
       "      <td>3712</td>\n",
       "      <td>79.116737</td>\n",
       "    </tr>\n",
       "    <tr>\n",
       "      <th>2</th>\n",
       "      <td>calories</td>\n",
       "      <td>3687</td>\n",
       "      <td>79.257384</td>\n",
       "    </tr>\n",
       "    <tr>\n",
       "      <th>3</th>\n",
       "      <td>sodium</td>\n",
       "      <td>3687</td>\n",
       "      <td>79.257384</td>\n",
       "    </tr>\n",
       "    <tr>\n",
       "      <th>4</th>\n",
       "      <td>directions</td>\n",
       "      <td>0</td>\n",
       "      <td>100.000000</td>\n",
       "    </tr>\n",
       "    <tr>\n",
       "      <th>5</th>\n",
       "      <td>fat</td>\n",
       "      <td>0</td>\n",
       "      <td>100.000000</td>\n",
       "    </tr>\n",
       "    <tr>\n",
       "      <th>6</th>\n",
       "      <td>date</td>\n",
       "      <td>0</td>\n",
       "      <td>100.000000</td>\n",
       "    </tr>\n",
       "    <tr>\n",
       "      <th>7</th>\n",
       "      <td>categories</td>\n",
       "      <td>0</td>\n",
       "      <td>100.000000</td>\n",
       "    </tr>\n",
       "    <tr>\n",
       "      <th>8</th>\n",
       "      <td>rating</td>\n",
       "      <td>0</td>\n",
       "      <td>100.000000</td>\n",
       "    </tr>\n",
       "    <tr>\n",
       "      <th>9</th>\n",
       "      <td>title</td>\n",
       "      <td>0</td>\n",
       "      <td>100.000000</td>\n",
       "    </tr>\n",
       "    <tr>\n",
       "      <th>10</th>\n",
       "      <td>ingredients</td>\n",
       "      <td>0</td>\n",
       "      <td>100.000000</td>\n",
       "    </tr>\n",
       "  </tbody>\n",
       "</table>\n",
       "</div>"
      ],
      "text/plain": [
       "       variable  missing values  filling factor (%)\n",
       "0          desc            5858           67.043601\n",
       "1       protein            3712           79.116737\n",
       "2      calories            3687           79.257384\n",
       "3        sodium            3687           79.257384\n",
       "4    directions               0          100.000000\n",
       "5           fat               0          100.000000\n",
       "6          date               0          100.000000\n",
       "7    categories               0          100.000000\n",
       "8        rating               0          100.000000\n",
       "9         title               0          100.000000\n",
       "10  ingredients               0          100.000000"
      ]
     },
     "execution_count": 605,
     "metadata": {},
     "output_type": "execute_result"
    }
   ],
   "source": [
    "# preenchendo valores com mediana\n",
    "data['fat'].fillna(data['fat'].median(), inplace=True)\n",
    "show_filling_factor(data)"
   ]
  },
  {
   "cell_type": "code",
   "execution_count": 606,
   "metadata": {},
   "outputs": [
    {
     "data": {
      "image/png": "[encoded data removed]",
      "text/plain": [
       "<Figure size 432x288 with 1 Axes>"
      ]
     },
     "metadata": {
      "needs_background": "light"
     },
     "output_type": "display_data"
    },
    {
     "data": {
      "image/png": "[encoded data removed]",
      "text/plain": [
       "<Figure size 432x288 with 1 Axes>"
      ]
     },
     "metadata": {
      "needs_background": "light"
     },
     "output_type": "display_data"
    }
   ],
   "source": [
    "create_hist_prob_plot(data['fat'])"
   ]
  },
  {
   "cell_type": "code",
   "execution_count": 607,
   "metadata": {},
   "outputs": [
    {
     "name": "stdout",
     "output_type": "stream",
     "text": [
      "Skewness: 83.552503\n",
      "Kurtosis: 7277.385003\n"
     ]
    }
   ],
   "source": [
    "# skewness and kurtosis\n",
    "print(\"Skewness: %f\" % data['fat'].skew())\n",
    "print(\"Kurtosis: %f\" % data['fat'].kurt())"
   ]
  },
  {
   "cell_type": "code",
   "execution_count": 608,
   "metadata": {
    "scrolled": false
   },
   "outputs": [
    {
     "data": {
      "image/png": "[encoded data removed]",
      "text/plain": [
       "<Figure size 432x288 with 1 Axes>"
      ]
     },
     "metadata": {
      "needs_background": "light"
     },
     "output_type": "display_data"
    }
   ],
   "source": [
    "# detectando outliers\n",
    "sns.boxplot(y=data['fat'])\n",
    "plt.show()"
   ]
  },
  {
   "cell_type": "code",
   "execution_count": 609,
   "metadata": {},
   "outputs": [
    {
     "data": {
      "text/plain": [
       "mean    18.31\n",
       "std     11.84\n",
       "min      0.00\n",
       "25%     11.00\n",
       "50%     18.00\n",
       "75%     21.00\n",
       "max     56.00\n",
       "Name: fat, dtype: float64"
      ]
     },
     "execution_count": 609,
     "metadata": {},
     "output_type": "execute_result"
    }
   ],
   "source": [
    "median_outlier_treatment('fat')"
   ]
  },
  {
   "cell_type": "code",
   "execution_count": 610,
   "metadata": {},
   "outputs": [
    {
     "data": {
      "image/png": "[encoded data removed]",
      "text/plain": [
       "<Figure size 432x288 with 1 Axes>"
      ]
     },
     "metadata": {
      "needs_background": "light"
     },
     "output_type": "display_data"
    },
    {
     "data": {
      "image/png": "[encoded data removed]",
      "text/plain": [
       "<Figure size 432x288 with 1 Axes>"
      ]
     },
     "metadata": {
      "needs_background": "light"
     },
     "output_type": "display_data"
    }
   ],
   "source": [
    "create_hist_prob_plot(data['fat'])"
   ]
  },
  {
   "cell_type": "code",
   "execution_count": 611,
   "metadata": {},
   "outputs": [
    {
     "data": {
      "image/png": "[encoded data removed]",
      "text/plain": [
       "<Figure size 432x288 with 1 Axes>"
      ]
     },
     "metadata": {
      "needs_background": "light"
     },
     "output_type": "display_data"
    }
   ],
   "source": [
    "sns.boxplot(y=data['fat'])\n",
    "plt.show()"
   ]
  },
  {
   "cell_type": "markdown",
   "metadata": {},
   "source": [
    "### protein"
   ]
  },
  {
   "cell_type": "code",
   "execution_count": 612,
   "metadata": {},
   "outputs": [
    {
     "data": {
      "text/plain": [
       "mean        94.57\n",
       "std       3562.18\n",
       "min          0.00\n",
       "25%          3.00\n",
       "50%          9.00\n",
       "75%         29.00\n",
       "max     236489.00\n",
       "Name: protein, dtype: float64"
      ]
     },
     "execution_count": 612,
     "metadata": {},
     "output_type": "execute_result"
    }
   ],
   "source": [
    "data['protein'].describe().round(decimals=2).drop('count')"
   ]
  },
  {
   "cell_type": "code",
   "execution_count": 613,
   "metadata": {},
   "outputs": [
    {
     "data": {
      "text/html": [
       "<div>\n",
       "<style scoped>\n",
       "    .dataframe tbody tr th:only-of-type {\n",
       "        vertical-align: middle;\n",
       "    }\n",
       "\n",
       "    .dataframe tbody tr th {\n",
       "        vertical-align: top;\n",
       "    }\n",
       "\n",
       "    .dataframe thead th {\n",
       "        text-align: right;\n",
       "    }\n",
       "</style>\n",
       "<table border=\"1\" class=\"dataframe\">\n",
       "  <thead>\n",
       "    <tr style=\"text-align: right;\">\n",
       "      <th></th>\n",
       "      <th>variable</th>\n",
       "      <th>missing values</th>\n",
       "      <th>filling factor (%)</th>\n",
       "    </tr>\n",
       "  </thead>\n",
       "  <tbody>\n",
       "    <tr>\n",
       "      <th>0</th>\n",
       "      <td>desc</td>\n",
       "      <td>5858</td>\n",
       "      <td>67.043601</td>\n",
       "    </tr>\n",
       "    <tr>\n",
       "      <th>1</th>\n",
       "      <td>calories</td>\n",
       "      <td>3687</td>\n",
       "      <td>79.257384</td>\n",
       "    </tr>\n",
       "    <tr>\n",
       "      <th>2</th>\n",
       "      <td>sodium</td>\n",
       "      <td>3687</td>\n",
       "      <td>79.257384</td>\n",
       "    </tr>\n",
       "    <tr>\n",
       "      <th>3</th>\n",
       "      <td>directions</td>\n",
       "      <td>0</td>\n",
       "      <td>100.000000</td>\n",
       "    </tr>\n",
       "    <tr>\n",
       "      <th>4</th>\n",
       "      <td>fat</td>\n",
       "      <td>0</td>\n",
       "      <td>100.000000</td>\n",
       "    </tr>\n",
       "    <tr>\n",
       "      <th>5</th>\n",
       "      <td>date</td>\n",
       "      <td>0</td>\n",
       "      <td>100.000000</td>\n",
       "    </tr>\n",
       "    <tr>\n",
       "      <th>6</th>\n",
       "      <td>categories</td>\n",
       "      <td>0</td>\n",
       "      <td>100.000000</td>\n",
       "    </tr>\n",
       "    <tr>\n",
       "      <th>7</th>\n",
       "      <td>protein</td>\n",
       "      <td>0</td>\n",
       "      <td>100.000000</td>\n",
       "    </tr>\n",
       "    <tr>\n",
       "      <th>8</th>\n",
       "      <td>rating</td>\n",
       "      <td>0</td>\n",
       "      <td>100.000000</td>\n",
       "    </tr>\n",
       "    <tr>\n",
       "      <th>9</th>\n",
       "      <td>title</td>\n",
       "      <td>0</td>\n",
       "      <td>100.000000</td>\n",
       "    </tr>\n",
       "    <tr>\n",
       "      <th>10</th>\n",
       "      <td>ingredients</td>\n",
       "      <td>0</td>\n",
       "      <td>100.000000</td>\n",
       "    </tr>\n",
       "  </tbody>\n",
       "</table>\n",
       "</div>"
      ],
      "text/plain": [
       "       variable  missing values  filling factor (%)\n",
       "0          desc            5858           67.043601\n",
       "1      calories            3687           79.257384\n",
       "2        sodium            3687           79.257384\n",
       "3    directions               0          100.000000\n",
       "4           fat               0          100.000000\n",
       "5          date               0          100.000000\n",
       "6    categories               0          100.000000\n",
       "7       protein               0          100.000000\n",
       "8        rating               0          100.000000\n",
       "9         title               0          100.000000\n",
       "10  ingredients               0          100.000000"
      ]
     },
     "execution_count": 613,
     "metadata": {},
     "output_type": "execute_result"
    }
   ],
   "source": [
    "data['protein'].fillna(data['protein'].median(), inplace=True)\n",
    "show_filling_factor(data)"
   ]
  },
  {
   "cell_type": "code",
   "execution_count": 614,
   "metadata": {},
   "outputs": [
    {
     "data": {
      "image/png": "[encoded data removed]",
      "text/plain": [
       "<Figure size 432x288 with 1 Axes>"
      ]
     },
     "metadata": {
      "needs_background": "light"
     },
     "output_type": "display_data"
    },
    {
     "data": {
      "image/png": "[encoded data removed]",
      "text/plain": [
       "<Figure size 432x288 with 1 Axes>"
      ]
     },
     "metadata": {
      "needs_background": "light"
     },
     "output_type": "display_data"
    }
   ],
   "source": [
    "create_hist_prob_plot(data['protein'])"
   ]
  },
  {
   "cell_type": "code",
   "execution_count": 615,
   "metadata": {},
   "outputs": [
    {
     "name": "stdout",
     "output_type": "stream",
     "text": [
      "Skewness: 61.903062\n",
      "Kurtosis: 4018.962753\n"
     ]
    }
   ],
   "source": [
    "# skewness and kurtosis\n",
    "print(\"Skewness: %f\" % data['protein'].skew())\n",
    "print(\"Kurtosis: %f\" % data['protein'].kurt())"
   ]
  },
  {
   "cell_type": "code",
   "execution_count": 616,
   "metadata": {},
   "outputs": [
    {
     "data": {
      "image/png": "[encoded data removed]",
      "text/plain": [
       "<Figure size 432x288 with 1 Axes>"
      ]
     },
     "metadata": {
      "needs_background": "light"
     },
     "output_type": "display_data"
    }
   ],
   "source": [
    "# detectando outliers\n",
    "sns.boxplot(y=data['protein'])\n",
    "plt.show()"
   ]
  },
  {
   "cell_type": "code",
   "execution_count": 617,
   "metadata": {},
   "outputs": [
    {
     "data": {
      "text/plain": [
       "mean    11.01\n",
       "std     10.02\n",
       "min      0.00\n",
       "25%      5.00\n",
       "50%      9.00\n",
       "75%     11.00\n",
       "max     45.00\n",
       "Name: protein, dtype: float64"
      ]
     },
     "execution_count": 617,
     "metadata": {},
     "output_type": "execute_result"
    }
   ],
   "source": [
    "median_outlier_treatment('protein')"
   ]
  },
  {
   "cell_type": "code",
   "execution_count": 618,
   "metadata": {},
   "outputs": [
    {
     "data": {
      "image/png": "[encoded data removed]",
      "text/plain": [
       "<Figure size 432x288 with 1 Axes>"
      ]
     },
     "metadata": {
      "needs_background": "light"
     },
     "output_type": "display_data"
    },
    {
     "data": {
      "image/png": "[encoded data removed]",
      "text/plain": [
       "<Figure size 432x288 with 1 Axes>"
      ]
     },
     "metadata": {
      "needs_background": "light"
     },
     "output_type": "display_data"
    }
   ],
   "source": [
    "create_hist_prob_plot(data['protein'])"
   ]
  },
  {
   "cell_type": "code",
   "execution_count": 619,
   "metadata": {},
   "outputs": [
    {
     "data": {
      "image/png": "[encoded data removed]",
      "text/plain": [
       "<Figure size 432x288 with 1 Axes>"
      ]
     },
     "metadata": {
      "needs_background": "light"
     },
     "output_type": "display_data"
    }
   ],
   "source": [
    "sns.boxplot(y=data['protein'])\n",
    "plt.show()"
   ]
  },
  {
   "cell_type": "code",
   "execution_count": 620,
   "metadata": {},
   "outputs": [
    {
     "data": {
      "text/html": [
       "<div>\n",
       "<style scoped>\n",
       "    .dataframe tbody tr th:only-of-type {\n",
       "        vertical-align: middle;\n",
       "    }\n",
       "\n",
       "    .dataframe tbody tr th {\n",
       "        vertical-align: top;\n",
       "    }\n",
       "\n",
       "    .dataframe thead th {\n",
       "        text-align: right;\n",
       "    }\n",
       "</style>\n",
       "<table border=\"1\" class=\"dataframe\">\n",
       "  <thead>\n",
       "    <tr style=\"text-align: right;\">\n",
       "      <th></th>\n",
       "      <th>variable</th>\n",
       "      <th>missing values</th>\n",
       "      <th>filling factor (%)</th>\n",
       "    </tr>\n",
       "  </thead>\n",
       "  <tbody>\n",
       "    <tr>\n",
       "      <th>0</th>\n",
       "      <td>desc</td>\n",
       "      <td>5858</td>\n",
       "      <td>67.043601</td>\n",
       "    </tr>\n",
       "    <tr>\n",
       "      <th>1</th>\n",
       "      <td>calories</td>\n",
       "      <td>3687</td>\n",
       "      <td>79.257384</td>\n",
       "    </tr>\n",
       "    <tr>\n",
       "      <th>2</th>\n",
       "      <td>sodium</td>\n",
       "      <td>3687</td>\n",
       "      <td>79.257384</td>\n",
       "    </tr>\n",
       "    <tr>\n",
       "      <th>3</th>\n",
       "      <td>directions</td>\n",
       "      <td>0</td>\n",
       "      <td>100.000000</td>\n",
       "    </tr>\n",
       "    <tr>\n",
       "      <th>4</th>\n",
       "      <td>fat</td>\n",
       "      <td>0</td>\n",
       "      <td>100.000000</td>\n",
       "    </tr>\n",
       "    <tr>\n",
       "      <th>5</th>\n",
       "      <td>date</td>\n",
       "      <td>0</td>\n",
       "      <td>100.000000</td>\n",
       "    </tr>\n",
       "    <tr>\n",
       "      <th>6</th>\n",
       "      <td>categories</td>\n",
       "      <td>0</td>\n",
       "      <td>100.000000</td>\n",
       "    </tr>\n",
       "    <tr>\n",
       "      <th>7</th>\n",
       "      <td>protein</td>\n",
       "      <td>0</td>\n",
       "      <td>100.000000</td>\n",
       "    </tr>\n",
       "    <tr>\n",
       "      <th>8</th>\n",
       "      <td>rating</td>\n",
       "      <td>0</td>\n",
       "      <td>100.000000</td>\n",
       "    </tr>\n",
       "    <tr>\n",
       "      <th>9</th>\n",
       "      <td>title</td>\n",
       "      <td>0</td>\n",
       "      <td>100.000000</td>\n",
       "    </tr>\n",
       "    <tr>\n",
       "      <th>10</th>\n",
       "      <td>ingredients</td>\n",
       "      <td>0</td>\n",
       "      <td>100.000000</td>\n",
       "    </tr>\n",
       "  </tbody>\n",
       "</table>\n",
       "</div>"
      ],
      "text/plain": [
       "       variable  missing values  filling factor (%)\n",
       "0          desc            5858           67.043601\n",
       "1      calories            3687           79.257384\n",
       "2        sodium            3687           79.257384\n",
       "3    directions               0          100.000000\n",
       "4           fat               0          100.000000\n",
       "5          date               0          100.000000\n",
       "6    categories               0          100.000000\n",
       "7       protein               0          100.000000\n",
       "8        rating               0          100.000000\n",
       "9         title               0          100.000000\n",
       "10  ingredients               0          100.000000"
      ]
     },
     "execution_count": 620,
     "metadata": {},
     "output_type": "execute_result"
    }
   ],
   "source": [
    "show_filling_factor(data)"
   ]
  },
  {
   "cell_type": "markdown",
   "metadata": {},
   "source": [
    "### calories"
   ]
  },
  {
   "cell_type": "code",
   "execution_count": 621,
   "metadata": {},
   "outputs": [
    {
     "data": {
      "text/plain": [
       "mean        6806.13\n",
       "std       380247.67\n",
       "min            0.00\n",
       "25%          208.00\n",
       "50%          351.00\n",
       "75%          605.00\n",
       "max     30111218.00\n",
       "Name: calories, dtype: float64"
      ]
     },
     "execution_count": 621,
     "metadata": {},
     "output_type": "execute_result"
    }
   ],
   "source": [
    "data['calories'].describe().round(decimals=2).drop('count')"
   ]
  },
  {
   "cell_type": "code",
   "execution_count": 622,
   "metadata": {},
   "outputs": [
    {
     "data": {
      "text/html": [
       "<div>\n",
       "<style scoped>\n",
       "    .dataframe tbody tr th:only-of-type {\n",
       "        vertical-align: middle;\n",
       "    }\n",
       "\n",
       "    .dataframe tbody tr th {\n",
       "        vertical-align: top;\n",
       "    }\n",
       "\n",
       "    .dataframe thead th {\n",
       "        text-align: right;\n",
       "    }\n",
       "</style>\n",
       "<table border=\"1\" class=\"dataframe\">\n",
       "  <thead>\n",
       "    <tr style=\"text-align: right;\">\n",
       "      <th></th>\n",
       "      <th>variable</th>\n",
       "      <th>missing values</th>\n",
       "      <th>filling factor (%)</th>\n",
       "    </tr>\n",
       "  </thead>\n",
       "  <tbody>\n",
       "    <tr>\n",
       "      <th>0</th>\n",
       "      <td>desc</td>\n",
       "      <td>5858</td>\n",
       "      <td>67.043601</td>\n",
       "    </tr>\n",
       "    <tr>\n",
       "      <th>1</th>\n",
       "      <td>sodium</td>\n",
       "      <td>3687</td>\n",
       "      <td>79.257384</td>\n",
       "    </tr>\n",
       "    <tr>\n",
       "      <th>2</th>\n",
       "      <td>directions</td>\n",
       "      <td>0</td>\n",
       "      <td>100.000000</td>\n",
       "    </tr>\n",
       "    <tr>\n",
       "      <th>3</th>\n",
       "      <td>fat</td>\n",
       "      <td>0</td>\n",
       "      <td>100.000000</td>\n",
       "    </tr>\n",
       "    <tr>\n",
       "      <th>4</th>\n",
       "      <td>date</td>\n",
       "      <td>0</td>\n",
       "      <td>100.000000</td>\n",
       "    </tr>\n",
       "    <tr>\n",
       "      <th>5</th>\n",
       "      <td>categories</td>\n",
       "      <td>0</td>\n",
       "      <td>100.000000</td>\n",
       "    </tr>\n",
       "    <tr>\n",
       "      <th>6</th>\n",
       "      <td>calories</td>\n",
       "      <td>0</td>\n",
       "      <td>100.000000</td>\n",
       "    </tr>\n",
       "    <tr>\n",
       "      <th>7</th>\n",
       "      <td>protein</td>\n",
       "      <td>0</td>\n",
       "      <td>100.000000</td>\n",
       "    </tr>\n",
       "    <tr>\n",
       "      <th>8</th>\n",
       "      <td>rating</td>\n",
       "      <td>0</td>\n",
       "      <td>100.000000</td>\n",
       "    </tr>\n",
       "    <tr>\n",
       "      <th>9</th>\n",
       "      <td>title</td>\n",
       "      <td>0</td>\n",
       "      <td>100.000000</td>\n",
       "    </tr>\n",
       "    <tr>\n",
       "      <th>10</th>\n",
       "      <td>ingredients</td>\n",
       "      <td>0</td>\n",
       "      <td>100.000000</td>\n",
       "    </tr>\n",
       "  </tbody>\n",
       "</table>\n",
       "</div>"
      ],
      "text/plain": [
       "       variable  missing values  filling factor (%)\n",
       "0          desc            5858           67.043601\n",
       "1        sodium            3687           79.257384\n",
       "2    directions               0          100.000000\n",
       "3           fat               0          100.000000\n",
       "4          date               0          100.000000\n",
       "5    categories               0          100.000000\n",
       "6      calories               0          100.000000\n",
       "7       protein               0          100.000000\n",
       "8        rating               0          100.000000\n",
       "9         title               0          100.000000\n",
       "10  ingredients               0          100.000000"
      ]
     },
     "execution_count": 622,
     "metadata": {},
     "output_type": "execute_result"
    }
   ],
   "source": [
    "data['calories'].fillna(data['calories'].median(), inplace=True)\n",
    "show_filling_factor(data)"
   ]
  },
  {
   "cell_type": "code",
   "execution_count": 623,
   "metadata": {},
   "outputs": [
    {
     "data": {
      "image/png": "[encoded data removed]",
      "text/plain": [
       "<Figure size 432x288 with 1 Axes>"
      ]
     },
     "metadata": {
      "needs_background": "light"
     },
     "output_type": "display_data"
    },
    {
     "data": {
      "image/png": "[encoded data removed]",
      "text/plain": [
       "<Figure size 432x288 with 1 Axes>"
      ]
     },
     "metadata": {
      "needs_background": "light"
     },
     "output_type": "display_data"
    }
   ],
   "source": [
    "create_hist_prob_plot(data['calories'])"
   ]
  },
  {
   "cell_type": "code",
   "execution_count": 624,
   "metadata": {},
   "outputs": [
    {
     "name": "stdout",
     "output_type": "stream",
     "text": [
      "Skewness: 82.280622\n",
      "Kurtosis: 7113.523870\n"
     ]
    }
   ],
   "source": [
    "# skewness and kurtosis\n",
    "print(\"Skewness: %f\" % data['calories'].skew())\n",
    "print(\"Kurtosis: %f\" % data['calories'].kurt())"
   ]
  },
  {
   "cell_type": "code",
   "execution_count": 625,
   "metadata": {},
   "outputs": [
    {
     "data": {
      "image/png": "[encoded data removed]",
      "text/plain": [
       "<Figure size 432x288 with 1 Axes>"
      ]
     },
     "metadata": {
      "needs_background": "light"
     },
     "output_type": "display_data"
    }
   ],
   "source": [
    "# detectando outliers\n",
    "sns.boxplot(y=data['calories'])\n",
    "plt.show()"
   ]
  },
  {
   "cell_type": "code",
   "execution_count": 626,
   "metadata": {},
   "outputs": [
    {
     "data": {
      "text/plain": [
       "mean    359.70\n",
       "std     185.01\n",
       "min       0.00\n",
       "25%     242.00\n",
       "50%     351.00\n",
       "75%     422.00\n",
       "max     939.00\n",
       "Name: calories, dtype: float64"
      ]
     },
     "execution_count": 626,
     "metadata": {},
     "output_type": "execute_result"
    }
   ],
   "source": [
    "median_outlier_treatment('calories')"
   ]
  },
  {
   "cell_type": "code",
   "execution_count": 627,
   "metadata": {},
   "outputs": [
    {
     "data": {
      "image/png": "[encoded data removed]",
      "text/plain": [
       "<Figure size 432x288 with 1 Axes>"
      ]
     },
     "metadata": {
      "needs_background": "light"
     },
     "output_type": "display_data"
    },
    {
     "data": {
      "image/png": "[encoded data removed]",
      "text/plain": [
       "<Figure size 432x288 with 1 Axes>"
      ]
     },
     "metadata": {
      "needs_background": "light"
     },
     "output_type": "display_data"
    }
   ],
   "source": [
    "create_hist_prob_plot(data['calories'])"
   ]
  },
  {
   "cell_type": "code",
   "execution_count": 628,
   "metadata": {},
   "outputs": [
    {
     "data": {
      "image/png": "[encoded data removed]",
      "text/plain": [
       "<Figure size 432x288 with 1 Axes>"
      ]
     },
     "metadata": {
      "needs_background": "light"
     },
     "output_type": "display_data"
    }
   ],
   "source": [
    "sns.boxplot(y=data['calories'])\n",
    "plt.show()"
   ]
  },
  {
   "cell_type": "markdown",
   "metadata": {},
   "source": [
    "### sodium"
   ]
  },
  {
   "cell_type": "code",
   "execution_count": 629,
   "metadata": {},
   "outputs": [
    {
     "data": {
      "text/plain": [
       "mean        6755.71\n",
       "std       353486.08\n",
       "min            0.00\n",
       "25%           92.00\n",
       "50%          310.00\n",
       "75%          740.00\n",
       "max     27675110.00\n",
       "Name: sodium, dtype: float64"
      ]
     },
     "execution_count": 629,
     "metadata": {},
     "output_type": "execute_result"
    }
   ],
   "source": [
    "data['sodium'].describe().round(decimals=2).drop('count')"
   ]
  },
  {
   "cell_type": "code",
   "execution_count": 630,
   "metadata": {},
   "outputs": [
    {
     "data": {
      "text/html": [
       "<div>\n",
       "<style scoped>\n",
       "    .dataframe tbody tr th:only-of-type {\n",
       "        vertical-align: middle;\n",
       "    }\n",
       "\n",
       "    .dataframe tbody tr th {\n",
       "        vertical-align: top;\n",
       "    }\n",
       "\n",
       "    .dataframe thead th {\n",
       "        text-align: right;\n",
       "    }\n",
       "</style>\n",
       "<table border=\"1\" class=\"dataframe\">\n",
       "  <thead>\n",
       "    <tr style=\"text-align: right;\">\n",
       "      <th></th>\n",
       "      <th>variable</th>\n",
       "      <th>missing values</th>\n",
       "      <th>filling factor (%)</th>\n",
       "    </tr>\n",
       "  </thead>\n",
       "  <tbody>\n",
       "    <tr>\n",
       "      <th>0</th>\n",
       "      <td>desc</td>\n",
       "      <td>5858</td>\n",
       "      <td>67.043601</td>\n",
       "    </tr>\n",
       "    <tr>\n",
       "      <th>1</th>\n",
       "      <td>directions</td>\n",
       "      <td>0</td>\n",
       "      <td>100.000000</td>\n",
       "    </tr>\n",
       "    <tr>\n",
       "      <th>2</th>\n",
       "      <td>fat</td>\n",
       "      <td>0</td>\n",
       "      <td>100.000000</td>\n",
       "    </tr>\n",
       "    <tr>\n",
       "      <th>3</th>\n",
       "      <td>date</td>\n",
       "      <td>0</td>\n",
       "      <td>100.000000</td>\n",
       "    </tr>\n",
       "    <tr>\n",
       "      <th>4</th>\n",
       "      <td>categories</td>\n",
       "      <td>0</td>\n",
       "      <td>100.000000</td>\n",
       "    </tr>\n",
       "    <tr>\n",
       "      <th>5</th>\n",
       "      <td>calories</td>\n",
       "      <td>0</td>\n",
       "      <td>100.000000</td>\n",
       "    </tr>\n",
       "    <tr>\n",
       "      <th>6</th>\n",
       "      <td>protein</td>\n",
       "      <td>0</td>\n",
       "      <td>100.000000</td>\n",
       "    </tr>\n",
       "    <tr>\n",
       "      <th>7</th>\n",
       "      <td>rating</td>\n",
       "      <td>0</td>\n",
       "      <td>100.000000</td>\n",
       "    </tr>\n",
       "    <tr>\n",
       "      <th>8</th>\n",
       "      <td>title</td>\n",
       "      <td>0</td>\n",
       "      <td>100.000000</td>\n",
       "    </tr>\n",
       "    <tr>\n",
       "      <th>9</th>\n",
       "      <td>ingredients</td>\n",
       "      <td>0</td>\n",
       "      <td>100.000000</td>\n",
       "    </tr>\n",
       "    <tr>\n",
       "      <th>10</th>\n",
       "      <td>sodium</td>\n",
       "      <td>0</td>\n",
       "      <td>100.000000</td>\n",
       "    </tr>\n",
       "  </tbody>\n",
       "</table>\n",
       "</div>"
      ],
      "text/plain": [
       "       variable  missing values  filling factor (%)\n",
       "0          desc            5858           67.043601\n",
       "1    directions               0          100.000000\n",
       "2           fat               0          100.000000\n",
       "3          date               0          100.000000\n",
       "4    categories               0          100.000000\n",
       "5      calories               0          100.000000\n",
       "6       protein               0          100.000000\n",
       "7        rating               0          100.000000\n",
       "8         title               0          100.000000\n",
       "9   ingredients               0          100.000000\n",
       "10       sodium               0          100.000000"
      ]
     },
     "execution_count": 630,
     "metadata": {},
     "output_type": "execute_result"
    }
   ],
   "source": [
    "data['sodium'].fillna(data['sodium'].median(), inplace=True)\n",
    "show_filling_factor(data)"
   ]
  },
  {
   "cell_type": "code",
   "execution_count": 631,
   "metadata": {},
   "outputs": [
    {
     "data": {
      "image/png": "[encoded data removed]",
      "text/plain": [
       "<Figure size 432x288 with 1 Axes>"
      ]
     },
     "metadata": {
      "needs_background": "light"
     },
     "output_type": "display_data"
    },
    {
     "data": {
      "image/png": "[encoded data removed]",
      "text/plain": [
       "<Figure size 432x288 with 1 Axes>"
      ]
     },
     "metadata": {
      "needs_background": "light"
     },
     "output_type": "display_data"
    }
   ],
   "source": [
    "create_hist_prob_plot(data['sodium'])"
   ]
  },
  {
   "cell_type": "code",
   "execution_count": 632,
   "metadata": {},
   "outputs": [
    {
     "name": "stdout",
     "output_type": "stream",
     "text": [
      "Skewness: 80.153399\n",
      "Kurtosis: 6812.883270\n"
     ]
    }
   ],
   "source": [
    "# skewness and kurtosis\n",
    "print(\"Skewness: %f\" % data['sodium'].skew())\n",
    "print(\"Kurtosis: %f\" % data['sodium'].kurt())"
   ]
  },
  {
   "cell_type": "code",
   "execution_count": 633,
   "metadata": {},
   "outputs": [
    {
     "data": {
      "image/png": "[encoded data removed]",
      "text/plain": [
       "<Figure size 432x288 with 1 Axes>"
      ]
     },
     "metadata": {
      "needs_background": "light"
     },
     "output_type": "display_data"
    }
   ],
   "source": [
    "# detectando outliers\n",
    "sns.boxplot(y=data['sodium'])\n",
    "plt.show()"
   ]
  },
  {
   "cell_type": "code",
   "execution_count": 634,
   "metadata": {},
   "outputs": [
    {
     "data": {
      "text/plain": [
       "mean     336.33\n",
       "std      275.28\n",
       "min        0.00\n",
       "25%      137.00\n",
       "50%      310.00\n",
       "75%      389.50\n",
       "max     1277.00\n",
       "Name: sodium, dtype: float64"
      ]
     },
     "execution_count": 634,
     "metadata": {},
     "output_type": "execute_result"
    }
   ],
   "source": [
    "median_outlier_treatment('sodium')"
   ]
  },
  {
   "cell_type": "code",
   "execution_count": 635,
   "metadata": {},
   "outputs": [
    {
     "data": {
      "image/png": "[encoded data removed]",
      "text/plain": [
       "<Figure size 432x288 with 1 Axes>"
      ]
     },
     "metadata": {
      "needs_background": "light"
     },
     "output_type": "display_data"
    },
    {
     "data": {
      "image/png": "[encoded data removed]",
      "text/plain": [
       "<Figure size 432x288 with 1 Axes>"
      ]
     },
     "metadata": {
      "needs_background": "light"
     },
     "output_type": "display_data"
    }
   ],
   "source": [
    "create_hist_prob_plot(data['sodium'])"
   ]
  },
  {
   "cell_type": "code",
   "execution_count": 636,
   "metadata": {
    "scrolled": true
   },
   "outputs": [
    {
     "data": {
      "image/png": "[encoded data removed]",
      "text/plain": [
       "<Figure size 432x288 with 1 Axes>"
      ]
     },
     "metadata": {
      "needs_background": "light"
     },
     "output_type": "display_data"
    }
   ],
   "source": [
    "sns.boxplot(y=data['sodium'])\n",
    "plt.show()"
   ]
  },
  {
   "cell_type": "markdown",
   "metadata": {},
   "source": [
    "### rating"
   ]
  },
  {
   "cell_type": "code",
   "execution_count": 637,
   "metadata": {},
   "outputs": [
    {
     "data": {
      "text/plain": [
       "mean    3.72\n",
       "std     1.32\n",
       "min     0.00\n",
       "25%     3.75\n",
       "50%     4.38\n",
       "75%     4.38\n",
       "max     5.00\n",
       "Name: rating, dtype: float64"
      ]
     },
     "execution_count": 637,
     "metadata": {},
     "output_type": "execute_result"
    }
   ],
   "source": [
    "data['rating'].describe().round(decimals=2).drop('count')"
   ]
  },
  {
   "cell_type": "code",
   "execution_count": 638,
   "metadata": {},
   "outputs": [
    {
     "data": {
      "image/png": "[encoded data removed]",
      "text/plain": [
       "<Figure size 432x288 with 1 Axes>"
      ]
     },
     "metadata": {
      "needs_background": "light"
     },
     "output_type": "display_data"
    },
    {
     "data": {
      "image/png": "[encoded data removed]",
      "text/plain": [
       "<Figure size 432x288 with 1 Axes>"
      ]
     },
     "metadata": {
      "needs_background": "light"
     },
     "output_type": "display_data"
    }
   ],
   "source": [
    "create_hist_prob_plot(data['rating'])"
   ]
  },
  {
   "cell_type": "code",
   "execution_count": 639,
   "metadata": {},
   "outputs": [
    {
     "name": "stdout",
     "output_type": "stream",
     "text": [
      "Skewness: -1.910152\n",
      "Kurtosis: 2.861458\n"
     ]
    }
   ],
   "source": [
    "# skewness and kurtosis\n",
    "print(\"Skewness: %f\" % data['rating'].skew())\n",
    "print(\"Kurtosis: %f\" % data['rating'].kurt())"
   ]
  },
  {
   "cell_type": "code",
   "execution_count": 640,
   "metadata": {},
   "outputs": [
    {
     "data": {
      "image/png": "[encoded data removed]",
      "text/plain": [
       "<Figure size 432x288 with 1 Axes>"
      ]
     },
     "metadata": {
      "needs_background": "light"
     },
     "output_type": "display_data"
    }
   ],
   "source": [
    "# detectando outliers\n",
    "sns.boxplot(y=data['rating'])\n",
    "plt.show()"
   ]
  },
  {
   "cell_type": "markdown",
   "metadata": {},
   "source": [
    "### categories"
   ]
  },
  {
   "cell_type": "code",
   "execution_count": 641,
   "metadata": {},
   "outputs": [
    {
     "data": {
      "image/png": "[encoded data removed]",
      "text/plain": [
       "<Figure size 720x576 with 1 Axes>"
      ]
     },
     "metadata": {
      "needs_background": "light"
     },
     "output_type": "display_data"
    }
   ],
   "source": [
    "# Quantas vezes cada categoria aparece\n",
    "cat = count_sublist_values(data, 'categories')\n",
    "\n",
    "# plot top 10 categorias usadas\n",
    "plt.figure(figsize=(10,8))\n",
    "cat.value_counts().nlargest(10).plot.bar(5)\n",
    "plt.show()"
   ]
  },
  {
   "cell_type": "code",
   "execution_count": 718,
   "metadata": {},
   "outputs": [
    {
     "name": "stdout",
     "output_type": "stream",
     "text": [
      "Um total de 673 categorias\n"
     ]
    }
   ],
   "source": [
    "unique_cat = sublist_uniques(data, 'categories')\n",
    "print('Um total de {} categorias'.format(len(unique_cat)))"
   ]
  },
  {
   "cell_type": "code",
   "execution_count": 719,
   "metadata": {},
   "outputs": [
    {
     "data": {
      "text/plain": [
       "Peanut Free        3\n",
       "Soy Free           3\n",
       "Tree Nut Free      2\n",
       "Parmesan           2\n",
       "Vegetarian         2\n",
       "Pescatarian        2\n",
       "Fall               2\n",
       "Bake               2\n",
       "Roast              2\n",
       "Christmas          2\n",
       "Dessert            2\n",
       "Kosher             2\n",
       "Winter             1\n",
       "Chocolate          1\n",
       "Chicken            1\n",
       "Bread              1\n",
       "Dinner             1\n",
       "Hazelnut           1\n",
       "Sauté              1\n",
       "Mixer              1\n",
       "Marinate           1\n",
       "Chestnut           1\n",
       "Pork               1\n",
       "Gourmet            1\n",
       "Kid-Friendly       1\n",
       "Poultry            1\n",
       "Cognac/Armagnac    1\n",
       "Thanksgiving       1\n",
       "Breakfast          1\n",
       "Dairy Free         1\n",
       "Fruit              1\n",
       "Bon Appétit        1\n",
       "Lemongrass         1\n",
       "Ginger             1\n",
       "Prune              1\n",
       "turkey             1\n",
       "Cake               1\n",
       "White Wine         1\n",
       "Potato             1\n",
       "Nut                1\n",
       "Kumquat            1\n",
       "dtype: int64"
      ]
     },
     "execution_count": 719,
     "metadata": {},
     "output_type": "execute_result"
    }
   ],
   "source": [
    "# 5 receitas mais caloricas e suas categorias\n",
    "cal_receipts = data.nlargest(5, columns='calories')\n",
    "cal_receipts_unique_cat = count_sublist_values(cal_receipts, 'categories')\n",
    "cal_receipts_unique_cat.value_counts()"
   ]
  },
  {
   "cell_type": "markdown",
   "metadata": {},
   "source": [
    "### ingredients"
   ]
  },
  {
   "cell_type": "code",
   "execution_count": 650,
   "metadata": {},
   "outputs": [],
   "source": [
    "data.reset_index(drop=True, inplace=True)\n",
    "\n",
    "# extraindo ingredientes de cada registro\n",
    "recipe_ingredients = [] # armazena os ingredientes de cada receita\n",
    "ingredients_list = [] # lista com todos ingredientes presentes nos dados\n",
    "\n",
    "for i in range(len(data['ingredients'])):\n",
    "    recipe_ingredients.append([])\n",
    "    \n",
    "    for j in range(len(data['ingredients'][i])):\n",
    "        tokenized_ingredients = nltk.word_tokenize(data['ingredients'][i][j])\n",
    "        \n",
    "        # lista de tags https://www.ling.upenn.edu/courses/Fall_2003/ling001/penn_treebank_pos.html    \n",
    "        tagged_ingredients = nltk.pos_tag(tokenized_ingredients)         \n",
    "        tagged_ingredients = [k for k in tagged_ingredients if (k[1] == 'NN' or k[1] == 'NNS') and (re.match('[^0-9]', k[0]))]\n",
    "        tagged_ingredients = tagged_ingredients[-1:]\n",
    "        \n",
    "        if len(tagged_ingredients) != 0:\n",
    "            recipe_ingredients[i].append(tagged_ingredients[0][0]) # adicionando apenas o token\n",
    "            ingredients_list.append(tagged_ingredients[0][0])"
   ]
  },
  {
   "cell_type": "code",
   "execution_count": 653,
   "metadata": {},
   "outputs": [],
   "source": [
    "# Quais os top 10 ingredientes contidos nas receitas mais calóricas?\n",
    "ingredients = pd.Series(recipe_ingredients, name='recipe_ingredients')\n",
    "data = pd.concat([data, ingredients], axis=1)\n",
    "data.head()"
   ]
  },
  {
   "cell_type": "code",
   "execution_count": 715,
   "metadata": {},
   "outputs": [
    {
     "data": {
      "image/png": "[encoded data removed]",
      "text/plain": [
       "<Figure size 432x288 with 1 Axes>"
      ]
     },
     "metadata": {
      "needs_background": "light"
     },
     "output_type": "display_data"
    }
   ],
   "source": [
    "cal_receipts = data.nlargest(5, columns='calories')\n",
    "cal_receipts_unique_ing = count_sublist_values(cal_receipts, 'recipe_ingredients')\n",
    "cal_receipts_unique_ing.value_counts().nlargest(10, keep='all').plot.bar() \n",
    "plt.show()"
   ]
  },
  {
   "cell_type": "code",
   "execution_count": 692,
   "metadata": {},
   "outputs": [
    {
     "data": {
      "text/html": [
       "<div>\n",
       "<style scoped>\n",
       "    .dataframe tbody tr th:only-of-type {\n",
       "        vertical-align: middle;\n",
       "    }\n",
       "\n",
       "    .dataframe tbody tr th {\n",
       "        vertical-align: top;\n",
       "    }\n",
       "\n",
       "    .dataframe thead th {\n",
       "        text-align: right;\n",
       "    }\n",
       "</style>\n",
       "<table border=\"1\" class=\"dataframe\">\n",
       "  <thead>\n",
       "    <tr style=\"text-align: right;\">\n",
       "      <th></th>\n",
       "      <th>directions</th>\n",
       "      <th>fat</th>\n",
       "      <th>date</th>\n",
       "      <th>categories</th>\n",
       "      <th>calories</th>\n",
       "      <th>desc</th>\n",
       "      <th>protein</th>\n",
       "      <th>rating</th>\n",
       "      <th>title</th>\n",
       "      <th>ingredients</th>\n",
       "      <th>sodium</th>\n",
       "      <th>recipe_ingredients</th>\n",
       "    </tr>\n",
       "  </thead>\n",
       "  <tbody>\n",
       "    <tr>\n",
       "      <th>4664</th>\n",
       "      <td>[Arrange a rack in center of oven; preheat to ...</td>\n",
       "      <td>18.0</td>\n",
       "      <td>2016-11-27 18:46:20.583000+00:00</td>\n",
       "      <td>[Vegetarian, Rice, Dinner, Orange, Parsnip, Ri...</td>\n",
       "      <td>935.0</td>\n",
       "      <td>This simple rice salad combines hearty parsnip...</td>\n",
       "      <td>18.0</td>\n",
       "      <td>5.0</td>\n",
       "      <td>Vegetarian Brown Rice Salad With Parsnips and ...</td>\n",
       "      <td>[3/4 cup short-grain brown rice, 3/4 cup plus ...</td>\n",
       "      <td>1061.0</td>\n",
       "      <td>[rice, oil, salt, oranges, coins, clove, sprig...</td>\n",
       "    </tr>\n",
       "    <tr>\n",
       "      <th>15619</th>\n",
       "      <td>[Working one at a time, place turkey breast, s...</td>\n",
       "      <td>36.0</td>\n",
       "      <td>2016-11-24 02:46:00+00:00</td>\n",
       "      <td>[Friendsgiving, Thanksgiving, Dinner, Butternu...</td>\n",
       "      <td>631.0</td>\n",
       "      <td>For maximum juiciness and flavor, pound and se...</td>\n",
       "      <td>9.0</td>\n",
       "      <td>5.0</td>\n",
       "      <td>Stuffed Turkey Breast With Butternut Squash, K...</td>\n",
       "      <td>[2 (3-pound) skin-on, boneless turkey breasts,...</td>\n",
       "      <td>310.0</td>\n",
       "      <td>[breasts, salt, pepper, fennel, oil, casings, ...</td>\n",
       "    </tr>\n",
       "    <tr>\n",
       "      <th>8486</th>\n",
       "      <td>[Heat milk in a small saucepan over low until ...</td>\n",
       "      <td>5.0</td>\n",
       "      <td>2016-11-23 20:30:00+00:00</td>\n",
       "      <td>[Bread, Dinner, Christmas, Thanksgiving, Bake,...</td>\n",
       "      <td>122.0</td>\n",
       "      <td>One simple master recipe, based on a classic F...</td>\n",
       "      <td>2.0</td>\n",
       "      <td>5.0</td>\n",
       "      <td>Dinner Rolls Six Ways</td>\n",
       "      <td>[1/2 cup whole milk, 1 (1/4-ounce) envelope ac...</td>\n",
       "      <td>243.0</td>\n",
       "      <td>[milk, teaspoons, salt, flour, honey, tablespo...</td>\n",
       "    </tr>\n",
       "    <tr>\n",
       "      <th>6323</th>\n",
       "      <td>[Heat butter and brown sugar in a small saucep...</td>\n",
       "      <td>26.0</td>\n",
       "      <td>2016-11-22 17:36:17.100000+00:00</td>\n",
       "      <td>[Bon Appétit, Thanksgiving, Pie, Sweet Potato/...</td>\n",
       "      <td>409.0</td>\n",
       "      <td>We tested this pie recipe with canned sweet po...</td>\n",
       "      <td>6.0</td>\n",
       "      <td>5.0</td>\n",
       "      <td>Sweet Potato–Miso Pie With Chocolate-Sesame Cr...</td>\n",
       "      <td>[6 tablespoons unsalted butter, 1/4 cup (packe...</td>\n",
       "      <td>334.0</td>\n",
       "      <td>[butter, sugar, seeds, pieces, salt, pound, su...</td>\n",
       "    </tr>\n",
       "    <tr>\n",
       "      <th>17265</th>\n",
       "      <td>[Preheat oven to 300°F. Butter a shallow 13x9\"...</td>\n",
       "      <td>36.0</td>\n",
       "      <td>2016-11-21 23:33:04.148000+00:00</td>\n",
       "      <td>[Bon Appétit, Thanksgiving, Stuffing/Dressing,...</td>\n",
       "      <td>549.0</td>\n",
       "      <td>This holiday-worthy recipe was inspired by bre...</td>\n",
       "      <td>23.0</td>\n",
       "      <td>5.0</td>\n",
       "      <td>Cheesy Sausage and Sage Stuffing</td>\n",
       "      <td>[2 tablespoons unsalted butter, plus more, 1 m...</td>\n",
       "      <td>865.0</td>\n",
       "      <td>[butter, cups, oil, casings, onions, stalks, s...</td>\n",
       "    </tr>\n",
       "    <tr>\n",
       "      <th>...</th>\n",
       "      <td>...</td>\n",
       "      <td>...</td>\n",
       "      <td>...</td>\n",
       "      <td>...</td>\n",
       "      <td>...</td>\n",
       "      <td>...</td>\n",
       "      <td>...</td>\n",
       "      <td>...</td>\n",
       "      <td>...</td>\n",
       "      <td>...</td>\n",
       "      <td>...</td>\n",
       "      <td>...</td>\n",
       "    </tr>\n",
       "    <tr>\n",
       "      <th>13376</th>\n",
       "      <td>[Bring sugar and 1 cup water to a boil in a me...</td>\n",
       "      <td>18.0</td>\n",
       "      <td>2016-05-19 19:15:11.511000+00:00</td>\n",
       "      <td>[Bon Appétit, Cocktail, Punch, Tequila, Jalape...</td>\n",
       "      <td>351.0</td>\n",
       "      <td>We love the citrusy sour flavor of hibiscus, n...</td>\n",
       "      <td>9.0</td>\n",
       "      <td>5.0</td>\n",
       "      <td>Pineapple-Hibiscus Cocktail</td>\n",
       "      <td>[1 1/4 cups sugar, 1 pineapple, peeled, cut in...</td>\n",
       "      <td>310.0</td>\n",
       "      <td>[sugar, pieces, vinegar, flowers, rounds, mint...</td>\n",
       "    </tr>\n",
       "    <tr>\n",
       "      <th>1249</th>\n",
       "      <td>[Preheat oven to 350°F. Toast sunflower seeds ...</td>\n",
       "      <td>19.0</td>\n",
       "      <td>2016-05-19 17:42:56.460000+00:00</td>\n",
       "      <td>[Bon Appétit, Cookies, Bake, Chocolate, Coconu...</td>\n",
       "      <td>312.0</td>\n",
       "      <td>One of those dreamy cookies elicits a silent r...</td>\n",
       "      <td>4.0</td>\n",
       "      <td>5.0</td>\n",
       "      <td>Double and By Double I Mean Triple Chocolate C...</td>\n",
       "      <td>[1/2 cup raw sunflower seeds, 8 ounces bitters...</td>\n",
       "      <td>214.0</td>\n",
       "      <td>[seeds, chocolate, chocolate, flour, powder, p...</td>\n",
       "    </tr>\n",
       "    <tr>\n",
       "      <th>1024</th>\n",
       "      <td>[Preheat oven to 350°F. Lightly coat two 9\"-di...</td>\n",
       "      <td>39.0</td>\n",
       "      <td>2016-05-19 17:10:00.187000+00:00</td>\n",
       "      <td>[Bon Appétit, Cake, Carrot, Spring, Spice, Cre...</td>\n",
       "      <td>738.0</td>\n",
       "      <td>This is the only carrot cake recipe you’ll eve...</td>\n",
       "      <td>8.0</td>\n",
       "      <td>5.0</td>\n",
       "      <td>BA's Best Carrot Cake</td>\n",
       "      <td>[Nonstick vegetable oil spray, 1/2 cup golden ...</td>\n",
       "      <td>586.0</td>\n",
       "      <td>[spray, raisins, rum, walnuts, carrots, temper...</td>\n",
       "    </tr>\n",
       "    <tr>\n",
       "      <th>16971</th>\n",
       "      <td>[Preheat oven to 275°F. Bring ancho chiles and...</td>\n",
       "      <td>18.0</td>\n",
       "      <td>2016-05-19 15:14:18.076000+00:00</td>\n",
       "      <td>[Bon Appétit, Dinner, Lamb, Braise, Chile Pepp...</td>\n",
       "      <td>351.0</td>\n",
       "      <td>Though Birrieria Zaragoza in Chicago uses goat...</td>\n",
       "      <td>9.0</td>\n",
       "      <td>5.0</td>\n",
       "      <td>Braised Birria</td>\n",
       "      <td>[4 ounces ancho chiles (about 10), seeds remov...</td>\n",
       "      <td>310.0</td>\n",
       "      <td>[chiles, peanuts, seeds, peppercorns, powder, ...</td>\n",
       "    </tr>\n",
       "    <tr>\n",
       "      <th>8004</th>\n",
       "      <td>[Heat oil in a large skillet over medium. Cook...</td>\n",
       "      <td>31.0</td>\n",
       "      <td>2016-05-19 15:10:27.540000+00:00</td>\n",
       "      <td>[Bon Appétit, Clam, Chickpea, Dinner, Garlic, ...</td>\n",
       "      <td>824.0</td>\n",
       "      <td>A dead-simple shellfish dish that is pure Eric...</td>\n",
       "      <td>9.0</td>\n",
       "      <td>5.0</td>\n",
       "      <td>Steamed Clams With Chickpeas and Green Garlic</td>\n",
       "      <td>[2 tablespoons olive oil, 2 green garlic bulbs...</td>\n",
       "      <td>310.0</td>\n",
       "      <td>[oil, cloves, wine, cream, juice, clams, fraîc...</td>\n",
       "    </tr>\n",
       "  </tbody>\n",
       "</table>\n",
       "<p>100 rows × 12 columns</p>\n",
       "</div>"
      ],
      "text/plain": [
       "                                              directions   fat  \\\n",
       "4664   [Arrange a rack in center of oven; preheat to ...  18.0   \n",
       "15619  [Working one at a time, place turkey breast, s...  36.0   \n",
       "8486   [Heat milk in a small saucepan over low until ...   5.0   \n",
       "6323   [Heat butter and brown sugar in a small saucep...  26.0   \n",
       "17265  [Preheat oven to 300°F. Butter a shallow 13x9\"...  36.0   \n",
       "...                                                  ...   ...   \n",
       "13376  [Bring sugar and 1 cup water to a boil in a me...  18.0   \n",
       "1249   [Preheat oven to 350°F. Toast sunflower seeds ...  19.0   \n",
       "1024   [Preheat oven to 350°F. Lightly coat two 9\"-di...  39.0   \n",
       "16971  [Preheat oven to 275°F. Bring ancho chiles and...  18.0   \n",
       "8004   [Heat oil in a large skillet over medium. Cook...  31.0   \n",
       "\n",
       "                                  date  \\\n",
       "4664  2016-11-27 18:46:20.583000+00:00   \n",
       "15619        2016-11-24 02:46:00+00:00   \n",
       "8486         2016-11-23 20:30:00+00:00   \n",
       "6323  2016-11-22 17:36:17.100000+00:00   \n",
       "17265 2016-11-21 23:33:04.148000+00:00   \n",
       "...                                ...   \n",
       "13376 2016-05-19 19:15:11.511000+00:00   \n",
       "1249  2016-05-19 17:42:56.460000+00:00   \n",
       "1024  2016-05-19 17:10:00.187000+00:00   \n",
       "16971 2016-05-19 15:14:18.076000+00:00   \n",
       "8004  2016-05-19 15:10:27.540000+00:00   \n",
       "\n",
       "                                              categories  calories  \\\n",
       "4664   [Vegetarian, Rice, Dinner, Orange, Parsnip, Ri...     935.0   \n",
       "15619  [Friendsgiving, Thanksgiving, Dinner, Butternu...     631.0   \n",
       "8486   [Bread, Dinner, Christmas, Thanksgiving, Bake,...     122.0   \n",
       "6323   [Bon Appétit, Thanksgiving, Pie, Sweet Potato/...     409.0   \n",
       "17265  [Bon Appétit, Thanksgiving, Stuffing/Dressing,...     549.0   \n",
       "...                                                  ...       ...   \n",
       "13376  [Bon Appétit, Cocktail, Punch, Tequila, Jalape...     351.0   \n",
       "1249   [Bon Appétit, Cookies, Bake, Chocolate, Coconu...     312.0   \n",
       "1024   [Bon Appétit, Cake, Carrot, Spring, Spice, Cre...     738.0   \n",
       "16971  [Bon Appétit, Dinner, Lamb, Braise, Chile Pepp...     351.0   \n",
       "8004   [Bon Appétit, Clam, Chickpea, Dinner, Garlic, ...     824.0   \n",
       "\n",
       "                                                    desc  protein  rating  \\\n",
       "4664   This simple rice salad combines hearty parsnip...     18.0     5.0   \n",
       "15619  For maximum juiciness and flavor, pound and se...      9.0     5.0   \n",
       "8486   One simple master recipe, based on a classic F...      2.0     5.0   \n",
       "6323   We tested this pie recipe with canned sweet po...      6.0     5.0   \n",
       "17265  This holiday-worthy recipe was inspired by bre...     23.0     5.0   \n",
       "...                                                  ...      ...     ...   \n",
       "13376  We love the citrusy sour flavor of hibiscus, n...      9.0     5.0   \n",
       "1249   One of those dreamy cookies elicits a silent r...      4.0     5.0   \n",
       "1024   This is the only carrot cake recipe you’ll eve...      8.0     5.0   \n",
       "16971  Though Birrieria Zaragoza in Chicago uses goat...      9.0     5.0   \n",
       "8004   A dead-simple shellfish dish that is pure Eric...      9.0     5.0   \n",
       "\n",
       "                                                   title  \\\n",
       "4664   Vegetarian Brown Rice Salad With Parsnips and ...   \n",
       "15619  Stuffed Turkey Breast With Butternut Squash, K...   \n",
       "8486                              Dinner Rolls Six Ways    \n",
       "6323   Sweet Potato–Miso Pie With Chocolate-Sesame Cr...   \n",
       "17265                  Cheesy Sausage and Sage Stuffing    \n",
       "...                                                  ...   \n",
       "13376                       Pineapple-Hibiscus Cocktail    \n",
       "1249   Double and By Double I Mean Triple Chocolate C...   \n",
       "1024                              BA's Best Carrot Cake    \n",
       "16971                                    Braised Birria    \n",
       "8004      Steamed Clams With Chickpeas and Green Garlic    \n",
       "\n",
       "                                             ingredients  sodium  \\\n",
       "4664   [3/4 cup short-grain brown rice, 3/4 cup plus ...  1061.0   \n",
       "15619  [2 (3-pound) skin-on, boneless turkey breasts,...   310.0   \n",
       "8486   [1/2 cup whole milk, 1 (1/4-ounce) envelope ac...   243.0   \n",
       "6323   [6 tablespoons unsalted butter, 1/4 cup (packe...   334.0   \n",
       "17265  [2 tablespoons unsalted butter, plus more, 1 m...   865.0   \n",
       "...                                                  ...     ...   \n",
       "13376  [1 1/4 cups sugar, 1 pineapple, peeled, cut in...   310.0   \n",
       "1249   [1/2 cup raw sunflower seeds, 8 ounces bitters...   214.0   \n",
       "1024   [Nonstick vegetable oil spray, 1/2 cup golden ...   586.0   \n",
       "16971  [4 ounces ancho chiles (about 10), seeds remov...   310.0   \n",
       "8004   [2 tablespoons olive oil, 2 green garlic bulbs...   310.0   \n",
       "\n",
       "                                      recipe_ingredients  \n",
       "4664   [rice, oil, salt, oranges, coins, clove, sprig...  \n",
       "15619  [breasts, salt, pepper, fennel, oil, casings, ...  \n",
       "8486   [milk, teaspoons, salt, flour, honey, tablespo...  \n",
       "6323   [butter, sugar, seeds, pieces, salt, pound, su...  \n",
       "17265  [butter, cups, oil, casings, onions, stalks, s...  \n",
       "...                                                  ...  \n",
       "13376  [sugar, pieces, vinegar, flowers, rounds, mint...  \n",
       "1249   [seeds, chocolate, chocolate, flour, powder, p...  \n",
       "1024   [spray, raisins, rum, walnuts, carrots, temper...  \n",
       "16971  [chiles, peanuts, seeds, peppercorns, powder, ...  \n",
       "8004   [oil, cloves, wine, cream, juice, clams, fraîc...  \n",
       "\n",
       "[100 rows x 12 columns]"
      ]
     },
     "execution_count": 692,
     "metadata": {},
     "output_type": "execute_result"
    }
   ],
   "source": [
    "# Considerando-se as categorias das top 100 receitas em avaliação, quantas receitas há atualmente no site https://www.epicurious.com para cada categoria\n",
    "# usando as ultimas de acordo com a data\n",
    "top_100_rating_recipe = data.sort_values('date', ascending=False).nlargest(100, columns='rating')\n",
    "top_100_rating_recipe"
   ]
  },
  {
   "cell_type": "code",
   "execution_count": 697,
   "metadata": {
    "scrolled": true
   },
   "outputs": [
    {
     "data": {
      "text/plain": [
       "Index(['Bon Appétit', 'Dinner', 'Summer', 'Peanut Free', 'Soy Free',\n",
       "       'Vegetarian', 'Dessert', 'Wheat/Gluten-Free', 'Tree Nut Free',\n",
       "       'Pescatarian', 'Kosher', 'Garlic', 'Thanksgiving', 'Chile Pepper',\n",
       "       'HarperCollins', 'Salad', 'Tomato', 'Dairy Free', 'No Sugar Added',\n",
       "       'Chicken', 'Bake', 'Lime Juice', 'Fall', 'Pork', 'Kidney Friendly',\n",
       "       'Breakfast', 'Chocolate', 'Cilantro', 'Milk/Cream', 'Pie', 'Herb',\n",
       "       'Side', 'Quick & Easy', 'Roast', 'Bread', 'Ginger', 'Egg', 'Christmas',\n",
       "       'Braise', 'Butterscotch/Caramel', 'Seed', 'Cheese', 'Sweet Potato/Yam',\n",
       "       'Fish', 'Brunch', 'Coconut', 'Basil', 'Winter', 'Lunch', 'Mint',\n",
       "       'Green Onion/Scallion', 'Lemon', 'Appetizer', 'Quick and Healthy',\n",
       "       'Peach', 'Buttermilk', 'Fennel', 'Kale', 'Cumin', 'Grill', 'Seafood',\n",
       "       'Pasta', 'Soup/Stew', 'Corn', 'Ice Cream', 'Goat Cheese', 'Hot Pepper',\n",
       "       'Spice', 'Coriander', 'Cucumber', 'Maple Syrup', 'Sugar Conscious',\n",
       "       'Lemon Juice', 'Almond', 'Capers', 'Butternut Squash', 'Melon', 'Vegan',\n",
       "       'Vinegar', 'Jalapeño', 'Onion', 'Bourbon', 'Paleo', 'Zucchini', 'Cake',\n",
       "       'Shallot', 'Lamb', 'Rosemary', 'Carrot', 'Cream Cheese', 'Blueberry',\n",
       "       'Parsley', 'Cocktail', 'Parmesan', 'Shellfish', 'Pastry', 'Ham',\n",
       "       'Radish', 'Chard', 'Whiskey'],\n",
       "      dtype='object')"
      ]
     },
     "execution_count": 697,
     "metadata": {},
     "output_type": "execute_result"
    }
   ],
   "source": [
    "top_100_cat_recipe = count_sublist_values(top_100_rating_recipe, 'categories')\n",
    "\n",
    "# top 100 categorias das top 100 receitas em avaliação\n",
    "top_100_cat_recipe.value_counts().nlargest(100).index"
   ]
  },
  {
   "cell_type": "code",
   "execution_count": 712,
   "metadata": {},
   "outputs": [
    {
     "name": "stdout",
     "output_type": "stream",
     "text": [
      "Bon Appétit\n",
      "8470 receitas.\n",
      "\n",
      "Dinner\n",
      "2535 receitas.\n",
      "\n",
      "Summer\n",
      "3762 receitas.\n",
      "\n",
      "Peanut Free\n",
      "7564 receitas.\n",
      "\n",
      "Soy Free\n",
      "7279 receitas.\n",
      "\n",
      "Vegetarian\n",
      "6027 receitas.\n",
      "\n",
      "Dessert\n",
      "3153 receitas.\n",
      "\n",
      "Wheat/Gluten-Free\n",
      "4357 receitas.\n",
      "\n",
      "Tree Nut Free\n",
      "6302 receitas.\n",
      "\n",
      "Pescatarian\n",
      "5399 receitas.\n",
      "\n",
      "Kosher\n",
      "5511 receitas.\n",
      "\n",
      "Garlic\n",
      "1438 receitas.\n",
      "\n",
      "Thanksgiving\n",
      "1228 receitas.\n",
      "\n",
      "Chile Pepper\n",
      "210 receitas.\n",
      "\n",
      "HarperCollins\n",
      "117 receitas.\n",
      "\n",
      "Salad\n",
      "1432 receitas.\n",
      "\n",
      "Tomato\n",
      "1961 receitas.\n",
      "\n",
      "Dairy Free\n",
      "2853 receitas.\n",
      "\n",
      "No Sugar Added\n",
      "2792 receitas.\n",
      "\n",
      "Chicken\n",
      "1240 receitas.\n",
      "\n",
      "Bake\n",
      "4035 receitas.\n",
      "\n",
      "Lime Juice\n",
      "118 receitas.\n",
      "\n",
      "Fall\n",
      "2676 receitas.\n",
      "\n",
      "Pork\n",
      "872 receitas.\n",
      "\n",
      "Kidney Friendly\n",
      "1955 receitas.\n",
      "\n",
      "Breakfast\n",
      "677 receitas.\n",
      "\n",
      "Chocolate\n",
      "769 receitas.\n",
      "\n",
      "Cilantro\n",
      "532 receitas.\n",
      "\n",
      "Milk/Cream\n",
      "1791 receitas.\n",
      "\n",
      "Pie\n",
      "20 receitas.\n",
      "\n",
      "Herb\n",
      "1490 receitas.\n",
      "\n",
      "Side\n",
      "2710 receitas.\n",
      "\n",
      "Quick & Easy\n",
      "4728 receitas.\n",
      "\n",
      "Roast\n",
      "1173 receitas.\n",
      "\n",
      "Bread\n",
      "428 receitas.\n",
      "\n",
      "Ginger\n",
      "1030 receitas.\n",
      "\n",
      "Egg\n",
      "1599 receitas.\n",
      "\n",
      "Christmas\n",
      "897 receitas.\n",
      "\n",
      "Braise\n",
      "302 receitas.\n",
      "\n",
      "Butterscotch/Caramel\n",
      "12 receitas.\n",
      "\n",
      "Seed\n",
      "130 receitas.\n",
      "\n",
      "Cheese\n",
      "1273 receitas.\n",
      "\n",
      "Sweet Potato/Yam\n",
      "270 receitas.\n",
      "\n",
      "Fish\n",
      "872 receitas.\n",
      "\n",
      "Brunch\n",
      "783 receitas.\n",
      "\n",
      "Coconut\n",
      "337 receitas.\n",
      "\n",
      "Basil\n",
      "521 receitas.\n",
      "\n",
      "Winter\n",
      "2768 receitas.\n",
      "\n",
      "Lunch\n",
      "1284 receitas.\n",
      "\n",
      "Mint\n",
      "557 receitas.\n",
      "\n",
      "Green Onion/Scallion\n",
      "108 receitas.\n",
      "\n",
      "Lemon\n",
      "982 receitas.\n",
      "\n",
      "Appetizer\n",
      "1305 receitas.\n",
      "\n",
      "Quick and Healthy\n",
      "64 receitas.\n",
      "\n",
      "Peach\n",
      "178 receitas.\n",
      "\n",
      "Buttermilk\n",
      "70 receitas.\n",
      "\n",
      "Fennel\n",
      "341 receitas.\n",
      "\n",
      "Kale\n",
      "133 receitas.\n",
      "\n",
      "Cumin\n",
      "81 receitas.\n",
      "\n",
      "Grill\n",
      "507 receitas.\n",
      "\n",
      "Seafood\n",
      "382 receitas.\n",
      "\n",
      "Pasta\n",
      "934 receitas.\n",
      "\n",
      "Soup/Stew\n",
      "1014 receitas.\n",
      "\n",
      "Corn\n",
      "345 receitas.\n",
      "\n",
      "Ice Cream\n",
      "12 receitas.\n",
      "\n",
      "Goat Cheese\n",
      "298 receitas.\n",
      "\n",
      "Hot Pepper\n",
      "412 receitas.\n",
      "\n",
      "Spice\n",
      "592 receitas.\n",
      "\n",
      "Coriander\n",
      "114 receitas.\n",
      "\n",
      "Cucumber\n",
      "359 receitas.\n",
      "\n",
      "Maple Syrup\n",
      "141 receitas.\n",
      "\n",
      "Sugar Conscious\n",
      "2172 receitas.\n",
      "\n",
      "Lemon Juice\n",
      "135 receitas.\n",
      "\n",
      "Almond\n",
      "542 receitas.\n",
      "\n",
      "Capers\n",
      "167 receitas.\n",
      "\n",
      "Butternut Squash\n",
      "174 receitas.\n",
      "\n",
      "Melon\n",
      "61 receitas.\n",
      "\n",
      "Vegan\n",
      "1535 receitas.\n",
      "\n",
      "Vinegar\n",
      "549 receitas.\n",
      "\n",
      "Jalapeño\n",
      "311 receitas.\n",
      "\n",
      "Onion\n",
      "1934 receitas.\n",
      "\n",
      "Bourbon\n",
      "113 receitas.\n",
      "\n",
      "Paleo\n",
      "683 receitas.\n",
      "\n",
      "Zucchini\n",
      "285 receitas.\n",
      "\n",
      "Cake\n",
      "672 receitas.\n",
      "\n",
      "Shallot\n",
      "305 receitas.\n",
      "\n",
      "Lamb\n",
      "333 receitas.\n",
      "\n",
      "Rosemary\n",
      "336 receitas.\n",
      "\n",
      "Carrot\n",
      "609 receitas.\n",
      "\n",
      "Cream Cheese\n",
      "346 receitas.\n",
      "\n",
      "Blueberry\n",
      "168 receitas.\n",
      "\n",
      "Parsley\n",
      "439 receitas.\n",
      "\n",
      "Cocktail\n",
      "339 receitas.\n",
      "\n",
      "Parmesan\n",
      "609 receitas.\n",
      "\n",
      "Shellfish\n",
      "527 receitas.\n",
      "\n",
      "Pastry\n",
      "73 receitas.\n",
      "\n",
      "Ham\n",
      "211 receitas.\n",
      "\n",
      "Radish\n",
      "192 receitas.\n",
      "\n",
      "Chard\n",
      "77 receitas.\n",
      "\n",
      "Whiskey\n",
      "52 receitas.\n",
      "\n"
     ]
    }
   ],
   "source": [
    "cat100 = top_100_cat_recipe.value_counts().nlargest(100).index\n",
    "for cat in cat100:\n",
    "    count = 0\n",
    "    print(cat)\n",
    "    for i in data.index:\n",
    "        val = data.loc[i,'categories']\n",
    "        if cat in val:\n",
    "            count+=1\n",
    "    print('{} receitas.\\n'.format(count))"
   ]
  }
 ],
 "metadata": {
  "kernelspec": {
   "display_name": "Python 3",
   "language": "python",
   "name": "python3"
  },
  "language_info": {
   "codemirror_mode": {
    "name": "ipython",
    "version": 3
   },
   "file_extension": ".py",
   "mimetype": "text/x-python",
   "name": "python",
   "nbconvert_exporter": "python",
   "pygments_lexer": "ipython3",
   "version": "3.7.3"
  }
 },
 "nbformat": 4,
 "nbformat_minor": 2
}
