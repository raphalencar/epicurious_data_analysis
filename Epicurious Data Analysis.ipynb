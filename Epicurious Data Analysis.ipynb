{
 "cells": [
  {
   "cell_type": "markdown",
   "metadata": {},
   "source": [
    "# Epicurious Data Analysis\n",
    "\n",
    "**Autor:** Raphael Brito Alencar\n",
    "\n",
    "**Descrição:** Análise dos dados coletados do site https://www.epicurious.com/"
   ]
  },
  {
   "cell_type": "code",
   "execution_count": 1,
   "metadata": {},
   "outputs": [
    {
     "name": "stderr",
     "output_type": "stream",
     "text": [
      "[nltk_data] Downloading package punkt to /home/raphael-b-\n",
      "[nltk_data]     alencar/nltk_data...\n",
      "[nltk_data]   Package punkt is already up-to-date!\n",
      "[nltk_data] Downloading package averaged_perceptron_tagger to\n",
      "[nltk_data]     /home/raphael-b-alencar/nltk_data...\n",
      "[nltk_data]   Package averaged_perceptron_tagger is already up-to-\n",
      "[nltk_data]       date!\n"
     ]
    }
   ],
   "source": [
    "# carregando libs\n",
    "import pandas as pd\n",
    "import numpy as np\n",
    "import seaborn as sns\n",
    "import matplotlib.pyplot as plt\n",
    "from scipy.stats import iqr, norm, probplot\n",
    "\n",
    "import nltk\n",
    "nltk.download('punkt')\n",
    "nltk.download('averaged_perceptron_tagger')\n",
    "from nltk import pos_tag, word_tokenize\n",
    "import re\n",
    "\n",
    "import json\n",
    "import gc\n",
    "\n",
    "%matplotlib inline"
   ]
  },
  {
   "cell_type": "code",
   "execution_count": 2,
   "metadata": {},
   "outputs": [],
   "source": [
    "# Utils\n",
    "# percentual de preenchimento de cada feature\n",
    "def show_filling_factor(data):\n",
    "    missing_df = data.isnull().sum(axis=0).reset_index()\n",
    "    missing_df.columns = ['variable', 'missing values']\n",
    "    missing_df['filling factor (%)'] = ((data.shape[0] - missing_df['missing values']) / data.shape[0]) * 100\n",
    "    return missing_df.sort_values('filling factor (%)').reset_index(drop = True)\n",
    "\n",
    "# histograma e normal probability plot\n",
    "def create_hist_prob_plot(ser):\n",
    "    sns.distplot(ser, fit=norm);\n",
    "    fig = plt.figure()\n",
    "    res = probplot(ser, plot=plt)\n",
    "    \n",
    "# transformar para log\n",
    "def log_transform(ser):\n",
    "    return ser.map(lambda i: np.log(i) if i > 0 else 0)\n",
    "\n",
    "def fillna_outlier_mean(col):\n",
    "    # substituindo valores de outliers pela media\n",
    "    IQR = iqr(data[col], nan_policy='omit')\n",
    "    upper_bound = data[col].quantile(0.75) + 1.5 * IQR\n",
    "    lower_bound = data[col].quantile(0.25) - 1.5 * IQR\n",
    "    \n",
    "    outliers = data[(data[col] > upper_bound) | (data[col] < lower_bound)]\n",
    "    outliers_idx = outliers.index\n",
    "    \n",
    "    mean = data[~data.isin(outliers)][col].mean()\n",
    "    \n",
    "    data.loc[outliers_idx, col] = mean\n",
    "    data[col].fillna(mean, inplace=True)\n",
    "    \n",
    "    return data[col].describe().round(decimals=2).drop('count')\n",
    "\n",
    "\n",
    "def count_sublist_values(data,sublist):\n",
    "    series = list()\n",
    "    for i in data.index:\n",
    "        try:\n",
    "            t = data.loc[i, sublist]\n",
    "            for j in t:\n",
    "                series.append(j)\n",
    "        except:\n",
    "            pass\n",
    "    return pd.Series(series)\n",
    "\n",
    "def sublist_uniques(data,sublist):\n",
    "    categories = set()\n",
    "    for i in data.index:\n",
    "        try:\n",
    "            t = data.loc[i, sublist]\n",
    "            for j in t:\n",
    "                categories.add(j)\n",
    "        except:\n",
    "            pass\n",
    "    return list(categories)\n",
    "\n",
    "def sublists_to_binaries(data, sublist, index_key = None):\n",
    "    categories = sublist_uniques(data,sublist)\n",
    "    frame = pd.DataFrame(columns=categories)\n",
    "    for i in data.index:\n",
    "        if type(data.loc[i, sublist]) == list or np.array:\n",
    "            try:\n",
    "                if index_key != None:\n",
    "                    key = data.loc[i, index_key]\n",
    "                    f = np.zeros(len(categories))\n",
    "                    for j in data.loc[i, sublist]:\n",
    "                        f[categories.index(j)] = 1\n",
    "                    if key in frame.index:\n",
    "                        for j in data.loc[i, sublist]:\n",
    "                            frame.loc[key][j]+=1\n",
    "                    else:\n",
    "                        frame.loc[key]=f\n",
    "                else:\n",
    "                    f = np.zeros(len(categories))\n",
    "                    for j in data.loc[i, sublist]:\n",
    "                        f[categories.index(j)] = 1\n",
    "                    frame.loc[i]=f\n",
    "            except:\n",
    "                pass\n",
    "                \n",
    "    return frame"
   ]
  },
  {
   "cell_type": "code",
   "execution_count": 3,
   "metadata": {},
   "outputs": [
    {
     "data": {
      "text/html": [
       "<div>\n",
       "<style scoped>\n",
       "    .dataframe tbody tr th:only-of-type {\n",
       "        vertical-align: middle;\n",
       "    }\n",
       "\n",
       "    .dataframe tbody tr th {\n",
       "        vertical-align: top;\n",
       "    }\n",
       "\n",
       "    .dataframe thead th {\n",
       "        text-align: right;\n",
       "    }\n",
       "</style>\n",
       "<table border=\"1\" class=\"dataframe\">\n",
       "  <thead>\n",
       "    <tr style=\"text-align: right;\">\n",
       "      <th></th>\n",
       "      <th>directions</th>\n",
       "      <th>fat</th>\n",
       "      <th>date</th>\n",
       "      <th>categories</th>\n",
       "      <th>calories</th>\n",
       "      <th>desc</th>\n",
       "      <th>protein</th>\n",
       "      <th>rating</th>\n",
       "      <th>title</th>\n",
       "      <th>ingredients</th>\n",
       "      <th>sodium</th>\n",
       "    </tr>\n",
       "  </thead>\n",
       "  <tbody>\n",
       "    <tr>\n",
       "      <th>0</th>\n",
       "      <td>[1. Place the stock, lentils, celery, carrot, ...</td>\n",
       "      <td>7.0</td>\n",
       "      <td>2006-09-01 04:00:00+00:00</td>\n",
       "      <td>[Sandwich, Bean, Fruit, Tomato, turkey, Vegeta...</td>\n",
       "      <td>426.0</td>\n",
       "      <td>None</td>\n",
       "      <td>30.0</td>\n",
       "      <td>2.500</td>\n",
       "      <td>Lentil, Apple, and Turkey Wrap</td>\n",
       "      <td>[4 cups low-sodium vegetable or chicken stock,...</td>\n",
       "      <td>559.0</td>\n",
       "    </tr>\n",
       "    <tr>\n",
       "      <th>1</th>\n",
       "      <td>[Combine first 9 ingredients in heavy medium s...</td>\n",
       "      <td>23.0</td>\n",
       "      <td>2004-08-20 04:00:00+00:00</td>\n",
       "      <td>[Food Processor, Onion, Pork, Bake, Bastille D...</td>\n",
       "      <td>403.0</td>\n",
       "      <td>This uses the same ingredients found in boudin...</td>\n",
       "      <td>18.0</td>\n",
       "      <td>4.375</td>\n",
       "      <td>Boudin Blanc Terrine with Red Onion Confit</td>\n",
       "      <td>[1 1/2 cups whipping cream, 2 medium onions, c...</td>\n",
       "      <td>1439.0</td>\n",
       "    </tr>\n",
       "    <tr>\n",
       "      <th>2</th>\n",
       "      <td>[In a large heavy saucepan cook diced fennel a...</td>\n",
       "      <td>7.0</td>\n",
       "      <td>2004-08-20 04:00:00+00:00</td>\n",
       "      <td>[Soup/Stew, Dairy, Potato, Vegetable, Fennel, ...</td>\n",
       "      <td>165.0</td>\n",
       "      <td>None</td>\n",
       "      <td>6.0</td>\n",
       "      <td>3.750</td>\n",
       "      <td>Potato and Fennel Soup Hodge</td>\n",
       "      <td>[1 fennel bulb (sometimes called anise), stalk...</td>\n",
       "      <td>165.0</td>\n",
       "    </tr>\n",
       "    <tr>\n",
       "      <th>3</th>\n",
       "      <td>[Heat oil in heavy large skillet over medium-h...</td>\n",
       "      <td>NaN</td>\n",
       "      <td>2009-03-27 04:00:00+00:00</td>\n",
       "      <td>[Fish, Olive, Tomato, Sauté, Low Fat, Low Cal,...</td>\n",
       "      <td>NaN</td>\n",
       "      <td>The Sicilian-style tomato sauce has tons of Me...</td>\n",
       "      <td>NaN</td>\n",
       "      <td>5.000</td>\n",
       "      <td>Mahi-Mahi in Tomato Olive Sauce</td>\n",
       "      <td>[2 tablespoons extra-virgin olive oil, 1 cup c...</td>\n",
       "      <td>NaN</td>\n",
       "    </tr>\n",
       "    <tr>\n",
       "      <th>4</th>\n",
       "      <td>[Preheat oven to 350°F. Lightly grease 8x8x2-i...</td>\n",
       "      <td>32.0</td>\n",
       "      <td>2004-08-20 04:00:00+00:00</td>\n",
       "      <td>[Cheese, Dairy, Pasta, Vegetable, Side, Bake, ...</td>\n",
       "      <td>547.0</td>\n",
       "      <td>None</td>\n",
       "      <td>20.0</td>\n",
       "      <td>3.125</td>\n",
       "      <td>Spinach Noodle Casserole</td>\n",
       "      <td>[1 12-ounce package frozen spinach soufflé, th...</td>\n",
       "      <td>452.0</td>\n",
       "    </tr>\n",
       "  </tbody>\n",
       "</table>\n",
       "</div>"
      ],
      "text/plain": [
       "                                          directions   fat  \\\n",
       "0  [1. Place the stock, lentils, celery, carrot, ...   7.0   \n",
       "1  [Combine first 9 ingredients in heavy medium s...  23.0   \n",
       "2  [In a large heavy saucepan cook diced fennel a...   7.0   \n",
       "3  [Heat oil in heavy large skillet over medium-h...   NaN   \n",
       "4  [Preheat oven to 350°F. Lightly grease 8x8x2-i...  32.0   \n",
       "\n",
       "                       date  \\\n",
       "0 2006-09-01 04:00:00+00:00   \n",
       "1 2004-08-20 04:00:00+00:00   \n",
       "2 2004-08-20 04:00:00+00:00   \n",
       "3 2009-03-27 04:00:00+00:00   \n",
       "4 2004-08-20 04:00:00+00:00   \n",
       "\n",
       "                                          categories  calories  \\\n",
       "0  [Sandwich, Bean, Fruit, Tomato, turkey, Vegeta...     426.0   \n",
       "1  [Food Processor, Onion, Pork, Bake, Bastille D...     403.0   \n",
       "2  [Soup/Stew, Dairy, Potato, Vegetable, Fennel, ...     165.0   \n",
       "3  [Fish, Olive, Tomato, Sauté, Low Fat, Low Cal,...       NaN   \n",
       "4  [Cheese, Dairy, Pasta, Vegetable, Side, Bake, ...     547.0   \n",
       "\n",
       "                                                desc  protein  rating  \\\n",
       "0                                               None     30.0   2.500   \n",
       "1  This uses the same ingredients found in boudin...     18.0   4.375   \n",
       "2                                               None      6.0   3.750   \n",
       "3  The Sicilian-style tomato sauce has tons of Me...      NaN   5.000   \n",
       "4                                               None     20.0   3.125   \n",
       "\n",
       "                                         title  \\\n",
       "0              Lentil, Apple, and Turkey Wrap    \n",
       "1  Boudin Blanc Terrine with Red Onion Confit    \n",
       "2                Potato and Fennel Soup Hodge    \n",
       "3             Mahi-Mahi in Tomato Olive Sauce    \n",
       "4                    Spinach Noodle Casserole    \n",
       "\n",
       "                                         ingredients  sodium  \n",
       "0  [4 cups low-sodium vegetable or chicken stock,...   559.0  \n",
       "1  [1 1/2 cups whipping cream, 2 medium onions, c...  1439.0  \n",
       "2  [1 fennel bulb (sometimes called anise), stalk...   165.0  \n",
       "3  [2 tablespoons extra-virgin olive oil, 1 cup c...     NaN  \n",
       "4  [1 12-ounce package frozen spinach soufflé, th...   452.0  "
      ]
     },
     "execution_count": 3,
     "metadata": {},
     "output_type": "execute_result"
    }
   ],
   "source": [
    "# carregando dados de receitas.json\n",
    "# verificando os primeiros registros\n",
    "data = pd.read_json('receitas.json')\n",
    "data.head()"
   ]
  },
  {
   "cell_type": "code",
   "execution_count": 4,
   "metadata": {},
   "outputs": [
    {
     "data": {
      "text/plain": [
       "(20130, 11)"
      ]
     },
     "execution_count": 4,
     "metadata": {},
     "output_type": "execute_result"
    }
   ],
   "source": [
    "data.shape"
   ]
  },
  {
   "cell_type": "code",
   "execution_count": 5,
   "metadata": {},
   "outputs": [
    {
     "name": "stdout",
     "output_type": "stream",
     "text": [
      "<class 'pandas.core.frame.DataFrame'>\n",
      "RangeIndex: 20130 entries, 0 to 20129\n",
      "Data columns (total 11 columns):\n",
      "directions     20111 non-null object\n",
      "fat            15908 non-null float64\n",
      "date           20111 non-null datetime64[ns, UTC]\n",
      "categories     20111 non-null object\n",
      "calories       15976 non-null float64\n",
      "desc           13495 non-null object\n",
      "protein        15929 non-null float64\n",
      "rating         20100 non-null float64\n",
      "title          20111 non-null object\n",
      "ingredients    20111 non-null object\n",
      "sodium         15974 non-null float64\n",
      "dtypes: datetime64[ns, UTC](1), float64(5), object(5)\n",
      "memory usage: 1.7+ MB\n"
     ]
    }
   ],
   "source": [
    "# informações sobre as colunas do dataframe\n",
    "data.info()"
   ]
  },
  {
   "cell_type": "code",
   "execution_count": 6,
   "metadata": {},
   "outputs": [
    {
     "data": {
      "text/html": [
       "<div>\n",
       "<style scoped>\n",
       "    .dataframe tbody tr th:only-of-type {\n",
       "        vertical-align: middle;\n",
       "    }\n",
       "\n",
       "    .dataframe tbody tr th {\n",
       "        vertical-align: top;\n",
       "    }\n",
       "\n",
       "    .dataframe thead th {\n",
       "        text-align: right;\n",
       "    }\n",
       "</style>\n",
       "<table border=\"1\" class=\"dataframe\">\n",
       "  <thead>\n",
       "    <tr style=\"text-align: right;\">\n",
       "      <th></th>\n",
       "      <th>fat</th>\n",
       "      <th>calories</th>\n",
       "      <th>protein</th>\n",
       "      <th>rating</th>\n",
       "      <th>sodium</th>\n",
       "    </tr>\n",
       "  </thead>\n",
       "  <tbody>\n",
       "    <tr>\n",
       "      <th>count</th>\n",
       "      <td>15908.00</td>\n",
       "      <td>15976.00</td>\n",
       "      <td>15929.00</td>\n",
       "      <td>20100.00</td>\n",
       "      <td>15974.00</td>\n",
       "    </tr>\n",
       "    <tr>\n",
       "      <th>mean</th>\n",
       "      <td>346.10</td>\n",
       "      <td>6307.86</td>\n",
       "      <td>99.95</td>\n",
       "      <td>3.71</td>\n",
       "      <td>6211.47</td>\n",
       "    </tr>\n",
       "    <tr>\n",
       "      <th>std</th>\n",
       "      <td>20431.02</td>\n",
       "      <td>358585.12</td>\n",
       "      <td>3835.62</td>\n",
       "      <td>1.34</td>\n",
       "      <td>332890.25</td>\n",
       "    </tr>\n",
       "    <tr>\n",
       "      <th>min</th>\n",
       "      <td>0.00</td>\n",
       "      <td>0.00</td>\n",
       "      <td>0.00</td>\n",
       "      <td>0.00</td>\n",
       "      <td>0.00</td>\n",
       "    </tr>\n",
       "    <tr>\n",
       "      <th>25%</th>\n",
       "      <td>7.00</td>\n",
       "      <td>198.00</td>\n",
       "      <td>3.00</td>\n",
       "      <td>3.75</td>\n",
       "      <td>80.00</td>\n",
       "    </tr>\n",
       "    <tr>\n",
       "      <th>50%</th>\n",
       "      <td>17.00</td>\n",
       "      <td>331.00</td>\n",
       "      <td>8.00</td>\n",
       "      <td>4.38</td>\n",
       "      <td>294.00</td>\n",
       "    </tr>\n",
       "    <tr>\n",
       "      <th>75%</th>\n",
       "      <td>33.00</td>\n",
       "      <td>586.00</td>\n",
       "      <td>27.00</td>\n",
       "      <td>4.38</td>\n",
       "      <td>711.00</td>\n",
       "    </tr>\n",
       "    <tr>\n",
       "      <th>max</th>\n",
       "      <td>1722763.00</td>\n",
       "      <td>30111218.00</td>\n",
       "      <td>236489.00</td>\n",
       "      <td>5.00</td>\n",
       "      <td>27675110.00</td>\n",
       "    </tr>\n",
       "  </tbody>\n",
       "</table>\n",
       "</div>"
      ],
      "text/plain": [
       "              fat     calories    protein    rating       sodium\n",
       "count    15908.00     15976.00   15929.00  20100.00     15974.00\n",
       "mean       346.10      6307.86      99.95      3.71      6211.47\n",
       "std      20431.02    358585.12    3835.62      1.34    332890.25\n",
       "min          0.00         0.00       0.00      0.00         0.00\n",
       "25%          7.00       198.00       3.00      3.75        80.00\n",
       "50%         17.00       331.00       8.00      4.38       294.00\n",
       "75%         33.00       586.00      27.00      4.38       711.00\n",
       "max    1722763.00  30111218.00  236489.00      5.00  27675110.00"
      ]
     },
     "execution_count": 6,
     "metadata": {},
     "output_type": "execute_result"
    }
   ],
   "source": [
    "# descrevendo estatísticas dos valores numéricos\n",
    "# resultado sem dados tratados\n",
    "data.describe().round(decimals=2)"
   ]
  },
  {
   "cell_type": "markdown",
   "metadata": {},
   "source": [
    "Alguns fatos observados na descrição estatística das features:\n",
    "* Temos valores extremos para fat, calories, protein e sodium\n",
    "* Um alto numero de ratings 4.38, o que parece um erro"
   ]
  },
  {
   "cell_type": "code",
   "execution_count": 7,
   "metadata": {},
   "outputs": [
    {
     "name": "stdout",
     "output_type": "stream",
     "text": [
      "Número de receitas duplicadas: 2354\n"
     ]
    }
   ],
   "source": [
    "# verificando registros duplicados\n",
    "print('Número de receitas duplicadas: {}'.format(data.duplicated('title').sum()))"
   ]
  },
  {
   "cell_type": "code",
   "execution_count": 8,
   "metadata": {},
   "outputs": [
    {
     "data": {
      "text/plain": [
       "(17776, 11)"
      ]
     },
     "execution_count": 8,
     "metadata": {},
     "output_type": "execute_result"
    }
   ],
   "source": [
    "# removendo registros duplicados\n",
    "data.drop_duplicates('title', keep='first', inplace=True)\n",
    "data.shape"
   ]
  },
  {
   "cell_type": "code",
   "execution_count": 9,
   "metadata": {},
   "outputs": [
    {
     "data": {
      "text/html": [
       "<div>\n",
       "<style scoped>\n",
       "    .dataframe tbody tr th:only-of-type {\n",
       "        vertical-align: middle;\n",
       "    }\n",
       "\n",
       "    .dataframe tbody tr th {\n",
       "        vertical-align: top;\n",
       "    }\n",
       "\n",
       "    .dataframe thead th {\n",
       "        text-align: right;\n",
       "    }\n",
       "</style>\n",
       "<table border=\"1\" class=\"dataframe\">\n",
       "  <thead>\n",
       "    <tr style=\"text-align: right;\">\n",
       "      <th></th>\n",
       "      <th>variable</th>\n",
       "      <th>missing values</th>\n",
       "      <th>filling factor (%)</th>\n",
       "    </tr>\n",
       "  </thead>\n",
       "  <tbody>\n",
       "    <tr>\n",
       "      <th>0</th>\n",
       "      <td>desc</td>\n",
       "      <td>5859</td>\n",
       "      <td>67.039829</td>\n",
       "    </tr>\n",
       "    <tr>\n",
       "      <th>1</th>\n",
       "      <td>fat</td>\n",
       "      <td>3732</td>\n",
       "      <td>79.005401</td>\n",
       "    </tr>\n",
       "    <tr>\n",
       "      <th>2</th>\n",
       "      <td>protein</td>\n",
       "      <td>3713</td>\n",
       "      <td>79.112286</td>\n",
       "    </tr>\n",
       "    <tr>\n",
       "      <th>3</th>\n",
       "      <td>sodium</td>\n",
       "      <td>3689</td>\n",
       "      <td>79.247300</td>\n",
       "    </tr>\n",
       "    <tr>\n",
       "      <th>4</th>\n",
       "      <td>calories</td>\n",
       "      <td>3688</td>\n",
       "      <td>79.252925</td>\n",
       "    </tr>\n",
       "    <tr>\n",
       "      <th>5</th>\n",
       "      <td>rating</td>\n",
       "      <td>10</td>\n",
       "      <td>99.943744</td>\n",
       "    </tr>\n",
       "    <tr>\n",
       "      <th>6</th>\n",
       "      <td>directions</td>\n",
       "      <td>1</td>\n",
       "      <td>99.994374</td>\n",
       "    </tr>\n",
       "    <tr>\n",
       "      <th>7</th>\n",
       "      <td>date</td>\n",
       "      <td>1</td>\n",
       "      <td>99.994374</td>\n",
       "    </tr>\n",
       "    <tr>\n",
       "      <th>8</th>\n",
       "      <td>categories</td>\n",
       "      <td>1</td>\n",
       "      <td>99.994374</td>\n",
       "    </tr>\n",
       "    <tr>\n",
       "      <th>9</th>\n",
       "      <td>title</td>\n",
       "      <td>1</td>\n",
       "      <td>99.994374</td>\n",
       "    </tr>\n",
       "    <tr>\n",
       "      <th>10</th>\n",
       "      <td>ingredients</td>\n",
       "      <td>1</td>\n",
       "      <td>99.994374</td>\n",
       "    </tr>\n",
       "  </tbody>\n",
       "</table>\n",
       "</div>"
      ],
      "text/plain": [
       "       variable  missing values  filling factor (%)\n",
       "0          desc            5859           67.039829\n",
       "1           fat            3732           79.005401\n",
       "2       protein            3713           79.112286\n",
       "3        sodium            3689           79.247300\n",
       "4      calories            3688           79.252925\n",
       "5        rating              10           99.943744\n",
       "6    directions               1           99.994374\n",
       "7          date               1           99.994374\n",
       "8    categories               1           99.994374\n",
       "9         title               1           99.994374\n",
       "10  ingredients               1           99.994374"
      ]
     },
     "execution_count": 9,
     "metadata": {},
     "output_type": "execute_result"
    }
   ],
   "source": [
    "show_filling_factor(data)"
   ]
  },
  {
   "cell_type": "markdown",
   "metadata": {},
   "source": [
    "Olhando a tabela acima, parece que os registros nulos são os mesmos para categories, date, directions, ingredients e title. No caso, 1 registro. Verificando:"
   ]
  },
  {
   "cell_type": "code",
   "execution_count": 10,
   "metadata": {},
   "outputs": [
    {
     "data": {
      "text/html": [
       "<div>\n",
       "<style scoped>\n",
       "    .dataframe tbody tr th:only-of-type {\n",
       "        vertical-align: middle;\n",
       "    }\n",
       "\n",
       "    .dataframe tbody tr th {\n",
       "        vertical-align: top;\n",
       "    }\n",
       "\n",
       "    .dataframe thead th {\n",
       "        text-align: right;\n",
       "    }\n",
       "</style>\n",
       "<table border=\"1\" class=\"dataframe\">\n",
       "  <thead>\n",
       "    <tr style=\"text-align: right;\">\n",
       "      <th></th>\n",
       "      <th>directions</th>\n",
       "      <th>fat</th>\n",
       "      <th>date</th>\n",
       "      <th>categories</th>\n",
       "      <th>calories</th>\n",
       "      <th>desc</th>\n",
       "      <th>protein</th>\n",
       "      <th>rating</th>\n",
       "      <th>title</th>\n",
       "      <th>ingredients</th>\n",
       "      <th>sodium</th>\n",
       "    </tr>\n",
       "  </thead>\n",
       "  <tbody>\n",
       "    <tr>\n",
       "      <th>1076</th>\n",
       "      <td>NaN</td>\n",
       "      <td>NaN</td>\n",
       "      <td>NaT</td>\n",
       "      <td>NaN</td>\n",
       "      <td>NaN</td>\n",
       "      <td>NaN</td>\n",
       "      <td>NaN</td>\n",
       "      <td>NaN</td>\n",
       "      <td>NaN</td>\n",
       "      <td>NaN</td>\n",
       "      <td>NaN</td>\n",
       "    </tr>\n",
       "  </tbody>\n",
       "</table>\n",
       "</div>"
      ],
      "text/plain": [
       "     directions  fat date categories  calories desc  protein  rating title  \\\n",
       "1076        NaN  NaN  NaT        NaN       NaN  NaN      NaN     NaN   NaN   \n",
       "\n",
       "     ingredients  sodium  \n",
       "1076         NaN     NaN  "
      ]
     },
     "execution_count": 10,
     "metadata": {},
     "output_type": "execute_result"
    }
   ],
   "source": [
    "# tratando valores nulos\n",
    "data[data['categories'].isna()]"
   ]
  },
  {
   "cell_type": "code",
   "execution_count": 11,
   "metadata": {},
   "outputs": [
    {
     "data": {
      "text/html": [
       "<div>\n",
       "<style scoped>\n",
       "    .dataframe tbody tr th:only-of-type {\n",
       "        vertical-align: middle;\n",
       "    }\n",
       "\n",
       "    .dataframe tbody tr th {\n",
       "        vertical-align: top;\n",
       "    }\n",
       "\n",
       "    .dataframe thead th {\n",
       "        text-align: right;\n",
       "    }\n",
       "</style>\n",
       "<table border=\"1\" class=\"dataframe\">\n",
       "  <thead>\n",
       "    <tr style=\"text-align: right;\">\n",
       "      <th></th>\n",
       "      <th>variable</th>\n",
       "      <th>missing values</th>\n",
       "      <th>filling factor (%)</th>\n",
       "    </tr>\n",
       "  </thead>\n",
       "  <tbody>\n",
       "    <tr>\n",
       "      <th>0</th>\n",
       "      <td>desc</td>\n",
       "      <td>5858</td>\n",
       "      <td>67.043601</td>\n",
       "    </tr>\n",
       "    <tr>\n",
       "      <th>1</th>\n",
       "      <td>fat</td>\n",
       "      <td>3731</td>\n",
       "      <td>79.009845</td>\n",
       "    </tr>\n",
       "    <tr>\n",
       "      <th>2</th>\n",
       "      <td>protein</td>\n",
       "      <td>3712</td>\n",
       "      <td>79.116737</td>\n",
       "    </tr>\n",
       "    <tr>\n",
       "      <th>3</th>\n",
       "      <td>sodium</td>\n",
       "      <td>3688</td>\n",
       "      <td>79.251758</td>\n",
       "    </tr>\n",
       "    <tr>\n",
       "      <th>4</th>\n",
       "      <td>calories</td>\n",
       "      <td>3687</td>\n",
       "      <td>79.257384</td>\n",
       "    </tr>\n",
       "    <tr>\n",
       "      <th>5</th>\n",
       "      <td>rating</td>\n",
       "      <td>9</td>\n",
       "      <td>99.949367</td>\n",
       "    </tr>\n",
       "    <tr>\n",
       "      <th>6</th>\n",
       "      <td>directions</td>\n",
       "      <td>0</td>\n",
       "      <td>100.000000</td>\n",
       "    </tr>\n",
       "    <tr>\n",
       "      <th>7</th>\n",
       "      <td>date</td>\n",
       "      <td>0</td>\n",
       "      <td>100.000000</td>\n",
       "    </tr>\n",
       "    <tr>\n",
       "      <th>8</th>\n",
       "      <td>categories</td>\n",
       "      <td>0</td>\n",
       "      <td>100.000000</td>\n",
       "    </tr>\n",
       "    <tr>\n",
       "      <th>9</th>\n",
       "      <td>title</td>\n",
       "      <td>0</td>\n",
       "      <td>100.000000</td>\n",
       "    </tr>\n",
       "    <tr>\n",
       "      <th>10</th>\n",
       "      <td>ingredients</td>\n",
       "      <td>0</td>\n",
       "      <td>100.000000</td>\n",
       "    </tr>\n",
       "  </tbody>\n",
       "</table>\n",
       "</div>"
      ],
      "text/plain": [
       "       variable  missing values  filling factor (%)\n",
       "0          desc            5858           67.043601\n",
       "1           fat            3731           79.009845\n",
       "2       protein            3712           79.116737\n",
       "3        sodium            3688           79.251758\n",
       "4      calories            3687           79.257384\n",
       "5        rating               9           99.949367\n",
       "6    directions               0          100.000000\n",
       "7          date               0          100.000000\n",
       "8    categories               0          100.000000\n",
       "9         title               0          100.000000\n",
       "10  ingredients               0          100.000000"
      ]
     },
     "execution_count": 11,
     "metadata": {},
     "output_type": "execute_result"
    }
   ],
   "source": [
    "# excluindo registros totalmente nulos\n",
    "data.drop(data[data['categories'].isna()].index, inplace=True)\n",
    "\n",
    "show_filling_factor(data)"
   ]
  },
  {
   "cell_type": "markdown",
   "metadata": {},
   "source": [
    "Ao que parece, quando o valor de sodium não está preenchido, o valor de calories também não é preenchido. Apenas em um casos que isso não acontece:"
   ]
  },
  {
   "cell_type": "code",
   "execution_count": 12,
   "metadata": {},
   "outputs": [],
   "source": [
    "# not_null_calories = data[data['calories'].notnull()]\n",
    "# not_null_calories[not_null_calories['sodium'].isna()]"
   ]
  },
  {
   "cell_type": "code",
   "execution_count": 13,
   "metadata": {},
   "outputs": [],
   "source": [
    "# preenchendo os dois valores com a mediana dos valores de sodio onde o valor de calorias é 4.0\n",
    "# q = 'calories == 4.0'\n",
    "# data.query(q)['sodium'].median()\n",
    "# data.loc[not_null_calories[not_null_calories['sodium'].isna()].index, 'sodium'] = data.query(q)['sodium'].median()"
   ]
  },
  {
   "cell_type": "code",
   "execution_count": 14,
   "metadata": {},
   "outputs": [],
   "source": [
    "# data.loc[not_null_calories[not_null_calories['sodium'].isna()].index, 'sodium']"
   ]
  },
  {
   "cell_type": "code",
   "execution_count": 15,
   "metadata": {},
   "outputs": [
    {
     "data": {
      "image/png": "[encoded data removed]",
      "text/plain": [
       "<Figure size 720x720 with 2 Axes>"
      ]
     },
     "metadata": {
      "needs_background": "light"
     },
     "output_type": "display_data"
    }
   ],
   "source": [
    "# verificando correlação entre variaveis numericas\n",
    "cols = ['rating', 'calories', 'protein', 'fat', 'sodium']\n",
    "\n",
    "plt.figure(figsize=(10,10))\n",
    "sns.heatmap(data[cols].corr(), vmax=1, square=True,annot=True,cmap='cubehelix')\n",
    "plt.title('Correlação entre rating e as informações nutricionais')\n",
    "plt.show()"
   ]
  },
  {
   "cell_type": "markdown",
   "metadata": {},
   "source": [
    "Percebe-se que os valores se correlacionam de forma positiva. "
   ]
  },
  {
   "cell_type": "code",
   "execution_count": 16,
   "metadata": {},
   "outputs": [],
   "source": [
    "# preenchendo os valores numericos com KNNImputer\n",
    "# esse passo pode ser revisitado caso precise melhorar a acurácia do modelo de classificação\n",
    "# from sklearn.impute import KNNImputer\n",
    "\n",
    "# data_to_transform = data[cols]\n",
    "\n",
    "# imputer = KNNImputer(n_neighbors=3, copy=False)\n",
    "# imputer.fit_transform(data_to_transform)\n",
    "# data_to_transform.head()"
   ]
  },
  {
   "cell_type": "code",
   "execution_count": 17,
   "metadata": {},
   "outputs": [],
   "source": [
    "# data[cols] = data_to_transform.round(decimals=1)\n",
    "# show_filling_factor(data)"
   ]
  },
  {
   "cell_type": "code",
   "execution_count": 18,
   "metadata": {},
   "outputs": [],
   "source": [
    "# dropando colunas, a principio, desnecessária\n",
    "# cols = ['desc', 'directions', 'date', 'title']\n",
    "\n",
    "# data.drop(cols, axis=1, inplace=True)\n",
    "# show_filling_factor(data)"
   ]
  },
  {
   "cell_type": "code",
   "execution_count": 19,
   "metadata": {},
   "outputs": [],
   "source": [
    "# Onehot encoding categorias e concatenar ao data\n",
    "# cat = sublists_to_binaries(data, 'categories')\n",
    "# data = pd.concat([data, cat], axis=1)\n",
    "\n",
    "# data.drop(columns='categories', inplace=True)\n",
    "# data.head()"
   ]
  },
  {
   "cell_type": "markdown",
   "metadata": {},
   "source": [
    "### fat"
   ]
  },
  {
   "cell_type": "code",
   "execution_count": 20,
   "metadata": {
    "scrolled": true
   },
   "outputs": [
    {
     "data": {
      "text/plain": [
       "mean        373.37\n",
       "std       21664.16\n",
       "min           0.00\n",
       "25%           9.00\n",
       "50%          18.00\n",
       "75%          35.00\n",
       "max     1722763.00\n",
       "Name: fat, dtype: float64"
      ]
     },
     "execution_count": 20,
     "metadata": {},
     "output_type": "execute_result"
    }
   ],
   "source": [
    "data['fat'].describe().round(decimals=2).drop('count')"
   ]
  },
  {
   "cell_type": "code",
   "execution_count": 21,
   "metadata": {},
   "outputs": [
    {
     "data": {
      "text/plain": [
       "mean    20.83\n",
       "std     14.78\n",
       "min      0.00\n",
       "25%     11.00\n",
       "50%     20.83\n",
       "75%     24.00\n",
       "max     74.00\n",
       "Name: fat, dtype: float64"
      ]
     },
     "execution_count": 21,
     "metadata": {},
     "output_type": "execute_result"
    }
   ],
   "source": [
    "# preenchendo valores faltantes e outliers com media\n",
    "fillna_outlier_mean('fat')"
   ]
  },
  {
   "cell_type": "code",
   "execution_count": 22,
   "metadata": {},
   "outputs": [
    {
     "data": {
      "text/html": [
       "<div>\n",
       "<style scoped>\n",
       "    .dataframe tbody tr th:only-of-type {\n",
       "        vertical-align: middle;\n",
       "    }\n",
       "\n",
       "    .dataframe tbody tr th {\n",
       "        vertical-align: top;\n",
       "    }\n",
       "\n",
       "    .dataframe thead th {\n",
       "        text-align: right;\n",
       "    }\n",
       "</style>\n",
       "<table border=\"1\" class=\"dataframe\">\n",
       "  <thead>\n",
       "    <tr style=\"text-align: right;\">\n",
       "      <th></th>\n",
       "      <th>variable</th>\n",
       "      <th>missing values</th>\n",
       "      <th>filling factor (%)</th>\n",
       "    </tr>\n",
       "  </thead>\n",
       "  <tbody>\n",
       "    <tr>\n",
       "      <th>0</th>\n",
       "      <td>desc</td>\n",
       "      <td>5858</td>\n",
       "      <td>67.043601</td>\n",
       "    </tr>\n",
       "    <tr>\n",
       "      <th>1</th>\n",
       "      <td>protein</td>\n",
       "      <td>3712</td>\n",
       "      <td>79.116737</td>\n",
       "    </tr>\n",
       "    <tr>\n",
       "      <th>2</th>\n",
       "      <td>sodium</td>\n",
       "      <td>3688</td>\n",
       "      <td>79.251758</td>\n",
       "    </tr>\n",
       "    <tr>\n",
       "      <th>3</th>\n",
       "      <td>calories</td>\n",
       "      <td>3687</td>\n",
       "      <td>79.257384</td>\n",
       "    </tr>\n",
       "    <tr>\n",
       "      <th>4</th>\n",
       "      <td>rating</td>\n",
       "      <td>9</td>\n",
       "      <td>99.949367</td>\n",
       "    </tr>\n",
       "    <tr>\n",
       "      <th>5</th>\n",
       "      <td>directions</td>\n",
       "      <td>0</td>\n",
       "      <td>100.000000</td>\n",
       "    </tr>\n",
       "    <tr>\n",
       "      <th>6</th>\n",
       "      <td>fat</td>\n",
       "      <td>0</td>\n",
       "      <td>100.000000</td>\n",
       "    </tr>\n",
       "    <tr>\n",
       "      <th>7</th>\n",
       "      <td>date</td>\n",
       "      <td>0</td>\n",
       "      <td>100.000000</td>\n",
       "    </tr>\n",
       "    <tr>\n",
       "      <th>8</th>\n",
       "      <td>categories</td>\n",
       "      <td>0</td>\n",
       "      <td>100.000000</td>\n",
       "    </tr>\n",
       "    <tr>\n",
       "      <th>9</th>\n",
       "      <td>title</td>\n",
       "      <td>0</td>\n",
       "      <td>100.000000</td>\n",
       "    </tr>\n",
       "    <tr>\n",
       "      <th>10</th>\n",
       "      <td>ingredients</td>\n",
       "      <td>0</td>\n",
       "      <td>100.000000</td>\n",
       "    </tr>\n",
       "  </tbody>\n",
       "</table>\n",
       "</div>"
      ],
      "text/plain": [
       "       variable  missing values  filling factor (%)\n",
       "0          desc            5858           67.043601\n",
       "1       protein            3712           79.116737\n",
       "2        sodium            3688           79.251758\n",
       "3      calories            3687           79.257384\n",
       "4        rating               9           99.949367\n",
       "5    directions               0          100.000000\n",
       "6           fat               0          100.000000\n",
       "7          date               0          100.000000\n",
       "8    categories               0          100.000000\n",
       "9         title               0          100.000000\n",
       "10  ingredients               0          100.000000"
      ]
     },
     "execution_count": 22,
     "metadata": {},
     "output_type": "execute_result"
    }
   ],
   "source": [
    "show_filling_factor(data)"
   ]
  },
  {
   "cell_type": "code",
   "execution_count": 23,
   "metadata": {},
   "outputs": [
    {
     "data": {
      "image/png": "[encoded data removed]",
      "text/plain": [
       "<Figure size 432x288 with 1 Axes>"
      ]
     },
     "metadata": {
      "needs_background": "light"
     },
     "output_type": "display_data"
    },
    {
     "data": {
      "image/png": "[encoded data removed]",
      "text/plain": [
       "<Figure size 432x288 with 1 Axes>"
      ]
     },
     "metadata": {
      "needs_background": "light"
     },
     "output_type": "display_data"
    }
   ],
   "source": [
    "create_hist_prob_plot(data['fat'])"
   ]
  },
  {
   "cell_type": "code",
   "execution_count": 24,
   "metadata": {},
   "outputs": [
    {
     "name": "stdout",
     "output_type": "stream",
     "text": [
      "Skewness: 1.156715\n",
      "Kurtosis: 1.644323\n"
     ]
    }
   ],
   "source": [
    "# skewness and kurtosis\n",
    "print(\"Skewness: %f\" % data['fat'].skew())\n",
    "print(\"Kurtosis: %f\" % data['fat'].kurt())"
   ]
  },
  {
   "cell_type": "code",
   "execution_count": 25,
   "metadata": {
    "scrolled": false
   },
   "outputs": [
    {
     "data": {
      "image/png": "[encoded data removed]",
      "text/plain": [
       "<Figure size 432x288 with 1 Axes>"
      ]
     },
     "metadata": {
      "needs_background": "light"
     },
     "output_type": "display_data"
    }
   ],
   "source": [
    "# detectando outliers\n",
    "sns.boxplot(y=data['fat'])\n",
    "plt.show()"
   ]
  },
  {
   "cell_type": "markdown",
   "metadata": {},
   "source": [
    "### protein"
   ]
  },
  {
   "cell_type": "code",
   "execution_count": 26,
   "metadata": {},
   "outputs": [
    {
     "data": {
      "text/plain": [
       "mean        94.57\n",
       "std       3562.18\n",
       "min          0.00\n",
       "25%          3.00\n",
       "50%          9.00\n",
       "75%         29.00\n",
       "max     236489.00\n",
       "Name: protein, dtype: float64"
      ]
     },
     "execution_count": 26,
     "metadata": {},
     "output_type": "execute_result"
    }
   ],
   "source": [
    "data['protein'].describe().round(decimals=2).drop('count')"
   ]
  },
  {
   "cell_type": "code",
   "execution_count": 27,
   "metadata": {},
   "outputs": [
    {
     "data": {
      "text/plain": [
       "mean    15.15\n",
       "std     13.99\n",
       "min      0.00\n",
       "25%      5.00\n",
       "50%     15.15\n",
       "75%     16.00\n",
       "max     68.00\n",
       "Name: protein, dtype: float64"
      ]
     },
     "execution_count": 27,
     "metadata": {},
     "output_type": "execute_result"
    }
   ],
   "source": [
    "# preenchendo valores faltantes e outliers com media\n",
    "fillna_outlier_mean('protein')"
   ]
  },
  {
   "cell_type": "code",
   "execution_count": 28,
   "metadata": {},
   "outputs": [
    {
     "data": {
      "text/html": [
       "<div>\n",
       "<style scoped>\n",
       "    .dataframe tbody tr th:only-of-type {\n",
       "        vertical-align: middle;\n",
       "    }\n",
       "\n",
       "    .dataframe tbody tr th {\n",
       "        vertical-align: top;\n",
       "    }\n",
       "\n",
       "    .dataframe thead th {\n",
       "        text-align: right;\n",
       "    }\n",
       "</style>\n",
       "<table border=\"1\" class=\"dataframe\">\n",
       "  <thead>\n",
       "    <tr style=\"text-align: right;\">\n",
       "      <th></th>\n",
       "      <th>variable</th>\n",
       "      <th>missing values</th>\n",
       "      <th>filling factor (%)</th>\n",
       "    </tr>\n",
       "  </thead>\n",
       "  <tbody>\n",
       "    <tr>\n",
       "      <th>0</th>\n",
       "      <td>desc</td>\n",
       "      <td>5858</td>\n",
       "      <td>67.043601</td>\n",
       "    </tr>\n",
       "    <tr>\n",
       "      <th>1</th>\n",
       "      <td>sodium</td>\n",
       "      <td>3688</td>\n",
       "      <td>79.251758</td>\n",
       "    </tr>\n",
       "    <tr>\n",
       "      <th>2</th>\n",
       "      <td>calories</td>\n",
       "      <td>3687</td>\n",
       "      <td>79.257384</td>\n",
       "    </tr>\n",
       "    <tr>\n",
       "      <th>3</th>\n",
       "      <td>rating</td>\n",
       "      <td>9</td>\n",
       "      <td>99.949367</td>\n",
       "    </tr>\n",
       "    <tr>\n",
       "      <th>4</th>\n",
       "      <td>directions</td>\n",
       "      <td>0</td>\n",
       "      <td>100.000000</td>\n",
       "    </tr>\n",
       "    <tr>\n",
       "      <th>5</th>\n",
       "      <td>fat</td>\n",
       "      <td>0</td>\n",
       "      <td>100.000000</td>\n",
       "    </tr>\n",
       "    <tr>\n",
       "      <th>6</th>\n",
       "      <td>date</td>\n",
       "      <td>0</td>\n",
       "      <td>100.000000</td>\n",
       "    </tr>\n",
       "    <tr>\n",
       "      <th>7</th>\n",
       "      <td>categories</td>\n",
       "      <td>0</td>\n",
       "      <td>100.000000</td>\n",
       "    </tr>\n",
       "    <tr>\n",
       "      <th>8</th>\n",
       "      <td>protein</td>\n",
       "      <td>0</td>\n",
       "      <td>100.000000</td>\n",
       "    </tr>\n",
       "    <tr>\n",
       "      <th>9</th>\n",
       "      <td>title</td>\n",
       "      <td>0</td>\n",
       "      <td>100.000000</td>\n",
       "    </tr>\n",
       "    <tr>\n",
       "      <th>10</th>\n",
       "      <td>ingredients</td>\n",
       "      <td>0</td>\n",
       "      <td>100.000000</td>\n",
       "    </tr>\n",
       "  </tbody>\n",
       "</table>\n",
       "</div>"
      ],
      "text/plain": [
       "       variable  missing values  filling factor (%)\n",
       "0          desc            5858           67.043601\n",
       "1        sodium            3688           79.251758\n",
       "2      calories            3687           79.257384\n",
       "3        rating               9           99.949367\n",
       "4    directions               0          100.000000\n",
       "5           fat               0          100.000000\n",
       "6          date               0          100.000000\n",
       "7    categories               0          100.000000\n",
       "8       protein               0          100.000000\n",
       "9         title               0          100.000000\n",
       "10  ingredients               0          100.000000"
      ]
     },
     "execution_count": 28,
     "metadata": {},
     "output_type": "execute_result"
    }
   ],
   "source": [
    "show_filling_factor(data)"
   ]
  },
  {
   "cell_type": "code",
   "execution_count": 29,
   "metadata": {},
   "outputs": [
    {
     "data": {
      "image/png": "[encoded data removed]",
      "text/plain": [
       "<Figure size 432x288 with 1 Axes>"
      ]
     },
     "metadata": {
      "needs_background": "light"
     },
     "output_type": "display_data"
    },
    {
     "data": {
      "image/png": "[encoded data removed]",
      "text/plain": [
       "<Figure size 432x288 with 1 Axes>"
      ]
     },
     "metadata": {
      "needs_background": "light"
     },
     "output_type": "display_data"
    }
   ],
   "source": [
    "create_hist_prob_plot(data['protein'])"
   ]
  },
  {
   "cell_type": "code",
   "execution_count": 30,
   "metadata": {},
   "outputs": [
    {
     "name": "stdout",
     "output_type": "stream",
     "text": [
      "Skewness: 1.527584\n",
      "Kurtosis: 2.132793\n"
     ]
    }
   ],
   "source": [
    "# skewness and kurtosis\n",
    "print(\"Skewness: %f\" % data['protein'].skew())\n",
    "print(\"Kurtosis: %f\" % data['protein'].kurt())"
   ]
  },
  {
   "cell_type": "code",
   "execution_count": 31,
   "metadata": {},
   "outputs": [
    {
     "data": {
      "image/png": "[encoded data removed]",
      "text/plain": [
       "<Figure size 432x288 with 1 Axes>"
      ]
     },
     "metadata": {
      "needs_background": "light"
     },
     "output_type": "display_data"
    }
   ],
   "source": [
    "sns.boxplot(y=data['protein'])\n",
    "plt.show()"
   ]
  },
  {
   "cell_type": "markdown",
   "metadata": {},
   "source": [
    "### calories"
   ]
  },
  {
   "cell_type": "code",
   "execution_count": 32,
   "metadata": {},
   "outputs": [
    {
     "data": {
      "text/plain": [
       "mean        6806.13\n",
       "std       380247.67\n",
       "min            0.00\n",
       "25%          208.00\n",
       "50%          351.00\n",
       "75%          605.00\n",
       "max     30111218.00\n",
       "Name: calories, dtype: float64"
      ]
     },
     "execution_count": 32,
     "metadata": {},
     "output_type": "execute_result"
    }
   ],
   "source": [
    "data['calories'].describe().round(decimals=2).drop('count')"
   ]
  },
  {
   "cell_type": "code",
   "execution_count": 33,
   "metadata": {},
   "outputs": [
    {
     "data": {
      "text/plain": [
       "mean     395.06\n",
       "std      223.53\n",
       "min        0.00\n",
       "25%      242.00\n",
       "50%      395.06\n",
       "75%      460.00\n",
       "max     1200.00\n",
       "Name: calories, dtype: float64"
      ]
     },
     "execution_count": 33,
     "metadata": {},
     "output_type": "execute_result"
    }
   ],
   "source": [
    "# preenchendo valores faltantes e outliers com media\n",
    "fillna_outlier_mean('calories')"
   ]
  },
  {
   "cell_type": "code",
   "execution_count": 34,
   "metadata": {},
   "outputs": [
    {
     "data": {
      "text/html": [
       "<div>\n",
       "<style scoped>\n",
       "    .dataframe tbody tr th:only-of-type {\n",
       "        vertical-align: middle;\n",
       "    }\n",
       "\n",
       "    .dataframe tbody tr th {\n",
       "        vertical-align: top;\n",
       "    }\n",
       "\n",
       "    .dataframe thead th {\n",
       "        text-align: right;\n",
       "    }\n",
       "</style>\n",
       "<table border=\"1\" class=\"dataframe\">\n",
       "  <thead>\n",
       "    <tr style=\"text-align: right;\">\n",
       "      <th></th>\n",
       "      <th>variable</th>\n",
       "      <th>missing values</th>\n",
       "      <th>filling factor (%)</th>\n",
       "    </tr>\n",
       "  </thead>\n",
       "  <tbody>\n",
       "    <tr>\n",
       "      <th>0</th>\n",
       "      <td>desc</td>\n",
       "      <td>5858</td>\n",
       "      <td>67.043601</td>\n",
       "    </tr>\n",
       "    <tr>\n",
       "      <th>1</th>\n",
       "      <td>sodium</td>\n",
       "      <td>3688</td>\n",
       "      <td>79.251758</td>\n",
       "    </tr>\n",
       "    <tr>\n",
       "      <th>2</th>\n",
       "      <td>rating</td>\n",
       "      <td>9</td>\n",
       "      <td>99.949367</td>\n",
       "    </tr>\n",
       "    <tr>\n",
       "      <th>3</th>\n",
       "      <td>directions</td>\n",
       "      <td>0</td>\n",
       "      <td>100.000000</td>\n",
       "    </tr>\n",
       "    <tr>\n",
       "      <th>4</th>\n",
       "      <td>fat</td>\n",
       "      <td>0</td>\n",
       "      <td>100.000000</td>\n",
       "    </tr>\n",
       "    <tr>\n",
       "      <th>5</th>\n",
       "      <td>date</td>\n",
       "      <td>0</td>\n",
       "      <td>100.000000</td>\n",
       "    </tr>\n",
       "    <tr>\n",
       "      <th>6</th>\n",
       "      <td>categories</td>\n",
       "      <td>0</td>\n",
       "      <td>100.000000</td>\n",
       "    </tr>\n",
       "    <tr>\n",
       "      <th>7</th>\n",
       "      <td>calories</td>\n",
       "      <td>0</td>\n",
       "      <td>100.000000</td>\n",
       "    </tr>\n",
       "    <tr>\n",
       "      <th>8</th>\n",
       "      <td>protein</td>\n",
       "      <td>0</td>\n",
       "      <td>100.000000</td>\n",
       "    </tr>\n",
       "    <tr>\n",
       "      <th>9</th>\n",
       "      <td>title</td>\n",
       "      <td>0</td>\n",
       "      <td>100.000000</td>\n",
       "    </tr>\n",
       "    <tr>\n",
       "      <th>10</th>\n",
       "      <td>ingredients</td>\n",
       "      <td>0</td>\n",
       "      <td>100.000000</td>\n",
       "    </tr>\n",
       "  </tbody>\n",
       "</table>\n",
       "</div>"
      ],
      "text/plain": [
       "       variable  missing values  filling factor (%)\n",
       "0          desc            5858           67.043601\n",
       "1        sodium            3688           79.251758\n",
       "2        rating               9           99.949367\n",
       "3    directions               0          100.000000\n",
       "4           fat               0          100.000000\n",
       "5          date               0          100.000000\n",
       "6    categories               0          100.000000\n",
       "7      calories               0          100.000000\n",
       "8       protein               0          100.000000\n",
       "9         title               0          100.000000\n",
       "10  ingredients               0          100.000000"
      ]
     },
     "execution_count": 34,
     "metadata": {},
     "output_type": "execute_result"
    }
   ],
   "source": [
    "show_filling_factor(data)"
   ]
  },
  {
   "cell_type": "code",
   "execution_count": 35,
   "metadata": {},
   "outputs": [
    {
     "data": {
      "image/png": "[encoded data removed]",
      "text/plain": [
       "<Figure size 432x288 with 1 Axes>"
      ]
     },
     "metadata": {
      "needs_background": "light"
     },
     "output_type": "display_data"
    },
    {
     "data": {
      "image/png": "[encoded data removed]",
      "text/plain": [
       "<Figure size 432x288 with 1 Axes>"
      ]
     },
     "metadata": {
      "needs_background": "light"
     },
     "output_type": "display_data"
    }
   ],
   "source": [
    "create_hist_prob_plot(data['calories'])"
   ]
  },
  {
   "cell_type": "code",
   "execution_count": 36,
   "metadata": {},
   "outputs": [
    {
     "name": "stdout",
     "output_type": "stream",
     "text": [
      "Skewness: 1.047934\n",
      "Kurtosis: 1.355539\n"
     ]
    }
   ],
   "source": [
    "# skewness and kurtosis\n",
    "print(\"Skewness: %f\" % data['calories'].skew())\n",
    "print(\"Kurtosis: %f\" % data['calories'].kurt())"
   ]
  },
  {
   "cell_type": "code",
   "execution_count": 37,
   "metadata": {},
   "outputs": [
    {
     "data": {
      "image/png": "[encoded data removed]",
      "text/plain": [
       "<Figure size 432x288 with 1 Axes>"
      ]
     },
     "metadata": {
      "needs_background": "light"
     },
     "output_type": "display_data"
    }
   ],
   "source": [
    "sns.boxplot(y=data['calories'])\n",
    "plt.show()"
   ]
  },
  {
   "cell_type": "markdown",
   "metadata": {},
   "source": [
    "### sodium"
   ]
  },
  {
   "cell_type": "code",
   "execution_count": 38,
   "metadata": {},
   "outputs": [
    {
     "data": {
      "text/plain": [
       "mean        6756.18\n",
       "std       353498.62\n",
       "min            0.00\n",
       "25%           92.00\n",
       "50%          310.00\n",
       "75%          740.00\n",
       "max     27675110.00\n",
       "Name: sodium, dtype: float64"
      ]
     },
     "execution_count": 38,
     "metadata": {},
     "output_type": "execute_result"
    }
   ],
   "source": [
    "data['sodium'].describe().round(decimals=2).drop('count')"
   ]
  },
  {
   "cell_type": "code",
   "execution_count": 39,
   "metadata": {},
   "outputs": [
    {
     "data": {
      "text/plain": [
       "mean     404.99\n",
       "std      347.26\n",
       "min        0.00\n",
       "25%      137.00\n",
       "50%      404.99\n",
       "75%      462.00\n",
       "max     1712.00\n",
       "Name: sodium, dtype: float64"
      ]
     },
     "execution_count": 39,
     "metadata": {},
     "output_type": "execute_result"
    }
   ],
   "source": [
    "# preenchendo valores faltantes e outliers com media\n",
    "fillna_outlier_mean('sodium')"
   ]
  },
  {
   "cell_type": "code",
   "execution_count": 40,
   "metadata": {},
   "outputs": [
    {
     "data": {
      "text/html": [
       "<div>\n",
       "<style scoped>\n",
       "    .dataframe tbody tr th:only-of-type {\n",
       "        vertical-align: middle;\n",
       "    }\n",
       "\n",
       "    .dataframe tbody tr th {\n",
       "        vertical-align: top;\n",
       "    }\n",
       "\n",
       "    .dataframe thead th {\n",
       "        text-align: right;\n",
       "    }\n",
       "</style>\n",
       "<table border=\"1\" class=\"dataframe\">\n",
       "  <thead>\n",
       "    <tr style=\"text-align: right;\">\n",
       "      <th></th>\n",
       "      <th>variable</th>\n",
       "      <th>missing values</th>\n",
       "      <th>filling factor (%)</th>\n",
       "    </tr>\n",
       "  </thead>\n",
       "  <tbody>\n",
       "    <tr>\n",
       "      <th>0</th>\n",
       "      <td>desc</td>\n",
       "      <td>5858</td>\n",
       "      <td>67.043601</td>\n",
       "    </tr>\n",
       "    <tr>\n",
       "      <th>1</th>\n",
       "      <td>rating</td>\n",
       "      <td>9</td>\n",
       "      <td>99.949367</td>\n",
       "    </tr>\n",
       "    <tr>\n",
       "      <th>2</th>\n",
       "      <td>directions</td>\n",
       "      <td>0</td>\n",
       "      <td>100.000000</td>\n",
       "    </tr>\n",
       "    <tr>\n",
       "      <th>3</th>\n",
       "      <td>fat</td>\n",
       "      <td>0</td>\n",
       "      <td>100.000000</td>\n",
       "    </tr>\n",
       "    <tr>\n",
       "      <th>4</th>\n",
       "      <td>date</td>\n",
       "      <td>0</td>\n",
       "      <td>100.000000</td>\n",
       "    </tr>\n",
       "    <tr>\n",
       "      <th>5</th>\n",
       "      <td>categories</td>\n",
       "      <td>0</td>\n",
       "      <td>100.000000</td>\n",
       "    </tr>\n",
       "    <tr>\n",
       "      <th>6</th>\n",
       "      <td>calories</td>\n",
       "      <td>0</td>\n",
       "      <td>100.000000</td>\n",
       "    </tr>\n",
       "    <tr>\n",
       "      <th>7</th>\n",
       "      <td>protein</td>\n",
       "      <td>0</td>\n",
       "      <td>100.000000</td>\n",
       "    </tr>\n",
       "    <tr>\n",
       "      <th>8</th>\n",
       "      <td>title</td>\n",
       "      <td>0</td>\n",
       "      <td>100.000000</td>\n",
       "    </tr>\n",
       "    <tr>\n",
       "      <th>9</th>\n",
       "      <td>ingredients</td>\n",
       "      <td>0</td>\n",
       "      <td>100.000000</td>\n",
       "    </tr>\n",
       "    <tr>\n",
       "      <th>10</th>\n",
       "      <td>sodium</td>\n",
       "      <td>0</td>\n",
       "      <td>100.000000</td>\n",
       "    </tr>\n",
       "  </tbody>\n",
       "</table>\n",
       "</div>"
      ],
      "text/plain": [
       "       variable  missing values  filling factor (%)\n",
       "0          desc            5858           67.043601\n",
       "1        rating               9           99.949367\n",
       "2    directions               0          100.000000\n",
       "3           fat               0          100.000000\n",
       "4          date               0          100.000000\n",
       "5    categories               0          100.000000\n",
       "6      calories               0          100.000000\n",
       "7       protein               0          100.000000\n",
       "8         title               0          100.000000\n",
       "9   ingredients               0          100.000000\n",
       "10       sodium               0          100.000000"
      ]
     },
     "execution_count": 40,
     "metadata": {},
     "output_type": "execute_result"
    }
   ],
   "source": [
    "show_filling_factor(data)"
   ]
  },
  {
   "cell_type": "code",
   "execution_count": 41,
   "metadata": {},
   "outputs": [
    {
     "data": {
      "image/png": "[encoded data removed]",
      "text/plain": [
       "<Figure size 432x288 with 1 Axes>"
      ]
     },
     "metadata": {
      "needs_background": "light"
     },
     "output_type": "display_data"
    },
    {
     "data": {
      "image/png": "[encoded data removed]",
      "text/plain": [
       "<Figure size 432x288 with 1 Axes>"
      ]
     },
     "metadata": {
      "needs_background": "light"
     },
     "output_type": "display_data"
    }
   ],
   "source": [
    "create_hist_prob_plot(data['sodium'])"
   ]
  },
  {
   "cell_type": "code",
   "execution_count": 42,
   "metadata": {},
   "outputs": [
    {
     "name": "stdout",
     "output_type": "stream",
     "text": [
      "Skewness: 1.376115\n",
      "Kurtosis: 1.921805\n"
     ]
    }
   ],
   "source": [
    "# skewness and kurtosis\n",
    "print(\"Skewness: %f\" % data['sodium'].skew())\n",
    "print(\"Kurtosis: %f\" % data['sodium'].kurt())"
   ]
  },
  {
   "cell_type": "code",
   "execution_count": 43,
   "metadata": {},
   "outputs": [
    {
     "data": {
      "image/png": "[encoded data removed]",
      "text/plain": [
       "<Figure size 432x288 with 1 Axes>"
      ]
     },
     "metadata": {
      "needs_background": "light"
     },
     "output_type": "display_data"
    }
   ],
   "source": [
    "sns.boxplot(y=data['sodium'])\n",
    "plt.show()"
   ]
  },
  {
   "cell_type": "markdown",
   "metadata": {},
   "source": [
    "### rating"
   ]
  },
  {
   "cell_type": "code",
   "execution_count": 44,
   "metadata": {},
   "outputs": [
    {
     "data": {
      "text/plain": [
       "mean    3.72\n",
       "std     1.32\n",
       "min     0.00\n",
       "25%     3.75\n",
       "50%     4.38\n",
       "75%     4.38\n",
       "max     5.00\n",
       "Name: rating, dtype: float64"
      ]
     },
     "execution_count": 44,
     "metadata": {},
     "output_type": "execute_result"
    }
   ],
   "source": [
    "data['rating'].describe().round(decimals=2).drop('count')"
   ]
  },
  {
   "cell_type": "code",
   "execution_count": 61,
   "metadata": {},
   "outputs": [
    {
     "data": {
      "text/html": [
       "<div>\n",
       "<style scoped>\n",
       "    .dataframe tbody tr th:only-of-type {\n",
       "        vertical-align: middle;\n",
       "    }\n",
       "\n",
       "    .dataframe tbody tr th {\n",
       "        vertical-align: top;\n",
       "    }\n",
       "\n",
       "    .dataframe thead th {\n",
       "        text-align: right;\n",
       "    }\n",
       "</style>\n",
       "<table border=\"1\" class=\"dataframe\">\n",
       "  <thead>\n",
       "    <tr style=\"text-align: right;\">\n",
       "      <th></th>\n",
       "      <th>variable</th>\n",
       "      <th>missing values</th>\n",
       "      <th>filling factor (%)</th>\n",
       "    </tr>\n",
       "  </thead>\n",
       "  <tbody>\n",
       "    <tr>\n",
       "      <th>0</th>\n",
       "      <td>desc</td>\n",
       "      <td>5858</td>\n",
       "      <td>67.043601</td>\n",
       "    </tr>\n",
       "    <tr>\n",
       "      <th>1</th>\n",
       "      <td>directions</td>\n",
       "      <td>0</td>\n",
       "      <td>100.000000</td>\n",
       "    </tr>\n",
       "    <tr>\n",
       "      <th>2</th>\n",
       "      <td>fat</td>\n",
       "      <td>0</td>\n",
       "      <td>100.000000</td>\n",
       "    </tr>\n",
       "    <tr>\n",
       "      <th>3</th>\n",
       "      <td>date</td>\n",
       "      <td>0</td>\n",
       "      <td>100.000000</td>\n",
       "    </tr>\n",
       "    <tr>\n",
       "      <th>4</th>\n",
       "      <td>categories</td>\n",
       "      <td>0</td>\n",
       "      <td>100.000000</td>\n",
       "    </tr>\n",
       "    <tr>\n",
       "      <th>5</th>\n",
       "      <td>calories</td>\n",
       "      <td>0</td>\n",
       "      <td>100.000000</td>\n",
       "    </tr>\n",
       "    <tr>\n",
       "      <th>6</th>\n",
       "      <td>protein</td>\n",
       "      <td>0</td>\n",
       "      <td>100.000000</td>\n",
       "    </tr>\n",
       "    <tr>\n",
       "      <th>7</th>\n",
       "      <td>rating</td>\n",
       "      <td>0</td>\n",
       "      <td>100.000000</td>\n",
       "    </tr>\n",
       "    <tr>\n",
       "      <th>8</th>\n",
       "      <td>title</td>\n",
       "      <td>0</td>\n",
       "      <td>100.000000</td>\n",
       "    </tr>\n",
       "    <tr>\n",
       "      <th>9</th>\n",
       "      <td>ingredients</td>\n",
       "      <td>0</td>\n",
       "      <td>100.000000</td>\n",
       "    </tr>\n",
       "    <tr>\n",
       "      <th>10</th>\n",
       "      <td>sodium</td>\n",
       "      <td>0</td>\n",
       "      <td>100.000000</td>\n",
       "    </tr>\n",
       "    <tr>\n",
       "      <th>11</th>\n",
       "      <td>recipe_ingredients</td>\n",
       "      <td>0</td>\n",
       "      <td>100.000000</td>\n",
       "    </tr>\n",
       "  </tbody>\n",
       "</table>\n",
       "</div>"
      ],
      "text/plain": [
       "              variable  missing values  filling factor (%)\n",
       "0                 desc            5858           67.043601\n",
       "1           directions               0          100.000000\n",
       "2                  fat               0          100.000000\n",
       "3                 date               0          100.000000\n",
       "4           categories               0          100.000000\n",
       "5             calories               0          100.000000\n",
       "6              protein               0          100.000000\n",
       "7               rating               0          100.000000\n",
       "8                title               0          100.000000\n",
       "9          ingredients               0          100.000000\n",
       "10              sodium               0          100.000000\n",
       "11  recipe_ingredients               0          100.000000"
      ]
     },
     "execution_count": 61,
     "metadata": {},
     "output_type": "execute_result"
    }
   ],
   "source": [
    "# preenchendo os valores faltantes de rating com a média \n",
    "data['rating'].fillna(data['rating'].mean(), inplace=True)\n",
    "show_filling_factor(data)"
   ]
  },
  {
   "cell_type": "code",
   "execution_count": 46,
   "metadata": {},
   "outputs": [
    {
     "data": {
      "image/png": "[encoded data removed]",
      "text/plain": [
       "<Figure size 432x288 with 1 Axes>"
      ]
     },
     "metadata": {
      "needs_background": "light"
     },
     "output_type": "display_data"
    },
    {
     "data": {
      "image/png": "[encoded data removed]",
      "text/plain": [
       "<Figure size 432x288 with 1 Axes>"
      ]
     },
     "metadata": {
      "needs_background": "light"
     },
     "output_type": "display_data"
    }
   ],
   "source": [
    "create_hist_prob_plot(data['rating'])"
   ]
  },
  {
   "cell_type": "code",
   "execution_count": 47,
   "metadata": {},
   "outputs": [
    {
     "name": "stdout",
     "output_type": "stream",
     "text": [
      "Skewness: -0.256993\n",
      "Kurtosis: -0.081968\n"
     ]
    }
   ],
   "source": [
    "# skewness and kurtosis\n",
    "print(\"Skewness: %f\" % data['rating'].skew())\n",
    "print(\"Kurtosis: %f\" % data['rating'].kurt())"
   ]
  },
  {
   "cell_type": "code",
   "execution_count": 48,
   "metadata": {},
   "outputs": [
    {
     "data": {
      "image/png": "[encoded data removed]",
      "text/plain": [
       "<Figure size 432x288 with 1 Axes>"
      ]
     },
     "metadata": {
      "needs_background": "light"
     },
     "output_type": "display_data"
    }
   ],
   "source": [
    "sns.boxplot(y=data['rating'])\n",
    "plt.show()"
   ]
  },
  {
   "cell_type": "markdown",
   "metadata": {},
   "source": [
    "### categories"
   ]
  },
  {
   "cell_type": "code",
   "execution_count": 50,
   "metadata": {},
   "outputs": [
    {
     "data": {
      "image/png": "[encoded data removed]",
      "text/plain": [
       "<Figure size 720x576 with 1 Axes>"
      ]
     },
     "metadata": {},
     "output_type": "display_data"
    }
   ],
   "source": [
    "# Quantas vezes cada categoria aparece\n",
    "cat = count_sublist_values(data, 'categories')\n",
    "\n",
    "# plot top 10 categorias usadas\n",
    "plt.figure(figsize=(10,8))\n",
    "cat.value_counts().nlargest(10).plot.bar(5)\n",
    "plt.show()"
   ]
  },
  {
   "cell_type": "code",
   "execution_count": 51,
   "metadata": {},
   "outputs": [
    {
     "name": "stdout",
     "output_type": "stream",
     "text": [
      "Um total de 673 categorias\n"
     ]
    }
   ],
   "source": [
    "unique_cat = sublist_uniques(data, 'categories')\n",
    "print('Um total de {} categorias'.format(len(unique_cat)))"
   ]
  },
  {
   "cell_type": "code",
   "execution_count": 52,
   "metadata": {},
   "outputs": [
    {
     "data": {
      "text/plain": [
       "Bon Appétit          4\n",
       "Bake                 2\n",
       "Dinner               2\n",
       "Herb                 2\n",
       "Soy Free             2\n",
       "Pescatarian          2\n",
       "Peanut Free          2\n",
       "Walnut               2\n",
       "Sauté                2\n",
       "Clam                 1\n",
       "Dessert              1\n",
       "Pear                 1\n",
       "Chill                1\n",
       "Anniversary          1\n",
       "Dairy Free           1\n",
       "Seafood              1\n",
       "Chicken              1\n",
       "Egg                  1\n",
       "Dairy                1\n",
       "Squid                1\n",
       "Lobster              1\n",
       "Basil                1\n",
       "Mussel               1\n",
       "Valentine's Day      1\n",
       "Low Carb             1\n",
       "Noodle               1\n",
       "Fruit                1\n",
       "White Wine           1\n",
       "Tree Nut Free        1\n",
       "Kosher               1\n",
       "Potato               1\n",
       "Roast                1\n",
       "Freeze/Chill         1\n",
       "Citrus               1\n",
       "Tomato               1\n",
       "Slow Cooker          1\n",
       "Lamb                 1\n",
       "Olive                1\n",
       "Cake                 1\n",
       "Pumpkin              1\n",
       "High Fiber           1\n",
       "Ice Cream Machine    1\n",
       "Cheese               1\n",
       "Shrimp               1\n",
       "Low Cal              1\n",
       "Scallop              1\n",
       "Carrot               1\n",
       "Vegetarian           1\n",
       "Nut                  1\n",
       "Low Fat              1\n",
       "Summer               1\n",
       "Lemon                1\n",
       "Bread                1\n",
       "Pasta                1\n",
       "dtype: int64"
      ]
     },
     "execution_count": 52,
     "metadata": {},
     "output_type": "execute_result"
    }
   ],
   "source": [
    "# 5 receitas mais caloricas e suas categorias\n",
    "cal_receipts = data.nlargest(5, columns='calories')\n",
    "cal_receipts_unique_cat = count_sublist_values(cal_receipts, 'categories')\n",
    "cal_receipts_unique_cat.value_counts()"
   ]
  },
  {
   "cell_type": "markdown",
   "metadata": {},
   "source": [
    "### ingredients"
   ]
  },
  {
   "cell_type": "code",
   "execution_count": 53,
   "metadata": {},
   "outputs": [],
   "source": [
    "data.reset_index(drop=True, inplace=True)\n",
    "\n",
    "# extraindo ingredientes de cada registro\n",
    "recipe_ingredients = [] # armazena os ingredientes de cada receita\n",
    "ingredients_list = [] # lista com todos ingredientes presentes nos dados\n",
    "\n",
    "for i in range(len(data['ingredients'])):\n",
    "    recipe_ingredients.append([])\n",
    "    \n",
    "    for j in range(len(data['ingredients'][i])):\n",
    "        tokenized_ingredients = nltk.word_tokenize(data['ingredients'][i][j])\n",
    "        \n",
    "        # lista de tags https://www.ling.upenn.edu/courses/Fall_2003/ling001/penn_treebank_pos.html    \n",
    "        tagged_ingredients = nltk.pos_tag(tokenized_ingredients)         \n",
    "        tagged_ingredients = [k for k in tagged_ingredients if (k[1] == 'NN' or k[1] == 'NNS') and (re.match('[^0-9]', k[0]))]\n",
    "        tagged_ingredients = tagged_ingredients[-1:]\n",
    "        \n",
    "        if len(tagged_ingredients) != 0:\n",
    "            recipe_ingredients[i].append(tagged_ingredients[0][0]) # adicionando apenas o token\n",
    "            ingredients_list.append(tagged_ingredients[0][0])"
   ]
  },
  {
   "cell_type": "code",
   "execution_count": 54,
   "metadata": {},
   "outputs": [
    {
     "data": {
      "text/html": [
       "<div>\n",
       "<style scoped>\n",
       "    .dataframe tbody tr th:only-of-type {\n",
       "        vertical-align: middle;\n",
       "    }\n",
       "\n",
       "    .dataframe tbody tr th {\n",
       "        vertical-align: top;\n",
       "    }\n",
       "\n",
       "    .dataframe thead th {\n",
       "        text-align: right;\n",
       "    }\n",
       "</style>\n",
       "<table border=\"1\" class=\"dataframe\">\n",
       "  <thead>\n",
       "    <tr style=\"text-align: right;\">\n",
       "      <th></th>\n",
       "      <th>directions</th>\n",
       "      <th>fat</th>\n",
       "      <th>date</th>\n",
       "      <th>categories</th>\n",
       "      <th>calories</th>\n",
       "      <th>desc</th>\n",
       "      <th>protein</th>\n",
       "      <th>rating</th>\n",
       "      <th>title</th>\n",
       "      <th>ingredients</th>\n",
       "      <th>sodium</th>\n",
       "      <th>recipe_ingredients</th>\n",
       "    </tr>\n",
       "  </thead>\n",
       "  <tbody>\n",
       "    <tr>\n",
       "      <th>0</th>\n",
       "      <td>[1. Place the stock, lentils, celery, carrot, ...</td>\n",
       "      <td>7.000000</td>\n",
       "      <td>2006-09-01 04:00:00+00:00</td>\n",
       "      <td>[Sandwich, Bean, Fruit, Tomato, turkey, Vegeta...</td>\n",
       "      <td>426.000000</td>\n",
       "      <td>None</td>\n",
       "      <td>30.000000</td>\n",
       "      <td>4.173695</td>\n",
       "      <td>Lentil, Apple, and Turkey Wrap</td>\n",
       "      <td>[4 cups low-sodium vegetable or chicken stock,...</td>\n",
       "      <td>559.000000</td>\n",
       "      <td>[stock, lentils, lentils, celery, carrot, thym...</td>\n",
       "    </tr>\n",
       "    <tr>\n",
       "      <th>1</th>\n",
       "      <td>[Combine first 9 ingredients in heavy medium s...</td>\n",
       "      <td>23.000000</td>\n",
       "      <td>2004-08-20 04:00:00+00:00</td>\n",
       "      <td>[Food Processor, Onion, Pork, Bake, Bastille D...</td>\n",
       "      <td>403.000000</td>\n",
       "      <td>This uses the same ingredients found in boudin...</td>\n",
       "      <td>18.000000</td>\n",
       "      <td>4.375000</td>\n",
       "      <td>Boudin Blanc Terrine with Red Onion Confit</td>\n",
       "      <td>[1 1/2 cups whipping cream, 2 medium onions, c...</td>\n",
       "      <td>1439.000000</td>\n",
       "      <td>[cream, onions, salt, leaves, cloves, clove, p...</td>\n",
       "    </tr>\n",
       "    <tr>\n",
       "      <th>2</th>\n",
       "      <td>[In a large heavy saucepan cook diced fennel a...</td>\n",
       "      <td>7.000000</td>\n",
       "      <td>2004-08-20 04:00:00+00:00</td>\n",
       "      <td>[Soup/Stew, Dairy, Potato, Vegetable, Fennel, ...</td>\n",
       "      <td>165.000000</td>\n",
       "      <td>None</td>\n",
       "      <td>6.000000</td>\n",
       "      <td>3.750000</td>\n",
       "      <td>Potato and Fennel Soup Hodge</td>\n",
       "      <td>[1 fennel bulb (sometimes called anise), stalk...</td>\n",
       "      <td>165.000000</td>\n",
       "      <td>[garnish, onion, butter, potatoes, broth, milk]</td>\n",
       "    </tr>\n",
       "    <tr>\n",
       "      <th>3</th>\n",
       "      <td>[Heat oil in heavy large skillet over medium-h...</td>\n",
       "      <td>20.829886</td>\n",
       "      <td>2009-03-27 04:00:00+00:00</td>\n",
       "      <td>[Fish, Olive, Tomato, Sauté, Low Fat, Low Cal,...</td>\n",
       "      <td>395.056682</td>\n",
       "      <td>The Sicilian-style tomato sauce has tons of Me...</td>\n",
       "      <td>15.152385</td>\n",
       "      <td>5.000000</td>\n",
       "      <td>Mahi-Mahi in Tomato Olive Sauce</td>\n",
       "      <td>[2 tablespoons extra-virgin olive oil, 1 cup c...</td>\n",
       "      <td>404.991131</td>\n",
       "      <td>[oil, onion, wine, paste, juice, fillets, oliv...</td>\n",
       "    </tr>\n",
       "    <tr>\n",
       "      <th>4</th>\n",
       "      <td>[Preheat oven to 350°F. Lightly grease 8x8x2-i...</td>\n",
       "      <td>32.000000</td>\n",
       "      <td>2004-08-20 04:00:00+00:00</td>\n",
       "      <td>[Cheese, Dairy, Pasta, Vegetable, Side, Bake, ...</td>\n",
       "      <td>547.000000</td>\n",
       "      <td>None</td>\n",
       "      <td>20.000000</td>\n",
       "      <td>3.125000</td>\n",
       "      <td>Spinach Noodle Casserole</td>\n",
       "      <td>[1 12-ounce package frozen spinach soufflé, th...</td>\n",
       "      <td>452.000000</td>\n",
       "      <td>[soufflé, noodles, cream, sauce, nutmeg, cheese]</td>\n",
       "    </tr>\n",
       "  </tbody>\n",
       "</table>\n",
       "</div>"
      ],
      "text/plain": [
       "                                          directions        fat  \\\n",
       "0  [1. Place the stock, lentils, celery, carrot, ...   7.000000   \n",
       "1  [Combine first 9 ingredients in heavy medium s...  23.000000   \n",
       "2  [In a large heavy saucepan cook diced fennel a...   7.000000   \n",
       "3  [Heat oil in heavy large skillet over medium-h...  20.829886   \n",
       "4  [Preheat oven to 350°F. Lightly grease 8x8x2-i...  32.000000   \n",
       "\n",
       "                       date  \\\n",
       "0 2006-09-01 04:00:00+00:00   \n",
       "1 2004-08-20 04:00:00+00:00   \n",
       "2 2004-08-20 04:00:00+00:00   \n",
       "3 2009-03-27 04:00:00+00:00   \n",
       "4 2004-08-20 04:00:00+00:00   \n",
       "\n",
       "                                          categories    calories  \\\n",
       "0  [Sandwich, Bean, Fruit, Tomato, turkey, Vegeta...  426.000000   \n",
       "1  [Food Processor, Onion, Pork, Bake, Bastille D...  403.000000   \n",
       "2  [Soup/Stew, Dairy, Potato, Vegetable, Fennel, ...  165.000000   \n",
       "3  [Fish, Olive, Tomato, Sauté, Low Fat, Low Cal,...  395.056682   \n",
       "4  [Cheese, Dairy, Pasta, Vegetable, Side, Bake, ...  547.000000   \n",
       "\n",
       "                                                desc    protein    rating  \\\n",
       "0                                               None  30.000000  4.173695   \n",
       "1  This uses the same ingredients found in boudin...  18.000000  4.375000   \n",
       "2                                               None   6.000000  3.750000   \n",
       "3  The Sicilian-style tomato sauce has tons of Me...  15.152385  5.000000   \n",
       "4                                               None  20.000000  3.125000   \n",
       "\n",
       "                                         title  \\\n",
       "0              Lentil, Apple, and Turkey Wrap    \n",
       "1  Boudin Blanc Terrine with Red Onion Confit    \n",
       "2                Potato and Fennel Soup Hodge    \n",
       "3             Mahi-Mahi in Tomato Olive Sauce    \n",
       "4                    Spinach Noodle Casserole    \n",
       "\n",
       "                                         ingredients       sodium  \\\n",
       "0  [4 cups low-sodium vegetable or chicken stock,...   559.000000   \n",
       "1  [1 1/2 cups whipping cream, 2 medium onions, c...  1439.000000   \n",
       "2  [1 fennel bulb (sometimes called anise), stalk...   165.000000   \n",
       "3  [2 tablespoons extra-virgin olive oil, 1 cup c...   404.991131   \n",
       "4  [1 12-ounce package frozen spinach soufflé, th...   452.000000   \n",
       "\n",
       "                                  recipe_ingredients  \n",
       "0  [stock, lentils, lentils, celery, carrot, thym...  \n",
       "1  [cream, onions, salt, leaves, cloves, clove, p...  \n",
       "2    [garnish, onion, butter, potatoes, broth, milk]  \n",
       "3  [oil, onion, wine, paste, juice, fillets, oliv...  \n",
       "4   [soufflé, noodles, cream, sauce, nutmeg, cheese]  "
      ]
     },
     "execution_count": 54,
     "metadata": {},
     "output_type": "execute_result"
    }
   ],
   "source": [
    "# Quais os top 10 ingredientes contidos nas receitas mais calóricas?\n",
    "ingredients = pd.Series(recipe_ingredients, name='recipe_ingredients')\n",
    "data = pd.concat([data, ingredients], axis=1)\n",
    "data.head()"
   ]
  },
  {
   "cell_type": "code",
   "execution_count": 55,
   "metadata": {},
   "outputs": [
    {
     "data": {
      "image/png": "[encoded data removed]",
      "text/plain": [
       "<Figure size 432x288 with 1 Axes>"
      ]
     },
     "metadata": {},
     "output_type": "display_data"
    }
   ],
   "source": [
    "cal_receipts = data.nlargest(5, columns='calories')\n",
    "cal_receipts_unique_ing = count_sublist_values(cal_receipts, 'recipe_ingredients')\n",
    "cal_receipts_unique_ing.value_counts().nlargest(10, keep='all').plot.bar() \n",
    "plt.show()"
   ]
  },
  {
   "cell_type": "markdown",
   "metadata": {},
   "source": [
    "Era de se esperar que sal e açucar fossem os ingredientes mais utilizados. "
   ]
  },
  {
   "cell_type": "code",
   "execution_count": 56,
   "metadata": {},
   "outputs": [
    {
     "data": {
      "text/html": [
       "<div>\n",
       "<style scoped>\n",
       "    .dataframe tbody tr th:only-of-type {\n",
       "        vertical-align: middle;\n",
       "    }\n",
       "\n",
       "    .dataframe tbody tr th {\n",
       "        vertical-align: top;\n",
       "    }\n",
       "\n",
       "    .dataframe thead th {\n",
       "        text-align: right;\n",
       "    }\n",
       "</style>\n",
       "<table border=\"1\" class=\"dataframe\">\n",
       "  <thead>\n",
       "    <tr style=\"text-align: right;\">\n",
       "      <th></th>\n",
       "      <th>directions</th>\n",
       "      <th>fat</th>\n",
       "      <th>date</th>\n",
       "      <th>categories</th>\n",
       "      <th>calories</th>\n",
       "      <th>desc</th>\n",
       "      <th>protein</th>\n",
       "      <th>rating</th>\n",
       "      <th>title</th>\n",
       "      <th>ingredients</th>\n",
       "      <th>sodium</th>\n",
       "      <th>recipe_ingredients</th>\n",
       "    </tr>\n",
       "  </thead>\n",
       "  <tbody>\n",
       "    <tr>\n",
       "      <th>4664</th>\n",
       "      <td>[Arrange a rack in center of oven; preheat to ...</td>\n",
       "      <td>65.000000</td>\n",
       "      <td>2016-11-27 18:46:20.583000+00:00</td>\n",
       "      <td>[Vegetarian, Rice, Dinner, Orange, Parsnip, Ri...</td>\n",
       "      <td>935.000000</td>\n",
       "      <td>This simple rice salad combines hearty parsnip...</td>\n",
       "      <td>18.000000</td>\n",
       "      <td>5.0</td>\n",
       "      <td>Vegetarian Brown Rice Salad With Parsnips and ...</td>\n",
       "      <td>[3/4 cup short-grain brown rice, 3/4 cup plus ...</td>\n",
       "      <td>1061.000000</td>\n",
       "      <td>[rice, oil, salt, oranges, coins, clove, sprig...</td>\n",
       "    </tr>\n",
       "    <tr>\n",
       "      <th>15619</th>\n",
       "      <td>[Working one at a time, place turkey breast, s...</td>\n",
       "      <td>36.000000</td>\n",
       "      <td>2016-11-24 02:46:00+00:00</td>\n",
       "      <td>[Friendsgiving, Thanksgiving, Dinner, Butternu...</td>\n",
       "      <td>631.000000</td>\n",
       "      <td>For maximum juiciness and flavor, pound and se...</td>\n",
       "      <td>59.000000</td>\n",
       "      <td>5.0</td>\n",
       "      <td>Stuffed Turkey Breast With Butternut Squash, K...</td>\n",
       "      <td>[2 (3-pound) skin-on, boneless turkey breasts,...</td>\n",
       "      <td>1335.000000</td>\n",
       "      <td>[breasts, salt, pepper, fennel, oil, casings, ...</td>\n",
       "    </tr>\n",
       "    <tr>\n",
       "      <th>8486</th>\n",
       "      <td>[Heat milk in a small saucepan over low until ...</td>\n",
       "      <td>5.000000</td>\n",
       "      <td>2016-11-23 20:30:00+00:00</td>\n",
       "      <td>[Bread, Dinner, Christmas, Thanksgiving, Bake,...</td>\n",
       "      <td>122.000000</td>\n",
       "      <td>One simple master recipe, based on a classic F...</td>\n",
       "      <td>2.000000</td>\n",
       "      <td>5.0</td>\n",
       "      <td>Dinner Rolls Six Ways</td>\n",
       "      <td>[1/2 cup whole milk, 1 (1/4-ounce) envelope ac...</td>\n",
       "      <td>243.000000</td>\n",
       "      <td>[milk, teaspoons, salt, flour, honey, tablespo...</td>\n",
       "    </tr>\n",
       "    <tr>\n",
       "      <th>6323</th>\n",
       "      <td>[Heat butter and brown sugar in a small saucep...</td>\n",
       "      <td>26.000000</td>\n",
       "      <td>2016-11-22 17:36:17.100000+00:00</td>\n",
       "      <td>[Bon Appétit, Thanksgiving, Pie, Sweet Potato/...</td>\n",
       "      <td>409.000000</td>\n",
       "      <td>We tested this pie recipe with canned sweet po...</td>\n",
       "      <td>6.000000</td>\n",
       "      <td>5.0</td>\n",
       "      <td>Sweet Potato–Miso Pie With Chocolate-Sesame Cr...</td>\n",
       "      <td>[6 tablespoons unsalted butter, 1/4 cup (packe...</td>\n",
       "      <td>334.000000</td>\n",
       "      <td>[butter, sugar, seeds, pieces, salt, pound, su...</td>\n",
       "    </tr>\n",
       "    <tr>\n",
       "      <th>17265</th>\n",
       "      <td>[Preheat oven to 300°F. Butter a shallow 13x9\"...</td>\n",
       "      <td>36.000000</td>\n",
       "      <td>2016-11-21 23:33:04.148000+00:00</td>\n",
       "      <td>[Bon Appétit, Thanksgiving, Stuffing/Dressing,...</td>\n",
       "      <td>549.000000</td>\n",
       "      <td>This holiday-worthy recipe was inspired by bre...</td>\n",
       "      <td>23.000000</td>\n",
       "      <td>5.0</td>\n",
       "      <td>Cheesy Sausage and Sage Stuffing</td>\n",
       "      <td>[2 tablespoons unsalted butter, plus more, 1 m...</td>\n",
       "      <td>865.000000</td>\n",
       "      <td>[butter, cups, oil, casings, onions, stalks, s...</td>\n",
       "    </tr>\n",
       "    <tr>\n",
       "      <th>...</th>\n",
       "      <td>...</td>\n",
       "      <td>...</td>\n",
       "      <td>...</td>\n",
       "      <td>...</td>\n",
       "      <td>...</td>\n",
       "      <td>...</td>\n",
       "      <td>...</td>\n",
       "      <td>...</td>\n",
       "      <td>...</td>\n",
       "      <td>...</td>\n",
       "      <td>...</td>\n",
       "      <td>...</td>\n",
       "    </tr>\n",
       "    <tr>\n",
       "      <th>13376</th>\n",
       "      <td>[Bring sugar and 1 cup water to a boil in a me...</td>\n",
       "      <td>20.829886</td>\n",
       "      <td>2016-05-19 19:15:11.511000+00:00</td>\n",
       "      <td>[Bon Appétit, Cocktail, Punch, Tequila, Jalape...</td>\n",
       "      <td>395.056682</td>\n",
       "      <td>We love the citrusy sour flavor of hibiscus, n...</td>\n",
       "      <td>15.152385</td>\n",
       "      <td>5.0</td>\n",
       "      <td>Pineapple-Hibiscus Cocktail</td>\n",
       "      <td>[1 1/4 cups sugar, 1 pineapple, peeled, cut in...</td>\n",
       "      <td>404.991131</td>\n",
       "      <td>[sugar, pieces, vinegar, flowers, rounds, mint...</td>\n",
       "    </tr>\n",
       "    <tr>\n",
       "      <th>1249</th>\n",
       "      <td>[Preheat oven to 350°F. Toast sunflower seeds ...</td>\n",
       "      <td>19.000000</td>\n",
       "      <td>2016-05-19 17:42:56.460000+00:00</td>\n",
       "      <td>[Bon Appétit, Cookies, Bake, Chocolate, Coconu...</td>\n",
       "      <td>312.000000</td>\n",
       "      <td>One of those dreamy cookies elicits a silent r...</td>\n",
       "      <td>4.000000</td>\n",
       "      <td>5.0</td>\n",
       "      <td>Double and By Double I Mean Triple Chocolate C...</td>\n",
       "      <td>[1/2 cup raw sunflower seeds, 8 ounces bitters...</td>\n",
       "      <td>214.000000</td>\n",
       "      <td>[seeds, chocolate, chocolate, flour, powder, p...</td>\n",
       "    </tr>\n",
       "    <tr>\n",
       "      <th>1024</th>\n",
       "      <td>[Preheat oven to 350°F. Lightly coat two 9\"-di...</td>\n",
       "      <td>39.000000</td>\n",
       "      <td>2016-05-19 17:10:00.187000+00:00</td>\n",
       "      <td>[Bon Appétit, Cake, Carrot, Spring, Spice, Cre...</td>\n",
       "      <td>738.000000</td>\n",
       "      <td>This is the only carrot cake recipe you’ll eve...</td>\n",
       "      <td>8.000000</td>\n",
       "      <td>5.0</td>\n",
       "      <td>BA's Best Carrot Cake</td>\n",
       "      <td>[Nonstick vegetable oil spray, 1/2 cup golden ...</td>\n",
       "      <td>586.000000</td>\n",
       "      <td>[spray, raisins, rum, walnuts, carrots, temper...</td>\n",
       "    </tr>\n",
       "    <tr>\n",
       "      <th>16971</th>\n",
       "      <td>[Preheat oven to 275°F. Bring ancho chiles and...</td>\n",
       "      <td>20.829886</td>\n",
       "      <td>2016-05-19 15:14:18.076000+00:00</td>\n",
       "      <td>[Bon Appétit, Dinner, Lamb, Braise, Chile Pepp...</td>\n",
       "      <td>395.056682</td>\n",
       "      <td>Though Birrieria Zaragoza in Chicago uses goat...</td>\n",
       "      <td>15.152385</td>\n",
       "      <td>5.0</td>\n",
       "      <td>Braised Birria</td>\n",
       "      <td>[4 ounces ancho chiles (about 10), seeds remov...</td>\n",
       "      <td>404.991131</td>\n",
       "      <td>[chiles, peanuts, seeds, peppercorns, powder, ...</td>\n",
       "    </tr>\n",
       "    <tr>\n",
       "      <th>8004</th>\n",
       "      <td>[Heat oil in a large skillet over medium. Cook...</td>\n",
       "      <td>31.000000</td>\n",
       "      <td>2016-05-19 15:10:27.540000+00:00</td>\n",
       "      <td>[Bon Appétit, Clam, Chickpea, Dinner, Garlic, ...</td>\n",
       "      <td>824.000000</td>\n",
       "      <td>A dead-simple shellfish dish that is pure Eric...</td>\n",
       "      <td>15.152385</td>\n",
       "      <td>5.0</td>\n",
       "      <td>Steamed Clams With Chickpeas and Green Garlic</td>\n",
       "      <td>[2 tablespoons olive oil, 2 green garlic bulbs...</td>\n",
       "      <td>404.991131</td>\n",
       "      <td>[oil, cloves, wine, cream, juice, clams, fraîc...</td>\n",
       "    </tr>\n",
       "  </tbody>\n",
       "</table>\n",
       "<p>100 rows × 12 columns</p>\n",
       "</div>"
      ],
      "text/plain": [
       "                                              directions        fat  \\\n",
       "4664   [Arrange a rack in center of oven; preheat to ...  65.000000   \n",
       "15619  [Working one at a time, place turkey breast, s...  36.000000   \n",
       "8486   [Heat milk in a small saucepan over low until ...   5.000000   \n",
       "6323   [Heat butter and brown sugar in a small saucep...  26.000000   \n",
       "17265  [Preheat oven to 300°F. Butter a shallow 13x9\"...  36.000000   \n",
       "...                                                  ...        ...   \n",
       "13376  [Bring sugar and 1 cup water to a boil in a me...  20.829886   \n",
       "1249   [Preheat oven to 350°F. Toast sunflower seeds ...  19.000000   \n",
       "1024   [Preheat oven to 350°F. Lightly coat two 9\"-di...  39.000000   \n",
       "16971  [Preheat oven to 275°F. Bring ancho chiles and...  20.829886   \n",
       "8004   [Heat oil in a large skillet over medium. Cook...  31.000000   \n",
       "\n",
       "                                  date  \\\n",
       "4664  2016-11-27 18:46:20.583000+00:00   \n",
       "15619        2016-11-24 02:46:00+00:00   \n",
       "8486         2016-11-23 20:30:00+00:00   \n",
       "6323  2016-11-22 17:36:17.100000+00:00   \n",
       "17265 2016-11-21 23:33:04.148000+00:00   \n",
       "...                                ...   \n",
       "13376 2016-05-19 19:15:11.511000+00:00   \n",
       "1249  2016-05-19 17:42:56.460000+00:00   \n",
       "1024  2016-05-19 17:10:00.187000+00:00   \n",
       "16971 2016-05-19 15:14:18.076000+00:00   \n",
       "8004  2016-05-19 15:10:27.540000+00:00   \n",
       "\n",
       "                                              categories    calories  \\\n",
       "4664   [Vegetarian, Rice, Dinner, Orange, Parsnip, Ri...  935.000000   \n",
       "15619  [Friendsgiving, Thanksgiving, Dinner, Butternu...  631.000000   \n",
       "8486   [Bread, Dinner, Christmas, Thanksgiving, Bake,...  122.000000   \n",
       "6323   [Bon Appétit, Thanksgiving, Pie, Sweet Potato/...  409.000000   \n",
       "17265  [Bon Appétit, Thanksgiving, Stuffing/Dressing,...  549.000000   \n",
       "...                                                  ...         ...   \n",
       "13376  [Bon Appétit, Cocktail, Punch, Tequila, Jalape...  395.056682   \n",
       "1249   [Bon Appétit, Cookies, Bake, Chocolate, Coconu...  312.000000   \n",
       "1024   [Bon Appétit, Cake, Carrot, Spring, Spice, Cre...  738.000000   \n",
       "16971  [Bon Appétit, Dinner, Lamb, Braise, Chile Pepp...  395.056682   \n",
       "8004   [Bon Appétit, Clam, Chickpea, Dinner, Garlic, ...  824.000000   \n",
       "\n",
       "                                                    desc    protein  rating  \\\n",
       "4664   This simple rice salad combines hearty parsnip...  18.000000     5.0   \n",
       "15619  For maximum juiciness and flavor, pound and se...  59.000000     5.0   \n",
       "8486   One simple master recipe, based on a classic F...   2.000000     5.0   \n",
       "6323   We tested this pie recipe with canned sweet po...   6.000000     5.0   \n",
       "17265  This holiday-worthy recipe was inspired by bre...  23.000000     5.0   \n",
       "...                                                  ...        ...     ...   \n",
       "13376  We love the citrusy sour flavor of hibiscus, n...  15.152385     5.0   \n",
       "1249   One of those dreamy cookies elicits a silent r...   4.000000     5.0   \n",
       "1024   This is the only carrot cake recipe you’ll eve...   8.000000     5.0   \n",
       "16971  Though Birrieria Zaragoza in Chicago uses goat...  15.152385     5.0   \n",
       "8004   A dead-simple shellfish dish that is pure Eric...  15.152385     5.0   \n",
       "\n",
       "                                                   title  \\\n",
       "4664   Vegetarian Brown Rice Salad With Parsnips and ...   \n",
       "15619  Stuffed Turkey Breast With Butternut Squash, K...   \n",
       "8486                              Dinner Rolls Six Ways    \n",
       "6323   Sweet Potato–Miso Pie With Chocolate-Sesame Cr...   \n",
       "17265                  Cheesy Sausage and Sage Stuffing    \n",
       "...                                                  ...   \n",
       "13376                       Pineapple-Hibiscus Cocktail    \n",
       "1249   Double and By Double I Mean Triple Chocolate C...   \n",
       "1024                              BA's Best Carrot Cake    \n",
       "16971                                    Braised Birria    \n",
       "8004      Steamed Clams With Chickpeas and Green Garlic    \n",
       "\n",
       "                                             ingredients       sodium  \\\n",
       "4664   [3/4 cup short-grain brown rice, 3/4 cup plus ...  1061.000000   \n",
       "15619  [2 (3-pound) skin-on, boneless turkey breasts,...  1335.000000   \n",
       "8486   [1/2 cup whole milk, 1 (1/4-ounce) envelope ac...   243.000000   \n",
       "6323   [6 tablespoons unsalted butter, 1/4 cup (packe...   334.000000   \n",
       "17265  [2 tablespoons unsalted butter, plus more, 1 m...   865.000000   \n",
       "...                                                  ...          ...   \n",
       "13376  [1 1/4 cups sugar, 1 pineapple, peeled, cut in...   404.991131   \n",
       "1249   [1/2 cup raw sunflower seeds, 8 ounces bitters...   214.000000   \n",
       "1024   [Nonstick vegetable oil spray, 1/2 cup golden ...   586.000000   \n",
       "16971  [4 ounces ancho chiles (about 10), seeds remov...   404.991131   \n",
       "8004   [2 tablespoons olive oil, 2 green garlic bulbs...   404.991131   \n",
       "\n",
       "                                      recipe_ingredients  \n",
       "4664   [rice, oil, salt, oranges, coins, clove, sprig...  \n",
       "15619  [breasts, salt, pepper, fennel, oil, casings, ...  \n",
       "8486   [milk, teaspoons, salt, flour, honey, tablespo...  \n",
       "6323   [butter, sugar, seeds, pieces, salt, pound, su...  \n",
       "17265  [butter, cups, oil, casings, onions, stalks, s...  \n",
       "...                                                  ...  \n",
       "13376  [sugar, pieces, vinegar, flowers, rounds, mint...  \n",
       "1249   [seeds, chocolate, chocolate, flour, powder, p...  \n",
       "1024   [spray, raisins, rum, walnuts, carrots, temper...  \n",
       "16971  [chiles, peanuts, seeds, peppercorns, powder, ...  \n",
       "8004   [oil, cloves, wine, cream, juice, clams, fraîc...  \n",
       "\n",
       "[100 rows x 12 columns]"
      ]
     },
     "execution_count": 56,
     "metadata": {},
     "output_type": "execute_result"
    }
   ],
   "source": [
    "# Considerando-se as categorias das top 100 receitas em avaliação, quantas receitas há atualmente no site https://www.epicurious.com para cada categoria\n",
    "# usando as ultimas de acordo com a data\n",
    "top_100_rating_recipe = data.sort_values('date', ascending=False).nlargest(100, columns='rating')\n",
    "top_100_rating_recipe"
   ]
  },
  {
   "cell_type": "code",
   "execution_count": 57,
   "metadata": {
    "scrolled": true
   },
   "outputs": [
    {
     "data": {
      "text/plain": [
       "Index(['Bon Appétit', 'Dinner', 'Summer', 'Peanut Free', 'Vegetarian',\n",
       "       'Dessert', 'Soy Free', 'Tree Nut Free', 'Wheat/Gluten-Free',\n",
       "       'Pescatarian', 'Kosher', 'Garlic', 'Thanksgiving', 'Chile Pepper',\n",
       "       'HarperCollins', 'Tomato', 'Dairy Free', 'Salad', 'Chicken',\n",
       "       'Lime Juice', 'Bake', 'No Sugar Added', 'Fall', 'Kidney Friendly',\n",
       "       'Pork', 'Breakfast', 'Cilantro', 'Milk/Cream', 'Chocolate', 'Herb',\n",
       "       'Roast', 'Ginger', 'Quick & Easy', 'Side', 'Pie', 'Bread', 'Lemon',\n",
       "       'Coconut', 'Egg', 'Christmas', 'Butterscotch/Caramel', 'Fish', 'Brunch',\n",
       "       'Sweet Potato/Yam', 'Appetizer', 'Basil', 'Braise', 'Seed', 'Cheese',\n",
       "       'Lunch', 'Green Onion/Scallion', 'Winter', 'Mint', 'Peach', 'Spice',\n",
       "       'Goat Cheese', 'Fennel', 'Coriander', 'Pasta', 'Cumin', 'Kale',\n",
       "       'Soup/Stew', 'Grill', 'Buttermilk', 'Hot Pepper', 'Ice Cream', 'Almond',\n",
       "       'Sugar Conscious', 'Capers', 'Lemon Juice', 'Butternut Squash',\n",
       "       'Seafood', 'Corn', 'Cucumber', 'Quick and Healthy', 'Maple Syrup',\n",
       "       'Lamb', 'Chard', 'Orange', 'Paleo', 'Vinegar', 'Cream Cheese',\n",
       "       'Bourbon', 'Pastry', 'Carrot', 'Steak', 'Whiskey', 'Radish', 'Parsley',\n",
       "       'Flaming Hot Summer', 'Jalapeño', 'Potato', 'Zucchini', 'turkey',\n",
       "       'Parmesan', 'Melon', 'Cocktail', 'Fry', 'Blueberry', 'Frozen Dessert'],\n",
       "      dtype='object')"
      ]
     },
     "execution_count": 57,
     "metadata": {},
     "output_type": "execute_result"
    }
   ],
   "source": [
    "top_100_cat_recipe = count_sublist_values(top_100_rating_recipe, 'categories')\n",
    "\n",
    "# top 100 categorias das top 100 receitas em avaliação\n",
    "top_100_cat_recipe.value_counts().nlargest(100).index"
   ]
  },
  {
   "cell_type": "code",
   "execution_count": 58,
   "metadata": {},
   "outputs": [
    {
     "name": "stdout",
     "output_type": "stream",
     "text": [
      "Bon Appétit\n",
      "8470 receitas.\n",
      "\n",
      "Dinner\n",
      "2535 receitas.\n",
      "\n",
      "Summer\n",
      "3762 receitas.\n",
      "\n",
      "Peanut Free\n",
      "7564 receitas.\n",
      "\n",
      "Vegetarian\n",
      "6027 receitas.\n",
      "\n",
      "Dessert\n",
      "3153 receitas.\n",
      "\n",
      "Soy Free\n",
      "7279 receitas.\n",
      "\n",
      "Tree Nut Free\n",
      "6302 receitas.\n",
      "\n",
      "Wheat/Gluten-Free\n",
      "4357 receitas.\n",
      "\n",
      "Pescatarian\n",
      "5399 receitas.\n",
      "\n",
      "Kosher\n",
      "5511 receitas.\n",
      "\n",
      "Garlic\n",
      "1438 receitas.\n",
      "\n",
      "Thanksgiving\n",
      "1228 receitas.\n",
      "\n",
      "Chile Pepper\n",
      "210 receitas.\n",
      "\n",
      "HarperCollins\n",
      "117 receitas.\n",
      "\n",
      "Tomato\n",
      "1961 receitas.\n",
      "\n",
      "Dairy Free\n",
      "2853 receitas.\n",
      "\n",
      "Salad\n",
      "1432 receitas.\n",
      "\n",
      "Chicken\n",
      "1240 receitas.\n",
      "\n",
      "Lime Juice\n",
      "118 receitas.\n",
      "\n",
      "Bake\n",
      "4035 receitas.\n",
      "\n",
      "No Sugar Added\n",
      "2792 receitas.\n",
      "\n",
      "Fall\n",
      "2676 receitas.\n",
      "\n",
      "Kidney Friendly\n",
      "1955 receitas.\n",
      "\n",
      "Pork\n",
      "872 receitas.\n",
      "\n",
      "Breakfast\n",
      "677 receitas.\n",
      "\n",
      "Cilantro\n",
      "532 receitas.\n",
      "\n",
      "Milk/Cream\n",
      "1791 receitas.\n",
      "\n",
      "Chocolate\n",
      "769 receitas.\n",
      "\n",
      "Herb\n",
      "1490 receitas.\n",
      "\n",
      "Roast\n",
      "1173 receitas.\n",
      "\n",
      "Ginger\n",
      "1030 receitas.\n",
      "\n",
      "Quick & Easy\n",
      "4728 receitas.\n",
      "\n",
      "Side\n",
      "2710 receitas.\n",
      "\n",
      "Pie\n",
      "20 receitas.\n",
      "\n",
      "Bread\n",
      "428 receitas.\n",
      "\n",
      "Lemon\n",
      "982 receitas.\n",
      "\n",
      "Coconut\n",
      "337 receitas.\n",
      "\n",
      "Egg\n",
      "1599 receitas.\n",
      "\n",
      "Christmas\n",
      "897 receitas.\n",
      "\n",
      "Butterscotch/Caramel\n",
      "12 receitas.\n",
      "\n",
      "Fish\n",
      "872 receitas.\n",
      "\n",
      "Brunch\n",
      "783 receitas.\n",
      "\n",
      "Sweet Potato/Yam\n",
      "270 receitas.\n",
      "\n",
      "Appetizer\n",
      "1305 receitas.\n",
      "\n",
      "Basil\n",
      "521 receitas.\n",
      "\n",
      "Braise\n",
      "302 receitas.\n",
      "\n",
      "Seed\n",
      "130 receitas.\n",
      "\n",
      "Cheese\n",
      "1273 receitas.\n",
      "\n",
      "Lunch\n",
      "1284 receitas.\n",
      "\n",
      "Green Onion/Scallion\n",
      "108 receitas.\n",
      "\n",
      "Winter\n",
      "2768 receitas.\n",
      "\n",
      "Mint\n",
      "557 receitas.\n",
      "\n",
      "Peach\n",
      "178 receitas.\n",
      "\n",
      "Spice\n",
      "592 receitas.\n",
      "\n",
      "Goat Cheese\n",
      "298 receitas.\n",
      "\n",
      "Fennel\n",
      "341 receitas.\n",
      "\n",
      "Coriander\n",
      "114 receitas.\n",
      "\n",
      "Pasta\n",
      "934 receitas.\n",
      "\n",
      "Cumin\n",
      "81 receitas.\n",
      "\n",
      "Kale\n",
      "133 receitas.\n",
      "\n",
      "Soup/Stew\n",
      "1014 receitas.\n",
      "\n",
      "Grill\n",
      "507 receitas.\n",
      "\n",
      "Buttermilk\n",
      "70 receitas.\n",
      "\n",
      "Hot Pepper\n",
      "412 receitas.\n",
      "\n",
      "Ice Cream\n",
      "12 receitas.\n",
      "\n",
      "Almond\n",
      "542 receitas.\n",
      "\n",
      "Sugar Conscious\n",
      "2172 receitas.\n",
      "\n",
      "Capers\n",
      "167 receitas.\n",
      "\n",
      "Lemon Juice\n",
      "135 receitas.\n",
      "\n",
      "Butternut Squash\n",
      "174 receitas.\n",
      "\n",
      "Seafood\n",
      "382 receitas.\n",
      "\n",
      "Corn\n",
      "345 receitas.\n",
      "\n",
      "Cucumber\n",
      "359 receitas.\n",
      "\n",
      "Quick and Healthy\n",
      "64 receitas.\n",
      "\n",
      "Maple Syrup\n",
      "141 receitas.\n",
      "\n",
      "Lamb\n",
      "333 receitas.\n",
      "\n",
      "Chard\n",
      "77 receitas.\n",
      "\n",
      "Orange\n",
      "771 receitas.\n",
      "\n",
      "Paleo\n",
      "683 receitas.\n",
      "\n",
      "Vinegar\n",
      "549 receitas.\n",
      "\n",
      "Cream Cheese\n",
      "346 receitas.\n",
      "\n",
      "Bourbon\n",
      "113 receitas.\n",
      "\n",
      "Pastry\n",
      "73 receitas.\n",
      "\n",
      "Carrot\n",
      "609 receitas.\n",
      "\n",
      "Steak\n",
      "236 receitas.\n",
      "\n",
      "Whiskey\n",
      "52 receitas.\n",
      "\n",
      "Radish\n",
      "192 receitas.\n",
      "\n",
      "Parsley\n",
      "439 receitas.\n",
      "\n",
      "Flaming Hot Summer\n",
      "12 receitas.\n",
      "\n",
      "Jalapeño\n",
      "311 receitas.\n",
      "\n",
      "Potato\n",
      "1032 receitas.\n",
      "\n",
      "Zucchini\n",
      "285 receitas.\n",
      "\n",
      "turkey\n",
      "362 receitas.\n",
      "\n",
      "Parmesan\n",
      "609 receitas.\n",
      "\n",
      "Melon\n",
      "61 receitas.\n",
      "\n",
      "Cocktail\n",
      "339 receitas.\n",
      "\n",
      "Fry\n",
      "386 receitas.\n",
      "\n",
      "Blueberry\n",
      "168 receitas.\n",
      "\n",
      "Frozen Dessert\n",
      "320 receitas.\n",
      "\n"
     ]
    }
   ],
   "source": [
    "cat100 = top_100_cat_recipe.value_counts().nlargest(100).index\n",
    "for cat in cat100:\n",
    "    count = 0\n",
    "    print(cat)\n",
    "    for i in data.index:\n",
    "        val = data.loc[i,'categories']\n",
    "        if cat in val:\n",
    "            count+=1\n",
    "    print('{} receitas.\\n'.format(count))"
   ]
  },
  {
   "cell_type": "code",
   "execution_count": 59,
   "metadata": {},
   "outputs": [
    {
     "data": {
      "image/png": "[encoded data removed]",
      "text/plain": [
       "<Figure size 1440x216 with 4 Axes>"
      ]
     },
     "metadata": {},
     "output_type": "display_data"
    }
   ],
   "source": [
    "# Alguma característica presente nos dados determina a alta nota de uma receita?\n",
    "dict_plt = {0:'calories',1:'protein',2:'fat',3:'sodium'}\n",
    "\n",
    "sns.set(font_scale=.7)\n",
    "\n",
    "fig, ax = plt.subplots(1,4, figsize=(20,3))\n",
    "\n",
    "for i in range(4):\n",
    "    sns.barplot(x='rating',y=dict_plt[i], data=data, ax=ax[i], errwidth=1)\n",
    "    ax[i].set_title('rating por {}'.format(dict_plt[i]), size=15)\n",
    "    ax[i].set_ylabel('')"
   ]
  }
 ],
 "metadata": {
  "kernelspec": {
   "display_name": "Python 3",
   "language": "python",
   "name": "python3"
  },
  "language_info": {
   "codemirror_mode": {
    "name": "ipython",
    "version": 3
   },
   "file_extension": ".py",
   "mimetype": "text/x-python",
   "name": "python",
   "nbconvert_exporter": "python",
   "pygments_lexer": "ipython3",
   "version": "3.7.3"
  }
 },
 "nbformat": 4,
 "nbformat_minor": 2
}
