{
 "cells": [
  {
   "cell_type": "markdown",
   "metadata": {},
   "source": [
    "# Epicurious Data Analysis\n",
    "\n",
    "**Autor:** Raphael Brito Alencar\n",
    "\n",
    "**Descrição:** Análise dos dados coletados do site https://www.epicurious.com/"
   ]
  },
  {
   "cell_type": "code",
   "execution_count": 1,
   "metadata": {},
   "outputs": [
    {
     "name": "stderr",
     "output_type": "stream",
     "text": [
      "[nltk_data] Downloading package punkt to\n",
      "[nltk_data]     /Users/rochelle0liveira/nltk_data...\n",
      "[nltk_data]   Package punkt is already up-to-date!\n",
      "[nltk_data] Downloading package averaged_perceptron_tagger to\n",
      "[nltk_data]     /Users/rochelle0liveira/nltk_data...\n",
      "[nltk_data]   Package averaged_perceptron_tagger is already up-to-\n",
      "[nltk_data]       date!\n"
     ]
    }
   ],
   "source": [
    "# carregando libs\n",
    "import pandas as pd\n",
    "import numpy as np\n",
    "import seaborn as sns\n",
    "import matplotlib.pyplot as plt\n",
    "from scipy.stats import iqr, norm, probplot\n",
    "\n",
    "from wordcloud import WordCloud\n",
    "import nltk\n",
    "nltk.download('punkt')\n",
    "nltk.download('averaged_perceptron_tagger')\n",
    "from nltk import pos_tag, word_tokenize\n",
    "import re\n",
    "\n",
    "import json\n",
    "import gc\n",
    "\n",
    "%matplotlib inline"
   ]
  },
  {
   "cell_type": "code",
   "execution_count": 2,
   "metadata": {},
   "outputs": [],
   "source": [
    "# Utils\n",
    "# percentual de preenchimento de cada feature\n",
    "def show_filling_factor(data):\n",
    "    missing_df = data.isnull().sum(axis=0).reset_index()\n",
    "    missing_df.columns = ['variable', 'missing values']\n",
    "    missing_df['filling factor (%)'] = ((data.shape[0] - missing_df['missing values']) / data.shape[0]) * 100\n",
    "    return missing_df.sort_values('filling factor (%)').reset_index(drop = True)\n",
    "\n",
    "# histograma e normal probability plot\n",
    "def create_hist_prob_plot(ser):\n",
    "    sns.distplot(ser, fit=norm);\n",
    "    fig = plt.figure()\n",
    "    res = probplot(ser, plot=plt)\n",
    "    \n",
    "# transformar para log\n",
    "def log_transform(ser):\n",
    "    return ser.map(lambda i: np.log(i) if i > 0 else 0)\n",
    "\n",
    "def fillna_outlier_median(col):\n",
    "    # substituindo valores de outliers e valores faltantes pela mediana \n",
    "    IQR = iqr(data[col], nan_policy='omit')\n",
    "    upper_bound = data[col].quantile(0.75) + 1.5 * IQR\n",
    "    lower_bound = data[col].quantile(0.25) - 1.5 * IQR\n",
    "    \n",
    "    outliers = data[(data[col] > upper_bound) | (data[col] < lower_bound)]\n",
    "    outliers_idx = outliers.index\n",
    "    \n",
    "    median = data[~data.isin(outliers)][col].median()\n",
    "    \n",
    "    data.loc[outliers_idx, col] = median\n",
    "    data[col].fillna(median, inplace=True)\n",
    "    \n",
    "    return data[col].describe().round(decimals=2).drop('count')\n",
    "\n",
    "def skew_kurt(col):\n",
    "    # skewness e kurtosis\n",
    "    print(\"Skewness: %f\" % data[col].skew())\n",
    "    print(\"Kurtosis: %f\" % data[col].kurt())\n",
    "\n",
    "def count_sublist_values(data,sublist):\n",
    "    series = list()\n",
    "    for i in data.index:\n",
    "        try:\n",
    "            t = data.loc[i, sublist]\n",
    "            for j in t:\n",
    "                series.append(j)\n",
    "        except:\n",
    "            pass\n",
    "    return pd.Series(series)\n",
    "\n",
    "def sublist_uniques(data,sublist):\n",
    "    categories = set()\n",
    "    for i in data.index:\n",
    "        try:\n",
    "            t = data.loc[i, sublist]\n",
    "            for j in t:\n",
    "                categories.add(j)\n",
    "        except:\n",
    "            pass\n",
    "    return list(categories)\n",
    "\n",
    "def sublists_to_binaries(data, sublist, index_key = None):\n",
    "    categories = sublist_uniques(data,sublist)\n",
    "    frame = pd.DataFrame(columns=categories)\n",
    "    for i in data.index:\n",
    "        if type(data.loc[i, sublist]) == list or np.array:\n",
    "            try:\n",
    "                if index_key != None:\n",
    "                    key = data.loc[i, index_key]\n",
    "                    f = np.zeros(len(categories))\n",
    "                    for j in data.loc[i, sublist]:\n",
    "                        f[categories.index(j)] = 1\n",
    "                    if key in frame.index:\n",
    "                        for j in data.loc[i, sublist]:\n",
    "                            frame.loc[key][j]+=1\n",
    "                    else:\n",
    "                        frame.loc[key]=f\n",
    "                else:\n",
    "                    f = np.zeros(len(categories))\n",
    "                    for j in data.loc[i, sublist]:\n",
    "                        f[categories.index(j)] = 1\n",
    "                    frame.loc[i]=f\n",
    "            except:\n",
    "                pass\n",
    "                \n",
    "    return frame"
   ]
  },
  {
   "cell_type": "code",
   "execution_count": 3,
   "metadata": {},
   "outputs": [
    {
     "data": {
      "text/html": [
       "<div>\n",
       "<style scoped>\n",
       "    .dataframe tbody tr th:only-of-type {\n",
       "        vertical-align: middle;\n",
       "    }\n",
       "\n",
       "    .dataframe tbody tr th {\n",
       "        vertical-align: top;\n",
       "    }\n",
       "\n",
       "    .dataframe thead th {\n",
       "        text-align: right;\n",
       "    }\n",
       "</style>\n",
       "<table border=\"1\" class=\"dataframe\">\n",
       "  <thead>\n",
       "    <tr style=\"text-align: right;\">\n",
       "      <th></th>\n",
       "      <th>directions</th>\n",
       "      <th>fat</th>\n",
       "      <th>date</th>\n",
       "      <th>categories</th>\n",
       "      <th>calories</th>\n",
       "      <th>desc</th>\n",
       "      <th>protein</th>\n",
       "      <th>rating</th>\n",
       "      <th>title</th>\n",
       "      <th>ingredients</th>\n",
       "      <th>sodium</th>\n",
       "    </tr>\n",
       "  </thead>\n",
       "  <tbody>\n",
       "    <tr>\n",
       "      <th>0</th>\n",
       "      <td>[1. Place the stock, lentils, celery, carrot, ...</td>\n",
       "      <td>7.0</td>\n",
       "      <td>2006-09-01 04:00:00+00:00</td>\n",
       "      <td>[Sandwich, Bean, Fruit, Tomato, turkey, Vegeta...</td>\n",
       "      <td>426.0</td>\n",
       "      <td>None</td>\n",
       "      <td>30.0</td>\n",
       "      <td>2.500</td>\n",
       "      <td>Lentil, Apple, and Turkey Wrap</td>\n",
       "      <td>[4 cups low-sodium vegetable or chicken stock,...</td>\n",
       "      <td>559.0</td>\n",
       "    </tr>\n",
       "    <tr>\n",
       "      <th>1</th>\n",
       "      <td>[Combine first 9 ingredients in heavy medium s...</td>\n",
       "      <td>23.0</td>\n",
       "      <td>2004-08-20 04:00:00+00:00</td>\n",
       "      <td>[Food Processor, Onion, Pork, Bake, Bastille D...</td>\n",
       "      <td>403.0</td>\n",
       "      <td>This uses the same ingredients found in boudin...</td>\n",
       "      <td>18.0</td>\n",
       "      <td>4.375</td>\n",
       "      <td>Boudin Blanc Terrine with Red Onion Confit</td>\n",
       "      <td>[1 1/2 cups whipping cream, 2 medium onions, c...</td>\n",
       "      <td>1439.0</td>\n",
       "    </tr>\n",
       "    <tr>\n",
       "      <th>2</th>\n",
       "      <td>[In a large heavy saucepan cook diced fennel a...</td>\n",
       "      <td>7.0</td>\n",
       "      <td>2004-08-20 04:00:00+00:00</td>\n",
       "      <td>[Soup/Stew, Dairy, Potato, Vegetable, Fennel, ...</td>\n",
       "      <td>165.0</td>\n",
       "      <td>None</td>\n",
       "      <td>6.0</td>\n",
       "      <td>3.750</td>\n",
       "      <td>Potato and Fennel Soup Hodge</td>\n",
       "      <td>[1 fennel bulb (sometimes called anise), stalk...</td>\n",
       "      <td>165.0</td>\n",
       "    </tr>\n",
       "    <tr>\n",
       "      <th>3</th>\n",
       "      <td>[Heat oil in heavy large skillet over medium-h...</td>\n",
       "      <td>NaN</td>\n",
       "      <td>2009-03-27 04:00:00+00:00</td>\n",
       "      <td>[Fish, Olive, Tomato, Sauté, Low Fat, Low Cal,...</td>\n",
       "      <td>NaN</td>\n",
       "      <td>The Sicilian-style tomato sauce has tons of Me...</td>\n",
       "      <td>NaN</td>\n",
       "      <td>5.000</td>\n",
       "      <td>Mahi-Mahi in Tomato Olive Sauce</td>\n",
       "      <td>[2 tablespoons extra-virgin olive oil, 1 cup c...</td>\n",
       "      <td>NaN</td>\n",
       "    </tr>\n",
       "    <tr>\n",
       "      <th>4</th>\n",
       "      <td>[Preheat oven to 350°F. Lightly grease 8x8x2-i...</td>\n",
       "      <td>32.0</td>\n",
       "      <td>2004-08-20 04:00:00+00:00</td>\n",
       "      <td>[Cheese, Dairy, Pasta, Vegetable, Side, Bake, ...</td>\n",
       "      <td>547.0</td>\n",
       "      <td>None</td>\n",
       "      <td>20.0</td>\n",
       "      <td>3.125</td>\n",
       "      <td>Spinach Noodle Casserole</td>\n",
       "      <td>[1 12-ounce package frozen spinach soufflé, th...</td>\n",
       "      <td>452.0</td>\n",
       "    </tr>\n",
       "  </tbody>\n",
       "</table>\n",
       "</div>"
      ],
      "text/plain": [
       "                                          directions   fat  \\\n",
       "0  [1. Place the stock, lentils, celery, carrot, ...   7.0   \n",
       "1  [Combine first 9 ingredients in heavy medium s...  23.0   \n",
       "2  [In a large heavy saucepan cook diced fennel a...   7.0   \n",
       "3  [Heat oil in heavy large skillet over medium-h...   NaN   \n",
       "4  [Preheat oven to 350°F. Lightly grease 8x8x2-i...  32.0   \n",
       "\n",
       "                       date  \\\n",
       "0 2006-09-01 04:00:00+00:00   \n",
       "1 2004-08-20 04:00:00+00:00   \n",
       "2 2004-08-20 04:00:00+00:00   \n",
       "3 2009-03-27 04:00:00+00:00   \n",
       "4 2004-08-20 04:00:00+00:00   \n",
       "\n",
       "                                          categories  calories  \\\n",
       "0  [Sandwich, Bean, Fruit, Tomato, turkey, Vegeta...     426.0   \n",
       "1  [Food Processor, Onion, Pork, Bake, Bastille D...     403.0   \n",
       "2  [Soup/Stew, Dairy, Potato, Vegetable, Fennel, ...     165.0   \n",
       "3  [Fish, Olive, Tomato, Sauté, Low Fat, Low Cal,...       NaN   \n",
       "4  [Cheese, Dairy, Pasta, Vegetable, Side, Bake, ...     547.0   \n",
       "\n",
       "                                                desc  protein  rating  \\\n",
       "0                                               None     30.0   2.500   \n",
       "1  This uses the same ingredients found in boudin...     18.0   4.375   \n",
       "2                                               None      6.0   3.750   \n",
       "3  The Sicilian-style tomato sauce has tons of Me...      NaN   5.000   \n",
       "4                                               None     20.0   3.125   \n",
       "\n",
       "                                         title  \\\n",
       "0              Lentil, Apple, and Turkey Wrap    \n",
       "1  Boudin Blanc Terrine with Red Onion Confit    \n",
       "2                Potato and Fennel Soup Hodge    \n",
       "3             Mahi-Mahi in Tomato Olive Sauce    \n",
       "4                    Spinach Noodle Casserole    \n",
       "\n",
       "                                         ingredients  sodium  \n",
       "0  [4 cups low-sodium vegetable or chicken stock,...   559.0  \n",
       "1  [1 1/2 cups whipping cream, 2 medium onions, c...  1439.0  \n",
       "2  [1 fennel bulb (sometimes called anise), stalk...   165.0  \n",
       "3  [2 tablespoons extra-virgin olive oil, 1 cup c...     NaN  \n",
       "4  [1 12-ounce package frozen spinach soufflé, th...   452.0  "
      ]
     },
     "execution_count": 3,
     "metadata": {},
     "output_type": "execute_result"
    }
   ],
   "source": [
    "# carregando dados de receitas.json\n",
    "# verificando os primeiros registros\n",
    "data = pd.read_json('receitas.json')\n",
    "data.head()"
   ]
  },
  {
   "cell_type": "code",
   "execution_count": 4,
   "metadata": {},
   "outputs": [
    {
     "data": {
      "text/plain": [
       "(20130, 11)"
      ]
     },
     "execution_count": 4,
     "metadata": {},
     "output_type": "execute_result"
    }
   ],
   "source": [
    "data.shape"
   ]
  },
  {
   "cell_type": "code",
   "execution_count": 5,
   "metadata": {},
   "outputs": [
    {
     "name": "stdout",
     "output_type": "stream",
     "text": [
      "<class 'pandas.core.frame.DataFrame'>\n",
      "RangeIndex: 20130 entries, 0 to 20129\n",
      "Data columns (total 11 columns):\n",
      "directions     20111 non-null object\n",
      "fat            15908 non-null float64\n",
      "date           20111 non-null datetime64[ns, UTC]\n",
      "categories     20111 non-null object\n",
      "calories       15976 non-null float64\n",
      "desc           13495 non-null object\n",
      "protein        15929 non-null float64\n",
      "rating         20100 non-null float64\n",
      "title          20111 non-null object\n",
      "ingredients    20111 non-null object\n",
      "sodium         15974 non-null float64\n",
      "dtypes: datetime64[ns, UTC](1), float64(5), object(5)\n",
      "memory usage: 1.7+ MB\n"
     ]
    }
   ],
   "source": [
    "# informações sobre as colunas do dataframe\n",
    "data.info()"
   ]
  },
  {
   "cell_type": "code",
   "execution_count": 6,
   "metadata": {},
   "outputs": [
    {
     "data": {
      "text/html": [
       "<div>\n",
       "<style scoped>\n",
       "    .dataframe tbody tr th:only-of-type {\n",
       "        vertical-align: middle;\n",
       "    }\n",
       "\n",
       "    .dataframe tbody tr th {\n",
       "        vertical-align: top;\n",
       "    }\n",
       "\n",
       "    .dataframe thead th {\n",
       "        text-align: right;\n",
       "    }\n",
       "</style>\n",
       "<table border=\"1\" class=\"dataframe\">\n",
       "  <thead>\n",
       "    <tr style=\"text-align: right;\">\n",
       "      <th></th>\n",
       "      <th>fat</th>\n",
       "      <th>calories</th>\n",
       "      <th>protein</th>\n",
       "      <th>rating</th>\n",
       "      <th>sodium</th>\n",
       "    </tr>\n",
       "  </thead>\n",
       "  <tbody>\n",
       "    <tr>\n",
       "      <th>count</th>\n",
       "      <td>15908.00</td>\n",
       "      <td>15976.00</td>\n",
       "      <td>15929.00</td>\n",
       "      <td>20100.00</td>\n",
       "      <td>15974.00</td>\n",
       "    </tr>\n",
       "    <tr>\n",
       "      <th>mean</th>\n",
       "      <td>346.10</td>\n",
       "      <td>6307.86</td>\n",
       "      <td>99.95</td>\n",
       "      <td>3.71</td>\n",
       "      <td>6211.47</td>\n",
       "    </tr>\n",
       "    <tr>\n",
       "      <th>std</th>\n",
       "      <td>20431.02</td>\n",
       "      <td>358585.12</td>\n",
       "      <td>3835.62</td>\n",
       "      <td>1.34</td>\n",
       "      <td>332890.25</td>\n",
       "    </tr>\n",
       "    <tr>\n",
       "      <th>min</th>\n",
       "      <td>0.00</td>\n",
       "      <td>0.00</td>\n",
       "      <td>0.00</td>\n",
       "      <td>0.00</td>\n",
       "      <td>0.00</td>\n",
       "    </tr>\n",
       "    <tr>\n",
       "      <th>25%</th>\n",
       "      <td>7.00</td>\n",
       "      <td>198.00</td>\n",
       "      <td>3.00</td>\n",
       "      <td>3.75</td>\n",
       "      <td>80.00</td>\n",
       "    </tr>\n",
       "    <tr>\n",
       "      <th>50%</th>\n",
       "      <td>17.00</td>\n",
       "      <td>331.00</td>\n",
       "      <td>8.00</td>\n",
       "      <td>4.38</td>\n",
       "      <td>294.00</td>\n",
       "    </tr>\n",
       "    <tr>\n",
       "      <th>75%</th>\n",
       "      <td>33.00</td>\n",
       "      <td>586.00</td>\n",
       "      <td>27.00</td>\n",
       "      <td>4.38</td>\n",
       "      <td>711.00</td>\n",
       "    </tr>\n",
       "    <tr>\n",
       "      <th>max</th>\n",
       "      <td>1722763.00</td>\n",
       "      <td>30111218.00</td>\n",
       "      <td>236489.00</td>\n",
       "      <td>5.00</td>\n",
       "      <td>27675110.00</td>\n",
       "    </tr>\n",
       "  </tbody>\n",
       "</table>\n",
       "</div>"
      ],
      "text/plain": [
       "              fat     calories    protein    rating       sodium\n",
       "count    15908.00     15976.00   15929.00  20100.00     15974.00\n",
       "mean       346.10      6307.86      99.95      3.71      6211.47\n",
       "std      20431.02    358585.12    3835.62      1.34    332890.25\n",
       "min          0.00         0.00       0.00      0.00         0.00\n",
       "25%          7.00       198.00       3.00      3.75        80.00\n",
       "50%         17.00       331.00       8.00      4.38       294.00\n",
       "75%         33.00       586.00      27.00      4.38       711.00\n",
       "max    1722763.00  30111218.00  236489.00      5.00  27675110.00"
      ]
     },
     "execution_count": 6,
     "metadata": {},
     "output_type": "execute_result"
    }
   ],
   "source": [
    "# descrevendo estatísticas dos valores numéricos\n",
    "# resultado sem dados tratados\n",
    "data.describe().round(decimals=2)"
   ]
  },
  {
   "cell_type": "markdown",
   "metadata": {},
   "source": [
    "Alguns fatos observados na descrição estatística das features:\n",
    "* Temos valores extremos para fat, calories, protein e sodium\n",
    "* Um alto numero de ratings 4.38, o que parece um erro"
   ]
  },
  {
   "cell_type": "code",
   "execution_count": 7,
   "metadata": {},
   "outputs": [
    {
     "name": "stdout",
     "output_type": "stream",
     "text": [
      "Número de receitas duplicadas: 2354\n"
     ]
    }
   ],
   "source": [
    "# verificando registros duplicados\n",
    "print('Número de receitas duplicadas: {}'.format(data.duplicated('title').sum()))"
   ]
  },
  {
   "cell_type": "code",
   "execution_count": 8,
   "metadata": {},
   "outputs": [
    {
     "data": {
      "text/plain": [
       "(17776, 11)"
      ]
     },
     "execution_count": 8,
     "metadata": {},
     "output_type": "execute_result"
    }
   ],
   "source": [
    "# removendo registros duplicados\n",
    "data.drop_duplicates('title', keep='first', inplace=True)\n",
    "data.shape"
   ]
  },
  {
   "cell_type": "code",
   "execution_count": 9,
   "metadata": {},
   "outputs": [
    {
     "data": {
      "text/html": [
       "<div>\n",
       "<style scoped>\n",
       "    .dataframe tbody tr th:only-of-type {\n",
       "        vertical-align: middle;\n",
       "    }\n",
       "\n",
       "    .dataframe tbody tr th {\n",
       "        vertical-align: top;\n",
       "    }\n",
       "\n",
       "    .dataframe thead th {\n",
       "        text-align: right;\n",
       "    }\n",
       "</style>\n",
       "<table border=\"1\" class=\"dataframe\">\n",
       "  <thead>\n",
       "    <tr style=\"text-align: right;\">\n",
       "      <th></th>\n",
       "      <th>variable</th>\n",
       "      <th>missing values</th>\n",
       "      <th>filling factor (%)</th>\n",
       "    </tr>\n",
       "  </thead>\n",
       "  <tbody>\n",
       "    <tr>\n",
       "      <th>0</th>\n",
       "      <td>desc</td>\n",
       "      <td>5859</td>\n",
       "      <td>67.039829</td>\n",
       "    </tr>\n",
       "    <tr>\n",
       "      <th>1</th>\n",
       "      <td>fat</td>\n",
       "      <td>3732</td>\n",
       "      <td>79.005401</td>\n",
       "    </tr>\n",
       "    <tr>\n",
       "      <th>2</th>\n",
       "      <td>protein</td>\n",
       "      <td>3713</td>\n",
       "      <td>79.112286</td>\n",
       "    </tr>\n",
       "    <tr>\n",
       "      <th>3</th>\n",
       "      <td>sodium</td>\n",
       "      <td>3689</td>\n",
       "      <td>79.247300</td>\n",
       "    </tr>\n",
       "    <tr>\n",
       "      <th>4</th>\n",
       "      <td>calories</td>\n",
       "      <td>3688</td>\n",
       "      <td>79.252925</td>\n",
       "    </tr>\n",
       "    <tr>\n",
       "      <th>5</th>\n",
       "      <td>rating</td>\n",
       "      <td>10</td>\n",
       "      <td>99.943744</td>\n",
       "    </tr>\n",
       "    <tr>\n",
       "      <th>6</th>\n",
       "      <td>directions</td>\n",
       "      <td>1</td>\n",
       "      <td>99.994374</td>\n",
       "    </tr>\n",
       "    <tr>\n",
       "      <th>7</th>\n",
       "      <td>date</td>\n",
       "      <td>1</td>\n",
       "      <td>99.994374</td>\n",
       "    </tr>\n",
       "    <tr>\n",
       "      <th>8</th>\n",
       "      <td>categories</td>\n",
       "      <td>1</td>\n",
       "      <td>99.994374</td>\n",
       "    </tr>\n",
       "    <tr>\n",
       "      <th>9</th>\n",
       "      <td>title</td>\n",
       "      <td>1</td>\n",
       "      <td>99.994374</td>\n",
       "    </tr>\n",
       "    <tr>\n",
       "      <th>10</th>\n",
       "      <td>ingredients</td>\n",
       "      <td>1</td>\n",
       "      <td>99.994374</td>\n",
       "    </tr>\n",
       "  </tbody>\n",
       "</table>\n",
       "</div>"
      ],
      "text/plain": [
       "       variable  missing values  filling factor (%)\n",
       "0          desc            5859           67.039829\n",
       "1           fat            3732           79.005401\n",
       "2       protein            3713           79.112286\n",
       "3        sodium            3689           79.247300\n",
       "4      calories            3688           79.252925\n",
       "5        rating              10           99.943744\n",
       "6    directions               1           99.994374\n",
       "7          date               1           99.994374\n",
       "8    categories               1           99.994374\n",
       "9         title               1           99.994374\n",
       "10  ingredients               1           99.994374"
      ]
     },
     "execution_count": 9,
     "metadata": {},
     "output_type": "execute_result"
    }
   ],
   "source": [
    "show_filling_factor(data)"
   ]
  },
  {
   "cell_type": "markdown",
   "metadata": {},
   "source": [
    "Olhando a tabela acima, parece que os registros nulos são os mesmos para categories, date, directions, ingredients e title. No caso, 1 registro. Verificando:"
   ]
  },
  {
   "cell_type": "code",
   "execution_count": 10,
   "metadata": {},
   "outputs": [
    {
     "data": {
      "text/html": [
       "<div>\n",
       "<style scoped>\n",
       "    .dataframe tbody tr th:only-of-type {\n",
       "        vertical-align: middle;\n",
       "    }\n",
       "\n",
       "    .dataframe tbody tr th {\n",
       "        vertical-align: top;\n",
       "    }\n",
       "\n",
       "    .dataframe thead th {\n",
       "        text-align: right;\n",
       "    }\n",
       "</style>\n",
       "<table border=\"1\" class=\"dataframe\">\n",
       "  <thead>\n",
       "    <tr style=\"text-align: right;\">\n",
       "      <th></th>\n",
       "      <th>directions</th>\n",
       "      <th>fat</th>\n",
       "      <th>date</th>\n",
       "      <th>categories</th>\n",
       "      <th>calories</th>\n",
       "      <th>desc</th>\n",
       "      <th>protein</th>\n",
       "      <th>rating</th>\n",
       "      <th>title</th>\n",
       "      <th>ingredients</th>\n",
       "      <th>sodium</th>\n",
       "    </tr>\n",
       "  </thead>\n",
       "  <tbody>\n",
       "    <tr>\n",
       "      <th>1076</th>\n",
       "      <td>NaN</td>\n",
       "      <td>NaN</td>\n",
       "      <td>NaT</td>\n",
       "      <td>NaN</td>\n",
       "      <td>NaN</td>\n",
       "      <td>NaN</td>\n",
       "      <td>NaN</td>\n",
       "      <td>NaN</td>\n",
       "      <td>NaN</td>\n",
       "      <td>NaN</td>\n",
       "      <td>NaN</td>\n",
       "    </tr>\n",
       "  </tbody>\n",
       "</table>\n",
       "</div>"
      ],
      "text/plain": [
       "     directions  fat date categories  calories desc  protein  rating title  \\\n",
       "1076        NaN  NaN  NaT        NaN       NaN  NaN      NaN     NaN   NaN   \n",
       "\n",
       "     ingredients  sodium  \n",
       "1076         NaN     NaN  "
      ]
     },
     "execution_count": 10,
     "metadata": {},
     "output_type": "execute_result"
    }
   ],
   "source": [
    "# tratando valores nulos\n",
    "data[data['categories'].isna()]"
   ]
  },
  {
   "cell_type": "code",
   "execution_count": 11,
   "metadata": {},
   "outputs": [
    {
     "data": {
      "text/html": [
       "<div>\n",
       "<style scoped>\n",
       "    .dataframe tbody tr th:only-of-type {\n",
       "        vertical-align: middle;\n",
       "    }\n",
       "\n",
       "    .dataframe tbody tr th {\n",
       "        vertical-align: top;\n",
       "    }\n",
       "\n",
       "    .dataframe thead th {\n",
       "        text-align: right;\n",
       "    }\n",
       "</style>\n",
       "<table border=\"1\" class=\"dataframe\">\n",
       "  <thead>\n",
       "    <tr style=\"text-align: right;\">\n",
       "      <th></th>\n",
       "      <th>variable</th>\n",
       "      <th>missing values</th>\n",
       "      <th>filling factor (%)</th>\n",
       "    </tr>\n",
       "  </thead>\n",
       "  <tbody>\n",
       "    <tr>\n",
       "      <th>0</th>\n",
       "      <td>desc</td>\n",
       "      <td>5858</td>\n",
       "      <td>67.043601</td>\n",
       "    </tr>\n",
       "    <tr>\n",
       "      <th>1</th>\n",
       "      <td>fat</td>\n",
       "      <td>3731</td>\n",
       "      <td>79.009845</td>\n",
       "    </tr>\n",
       "    <tr>\n",
       "      <th>2</th>\n",
       "      <td>protein</td>\n",
       "      <td>3712</td>\n",
       "      <td>79.116737</td>\n",
       "    </tr>\n",
       "    <tr>\n",
       "      <th>3</th>\n",
       "      <td>sodium</td>\n",
       "      <td>3688</td>\n",
       "      <td>79.251758</td>\n",
       "    </tr>\n",
       "    <tr>\n",
       "      <th>4</th>\n",
       "      <td>calories</td>\n",
       "      <td>3687</td>\n",
       "      <td>79.257384</td>\n",
       "    </tr>\n",
       "    <tr>\n",
       "      <th>5</th>\n",
       "      <td>rating</td>\n",
       "      <td>9</td>\n",
       "      <td>99.949367</td>\n",
       "    </tr>\n",
       "    <tr>\n",
       "      <th>6</th>\n",
       "      <td>directions</td>\n",
       "      <td>0</td>\n",
       "      <td>100.000000</td>\n",
       "    </tr>\n",
       "    <tr>\n",
       "      <th>7</th>\n",
       "      <td>date</td>\n",
       "      <td>0</td>\n",
       "      <td>100.000000</td>\n",
       "    </tr>\n",
       "    <tr>\n",
       "      <th>8</th>\n",
       "      <td>categories</td>\n",
       "      <td>0</td>\n",
       "      <td>100.000000</td>\n",
       "    </tr>\n",
       "    <tr>\n",
       "      <th>9</th>\n",
       "      <td>title</td>\n",
       "      <td>0</td>\n",
       "      <td>100.000000</td>\n",
       "    </tr>\n",
       "    <tr>\n",
       "      <th>10</th>\n",
       "      <td>ingredients</td>\n",
       "      <td>0</td>\n",
       "      <td>100.000000</td>\n",
       "    </tr>\n",
       "  </tbody>\n",
       "</table>\n",
       "</div>"
      ],
      "text/plain": [
       "       variable  missing values  filling factor (%)\n",
       "0          desc            5858           67.043601\n",
       "1           fat            3731           79.009845\n",
       "2       protein            3712           79.116737\n",
       "3        sodium            3688           79.251758\n",
       "4      calories            3687           79.257384\n",
       "5        rating               9           99.949367\n",
       "6    directions               0          100.000000\n",
       "7          date               0          100.000000\n",
       "8    categories               0          100.000000\n",
       "9         title               0          100.000000\n",
       "10  ingredients               0          100.000000"
      ]
     },
     "execution_count": 11,
     "metadata": {},
     "output_type": "execute_result"
    }
   ],
   "source": [
    "# excluindo registros totalmente nulos\n",
    "data.drop(data[data['categories'].isna()].index, inplace=True)\n",
    "\n",
    "show_filling_factor(data)"
   ]
  },
  {
   "cell_type": "code",
   "execution_count": 12,
   "metadata": {},
   "outputs": [
    {
     "data": {
      "image/png": "[encoded data removed]",
      "text/plain": [
       "<Figure size 720x720 with 2 Axes>"
      ]
     },
     "metadata": {
      "needs_background": "light"
     },
     "output_type": "display_data"
    }
   ],
   "source": [
    "# verificando correlação entre variaveis numericas\n",
    "cols = ['rating', 'calories', 'protein', 'fat', 'sodium']\n",
    "\n",
    "plt.figure(figsize=(10,10))\n",
    "sns.heatmap(data[cols].corr(), vmax=1, square=True,annot=True,cmap='cubehelix')\n",
    "plt.title('Correlação entre rating e as informações nutricionais')\n",
    "plt.show()"
   ]
  },
  {
   "cell_type": "markdown",
   "metadata": {},
   "source": [
    "As variáveis nutricionais se correlacionam de forma positiva de acordo com o coeficiente de Pearson mostrado no heatmap acima. Fica claro, também, que ás variáveis **sodium** e **calories** são as que se correlacionam melhor com a variável **rating**.\n",
    "\n",
    "Vamos analisar cada variável separadamente para tirarmos algumas conclusões:"
   ]
  },
  {
   "cell_type": "markdown",
   "metadata": {},
   "source": [
    "### rating"
   ]
  },
  {
   "cell_type": "code",
   "execution_count": 13,
   "metadata": {},
   "outputs": [
    {
     "data": {
      "text/plain": [
       "mean    3.72\n",
       "std     1.32\n",
       "min     0.00\n",
       "25%     3.75\n",
       "50%     4.38\n",
       "75%     4.38\n",
       "max     5.00\n",
       "Name: rating, dtype: float64"
      ]
     },
     "execution_count": 13,
     "metadata": {},
     "output_type": "execute_result"
    }
   ],
   "source": [
    "data['rating'].describe().round(decimals=2).drop('count')"
   ]
  },
  {
   "cell_type": "code",
   "execution_count": 14,
   "metadata": {},
   "outputs": [
    {
     "data": {
      "text/html": [
       "<div>\n",
       "<style scoped>\n",
       "    .dataframe tbody tr th:only-of-type {\n",
       "        vertical-align: middle;\n",
       "    }\n",
       "\n",
       "    .dataframe tbody tr th {\n",
       "        vertical-align: top;\n",
       "    }\n",
       "\n",
       "    .dataframe thead th {\n",
       "        text-align: right;\n",
       "    }\n",
       "</style>\n",
       "<table border=\"1\" class=\"dataframe\">\n",
       "  <thead>\n",
       "    <tr style=\"text-align: right;\">\n",
       "      <th></th>\n",
       "      <th>directions</th>\n",
       "      <th>fat</th>\n",
       "      <th>date</th>\n",
       "      <th>categories</th>\n",
       "      <th>calories</th>\n",
       "      <th>desc</th>\n",
       "      <th>protein</th>\n",
       "      <th>rating</th>\n",
       "      <th>title</th>\n",
       "      <th>ingredients</th>\n",
       "      <th>sodium</th>\n",
       "    </tr>\n",
       "  </thead>\n",
       "  <tbody>\n",
       "    <tr>\n",
       "      <th>560</th>\n",
       "      <td>[Whisk chile, oil, lime juice, soy sauce, brow...</td>\n",
       "      <td>39.0</td>\n",
       "      <td>2013-04-05 04:00:00+00:00</td>\n",
       "      <td>[]</td>\n",
       "      <td>508.0</td>\n",
       "      <td>Although it's reason alone to keep a rotisseri...</td>\n",
       "      <td>25.0</td>\n",
       "      <td>NaN</td>\n",
       "      <td>Asian Chicken and Cabbage Salad</td>\n",
       "      <td>[1 red jalapeño or Fresno chile with some seed...</td>\n",
       "      <td>538.0</td>\n",
       "    </tr>\n",
       "    <tr>\n",
       "      <th>1749</th>\n",
       "      <td>[Whisk together sauce ingredients in a bowl un...</td>\n",
       "      <td>22.0</td>\n",
       "      <td>2012-11-27 04:00:00+00:00</td>\n",
       "      <td>[]</td>\n",
       "      <td>579.0</td>\n",
       "      <td>We like to think of the summer roll as an eleg...</td>\n",
       "      <td>20.0</td>\n",
       "      <td>NaN</td>\n",
       "      <td>Spicy Summer Rolls with Peanut Dipping Sauce</td>\n",
       "      <td>[2/3 cup hoisin sauce (see Cooks' notes:), 1/3...</td>\n",
       "      <td>1160.0</td>\n",
       "    </tr>\n",
       "    <tr>\n",
       "      <th>3931</th>\n",
       "      <td>[Beat 1/2 cup cream in a medium bowl until sti...</td>\n",
       "      <td>17.0</td>\n",
       "      <td>2013-01-07 04:00:00+00:00</td>\n",
       "      <td>[]</td>\n",
       "      <td>255.0</td>\n",
       "      <td>Dark chocolate and espresso add the slightly b...</td>\n",
       "      <td>5.0</td>\n",
       "      <td>NaN</td>\n",
       "      <td>Classic Chocolate Mousse</td>\n",
       "      <td>[3/4 cup chilled heavy cream, divided, 4 large...</td>\n",
       "      <td>74.0</td>\n",
       "    </tr>\n",
       "    <tr>\n",
       "      <th>4036</th>\n",
       "      <td>[Preheat oven to 450°F. Cut top 1/2\" off head ...</td>\n",
       "      <td>NaN</td>\n",
       "      <td>2011-08-10 04:00:00+00:00</td>\n",
       "      <td>[]</td>\n",
       "      <td>NaN</td>\n",
       "      <td>At Philadelphia's Bindi, legumes and rice are ...</td>\n",
       "      <td>NaN</td>\n",
       "      <td>NaN</td>\n",
       "      <td>South Indian Lentil Cakes with Raita</td>\n",
       "      <td>[1 head of garlic, 1 tablespoon extra-virgin o...</td>\n",
       "      <td>NaN</td>\n",
       "    </tr>\n",
       "    <tr>\n",
       "      <th>8262</th>\n",
       "      <td>[Preheat oven to 400°. Wash beets, leaving som...</td>\n",
       "      <td>0.0</td>\n",
       "      <td>2011-12-09 04:00:00+00:00</td>\n",
       "      <td>[]</td>\n",
       "      <td>117.0</td>\n",
       "      <td>Our fresh take on the classic Moroccan salad p...</td>\n",
       "      <td>3.0</td>\n",
       "      <td>NaN</td>\n",
       "      <td>Blood Orange, Beet, and Fennel Salad</td>\n",
       "      <td>[2 medium red beets, tops trimmed, 2 medium go...</td>\n",
       "      <td>51.0</td>\n",
       "    </tr>\n",
       "    <tr>\n",
       "      <th>11763</th>\n",
       "      <td>[Grill bread slices., Halve, pit, and thinly s...</td>\n",
       "      <td>NaN</td>\n",
       "      <td>2011-05-17 04:00:00+00:00</td>\n",
       "      <td>[]</td>\n",
       "      <td>NaN</td>\n",
       "      <td>This is inspired by the Italian combination of...</td>\n",
       "      <td>NaN</td>\n",
       "      <td>NaN</td>\n",
       "      <td>Peach, Prosciutto &amp; Ricotta Crostini</td>\n",
       "      <td>[12 slices ciabatta bread, 1 ripe peach, 1 tab...</td>\n",
       "      <td>NaN</td>\n",
       "    </tr>\n",
       "    <tr>\n",
       "      <th>12077</th>\n",
       "      <td>[Place pears and granulated sugar in a medium ...</td>\n",
       "      <td>18.0</td>\n",
       "      <td>2013-09-18 04:00:00+00:00</td>\n",
       "      <td>[]</td>\n",
       "      <td>355.0</td>\n",
       "      <td>When we were first dating, we would stay up in...</td>\n",
       "      <td>4.0</td>\n",
       "      <td>NaN</td>\n",
       "      <td>Tarte Bourdaloue</td>\n",
       "      <td>[2 Bosc or Anjou pears, peeled, cored and quar...</td>\n",
       "      <td>269.0</td>\n",
       "    </tr>\n",
       "    <tr>\n",
       "      <th>13781</th>\n",
       "      <td>[In a large bowl, whisk together tamari, 1 tab...</td>\n",
       "      <td>NaN</td>\n",
       "      <td>2014-05-09 04:00:00+00:00</td>\n",
       "      <td>[]</td>\n",
       "      <td>NaN</td>\n",
       "      <td>Crisp julienned vegetables add crunchy texture...</td>\n",
       "      <td>NaN</td>\n",
       "      <td>NaN</td>\n",
       "      <td>Sesame Rice Noodles with Shrimp</td>\n",
       "      <td>[1/4 cup gluten-free tamari or soy sauce, 1/4 ...</td>\n",
       "      <td>NaN</td>\n",
       "    </tr>\n",
       "    <tr>\n",
       "      <th>16839</th>\n",
       "      <td>[Mix almonds, chives, parsley, and 1 tablespoo...</td>\n",
       "      <td>NaN</td>\n",
       "      <td>2014-03-26 04:00:00+00:00</td>\n",
       "      <td>[]</td>\n",
       "      <td>NaN</td>\n",
       "      <td>Almonds are the new breadcrumbs. Their toasty ...</td>\n",
       "      <td>NaN</td>\n",
       "      <td>NaN</td>\n",
       "      <td>Linguine and Clams with Almonds and Herbs</td>\n",
       "      <td>[1/2 cup unsalted, roasted almonds, coarsely c...</td>\n",
       "      <td>NaN</td>\n",
       "    </tr>\n",
       "  </tbody>\n",
       "</table>\n",
       "</div>"
      ],
      "text/plain": [
       "                                              directions   fat  \\\n",
       "560    [Whisk chile, oil, lime juice, soy sauce, brow...  39.0   \n",
       "1749   [Whisk together sauce ingredients in a bowl un...  22.0   \n",
       "3931   [Beat 1/2 cup cream in a medium bowl until sti...  17.0   \n",
       "4036   [Preheat oven to 450°F. Cut top 1/2\" off head ...   NaN   \n",
       "8262   [Preheat oven to 400°. Wash beets, leaving som...   0.0   \n",
       "11763  [Grill bread slices., Halve, pit, and thinly s...   NaN   \n",
       "12077  [Place pears and granulated sugar in a medium ...  18.0   \n",
       "13781  [In a large bowl, whisk together tamari, 1 tab...   NaN   \n",
       "16839  [Mix almonds, chives, parsley, and 1 tablespoo...   NaN   \n",
       "\n",
       "                           date categories  calories  \\\n",
       "560   2013-04-05 04:00:00+00:00         []     508.0   \n",
       "1749  2012-11-27 04:00:00+00:00         []     579.0   \n",
       "3931  2013-01-07 04:00:00+00:00         []     255.0   \n",
       "4036  2011-08-10 04:00:00+00:00         []       NaN   \n",
       "8262  2011-12-09 04:00:00+00:00         []     117.0   \n",
       "11763 2011-05-17 04:00:00+00:00         []       NaN   \n",
       "12077 2013-09-18 04:00:00+00:00         []     355.0   \n",
       "13781 2014-05-09 04:00:00+00:00         []       NaN   \n",
       "16839 2014-03-26 04:00:00+00:00         []       NaN   \n",
       "\n",
       "                                                    desc  protein  rating  \\\n",
       "560    Although it's reason alone to keep a rotisseri...     25.0     NaN   \n",
       "1749   We like to think of the summer roll as an eleg...     20.0     NaN   \n",
       "3931   Dark chocolate and espresso add the slightly b...      5.0     NaN   \n",
       "4036   At Philadelphia's Bindi, legumes and rice are ...      NaN     NaN   \n",
       "8262   Our fresh take on the classic Moroccan salad p...      3.0     NaN   \n",
       "11763  This is inspired by the Italian combination of...      NaN     NaN   \n",
       "12077  When we were first dating, we would stay up in...      4.0     NaN   \n",
       "13781  Crisp julienned vegetables add crunchy texture...      NaN     NaN   \n",
       "16839  Almonds are the new breadcrumbs. Their toasty ...      NaN     NaN   \n",
       "\n",
       "                                               title  \\\n",
       "560                 Asian Chicken and Cabbage Salad    \n",
       "1749   Spicy Summer Rolls with Peanut Dipping Sauce    \n",
       "3931                       Classic Chocolate Mousse    \n",
       "4036           South Indian Lentil Cakes with Raita    \n",
       "8262           Blood Orange, Beet, and Fennel Salad    \n",
       "11763          Peach, Prosciutto & Ricotta Crostini    \n",
       "12077                              Tarte Bourdaloue    \n",
       "13781               Sesame Rice Noodles with Shrimp    \n",
       "16839     Linguine and Clams with Almonds and Herbs    \n",
       "\n",
       "                                             ingredients  sodium  \n",
       "560    [1 red jalapeño or Fresno chile with some seed...   538.0  \n",
       "1749   [2/3 cup hoisin sauce (see Cooks' notes:), 1/3...  1160.0  \n",
       "3931   [3/4 cup chilled heavy cream, divided, 4 large...    74.0  \n",
       "4036   [1 head of garlic, 1 tablespoon extra-virgin o...     NaN  \n",
       "8262   [2 medium red beets, tops trimmed, 2 medium go...    51.0  \n",
       "11763  [12 slices ciabatta bread, 1 ripe peach, 1 tab...     NaN  \n",
       "12077  [2 Bosc or Anjou pears, peeled, cored and quar...   269.0  \n",
       "13781  [1/4 cup gluten-free tamari or soy sauce, 1/4 ...     NaN  \n",
       "16839  [1/2 cup unsalted, roasted almonds, coarsely c...     NaN  "
      ]
     },
     "execution_count": 14,
     "metadata": {},
     "output_type": "execute_result"
    }
   ],
   "source": [
    "data[data['rating'].isna()]"
   ]
  },
  {
   "cell_type": "markdown",
   "metadata": {},
   "source": [
    "Analisando os 9 registros com valores faltantes de **rating** percebe-se que a maior parte das features para esses registros são nulas. Excluí-los não deve afetar nossa análise."
   ]
  },
  {
   "cell_type": "code",
   "execution_count": 15,
   "metadata": {},
   "outputs": [],
   "source": [
    "data.drop(data[data['rating'].isna()].index, inplace=True)"
   ]
  },
  {
   "cell_type": "code",
   "execution_count": 16,
   "metadata": {
    "scrolled": true
   },
   "outputs": [
    {
     "data": {
      "text/html": [
       "<div>\n",
       "<style scoped>\n",
       "    .dataframe tbody tr th:only-of-type {\n",
       "        vertical-align: middle;\n",
       "    }\n",
       "\n",
       "    .dataframe tbody tr th {\n",
       "        vertical-align: top;\n",
       "    }\n",
       "\n",
       "    .dataframe thead th {\n",
       "        text-align: right;\n",
       "    }\n",
       "</style>\n",
       "<table border=\"1\" class=\"dataframe\">\n",
       "  <thead>\n",
       "    <tr style=\"text-align: right;\">\n",
       "      <th></th>\n",
       "      <th>variable</th>\n",
       "      <th>missing values</th>\n",
       "      <th>filling factor (%)</th>\n",
       "    </tr>\n",
       "  </thead>\n",
       "  <tbody>\n",
       "    <tr>\n",
       "      <th>0</th>\n",
       "      <td>desc</td>\n",
       "      <td>5858</td>\n",
       "      <td>67.026905</td>\n",
       "    </tr>\n",
       "    <tr>\n",
       "      <th>1</th>\n",
       "      <td>fat</td>\n",
       "      <td>3727</td>\n",
       "      <td>79.021727</td>\n",
       "    </tr>\n",
       "    <tr>\n",
       "      <th>2</th>\n",
       "      <td>protein</td>\n",
       "      <td>3708</td>\n",
       "      <td>79.128673</td>\n",
       "    </tr>\n",
       "    <tr>\n",
       "      <th>3</th>\n",
       "      <td>sodium</td>\n",
       "      <td>3684</td>\n",
       "      <td>79.263762</td>\n",
       "    </tr>\n",
       "    <tr>\n",
       "      <th>4</th>\n",
       "      <td>calories</td>\n",
       "      <td>3683</td>\n",
       "      <td>79.269391</td>\n",
       "    </tr>\n",
       "    <tr>\n",
       "      <th>5</th>\n",
       "      <td>directions</td>\n",
       "      <td>0</td>\n",
       "      <td>100.000000</td>\n",
       "    </tr>\n",
       "    <tr>\n",
       "      <th>6</th>\n",
       "      <td>date</td>\n",
       "      <td>0</td>\n",
       "      <td>100.000000</td>\n",
       "    </tr>\n",
       "    <tr>\n",
       "      <th>7</th>\n",
       "      <td>categories</td>\n",
       "      <td>0</td>\n",
       "      <td>100.000000</td>\n",
       "    </tr>\n",
       "    <tr>\n",
       "      <th>8</th>\n",
       "      <td>rating</td>\n",
       "      <td>0</td>\n",
       "      <td>100.000000</td>\n",
       "    </tr>\n",
       "    <tr>\n",
       "      <th>9</th>\n",
       "      <td>title</td>\n",
       "      <td>0</td>\n",
       "      <td>100.000000</td>\n",
       "    </tr>\n",
       "    <tr>\n",
       "      <th>10</th>\n",
       "      <td>ingredients</td>\n",
       "      <td>0</td>\n",
       "      <td>100.000000</td>\n",
       "    </tr>\n",
       "  </tbody>\n",
       "</table>\n",
       "</div>"
      ],
      "text/plain": [
       "       variable  missing values  filling factor (%)\n",
       "0          desc            5858           67.026905\n",
       "1           fat            3727           79.021727\n",
       "2       protein            3708           79.128673\n",
       "3        sodium            3684           79.263762\n",
       "4      calories            3683           79.269391\n",
       "5    directions               0          100.000000\n",
       "6          date               0          100.000000\n",
       "7    categories               0          100.000000\n",
       "8        rating               0          100.000000\n",
       "9         title               0          100.000000\n",
       "10  ingredients               0          100.000000"
      ]
     },
     "execution_count": 16,
     "metadata": {},
     "output_type": "execute_result"
    }
   ],
   "source": [
    "show_filling_factor(data)"
   ]
  },
  {
   "cell_type": "markdown",
   "metadata": {},
   "source": [
    "Verificando a distribuição de **rating**:"
   ]
  },
  {
   "cell_type": "code",
   "execution_count": 17,
   "metadata": {},
   "outputs": [
    {
     "data": {
      "image/png": "[encoded data removed]",
      "text/plain": [
       "<Figure size 432x288 with 1 Axes>"
      ]
     },
     "metadata": {
      "needs_background": "light"
     },
     "output_type": "display_data"
    },
    {
     "data": {
      "image/png": "[encoded data removed]",
      "text/plain": [
       "<Figure size 432x288 with 1 Axes>"
      ]
     },
     "metadata": {
      "needs_background": "light"
     },
     "output_type": "display_data"
    }
   ],
   "source": [
    "create_hist_prob_plot(data['rating'])"
   ]
  },
  {
   "cell_type": "code",
   "execution_count": 18,
   "metadata": {},
   "outputs": [
    {
     "data": {
      "image/png": "[encoded data removed]",
      "text/plain": [
       "<Figure size 432x288 with 1 Axes>"
      ]
     },
     "metadata": {
      "needs_background": "light"
     },
     "output_type": "display_data"
    }
   ],
   "source": [
    "data['rating'].value_counts().plot.bar()\n",
    "plt.show()"
   ]
  },
  {
   "cell_type": "markdown",
   "metadata": {},
   "source": [
    "Um grande número de avaliações 4.375. Aparentemente algum erro!"
   ]
  },
  {
   "cell_type": "markdown",
   "metadata": {},
   "source": [
    "### fat"
   ]
  },
  {
   "cell_type": "code",
   "execution_count": 19,
   "metadata": {
    "scrolled": true
   },
   "outputs": [
    {
     "data": {
      "text/plain": [
       "mean        373.50\n",
       "std       21668.02\n",
       "min           0.00\n",
       "25%           9.00\n",
       "50%          18.00\n",
       "75%          35.00\n",
       "max     1722763.00\n",
       "Name: fat, dtype: float64"
      ]
     },
     "execution_count": 19,
     "metadata": {},
     "output_type": "execute_result"
    }
   ],
   "source": [
    "data['fat'].describe().round(decimals=2).drop('count')"
   ]
  },
  {
   "cell_type": "code",
   "execution_count": 20,
   "metadata": {},
   "outputs": [
    {
     "name": "stdout",
     "output_type": "stream",
     "text": [
      "Skewness: 74.252119\n",
      "Kurtosis: 5747.229472\n"
     ]
    }
   ],
   "source": [
    "skew_kurt('fat')"
   ]
  },
  {
   "cell_type": "markdown",
   "metadata": {},
   "source": [
    "**Skewness** é o grau de distorção da curva simétrica ou da distribuição normal. Mede a falta de simetria na distribuição dos dados, diferenciando valores extremos. Uma distribuição simétrica terá skewness 0.\n",
    "\n",
    "**Kurtosis** mostra tudo sobre a calda da distribuição. É usado para descrever os valores extremos, sendo na verdade a medida de outliers existentes na distribuição.\n",
    "\n",
    "Percebemos um valor para o Kurtosis muito alto (High Kurtosis), indicando que temos muitos outliers. Vamos ajustá-los e também preencher os valores faltantes com a média, utilizando a técnica de **IQR Score**: "
   ]
  },
  {
   "cell_type": "code",
   "execution_count": 21,
   "metadata": {},
   "outputs": [
    {
     "data": {
      "text/plain": [
       "mean    19.82\n",
       "std     14.87\n",
       "min      0.00\n",
       "25%     11.00\n",
       "50%     17.00\n",
       "75%     24.00\n",
       "max     74.00\n",
       "Name: fat, dtype: float64"
      ]
     },
     "execution_count": 21,
     "metadata": {},
     "output_type": "execute_result"
    }
   ],
   "source": [
    "# preenchendo valores faltantes e outliers com mediana\n",
    "fillna_outlier_median('fat')"
   ]
  },
  {
   "cell_type": "code",
   "execution_count": 22,
   "metadata": {},
   "outputs": [
    {
     "name": "stdout",
     "output_type": "stream",
     "text": [
      "Skewness: 1.333320\n",
      "Kurtosis: 1.859364\n"
     ]
    }
   ],
   "source": [
    "skew_kurt('fat')"
   ]
  },
  {
   "cell_type": "code",
   "execution_count": 23,
   "metadata": {},
   "outputs": [
    {
     "data": {
      "text/html": [
       "<div>\n",
       "<style scoped>\n",
       "    .dataframe tbody tr th:only-of-type {\n",
       "        vertical-align: middle;\n",
       "    }\n",
       "\n",
       "    .dataframe tbody tr th {\n",
       "        vertical-align: top;\n",
       "    }\n",
       "\n",
       "    .dataframe thead th {\n",
       "        text-align: right;\n",
       "    }\n",
       "</style>\n",
       "<table border=\"1\" class=\"dataframe\">\n",
       "  <thead>\n",
       "    <tr style=\"text-align: right;\">\n",
       "      <th></th>\n",
       "      <th>variable</th>\n",
       "      <th>missing values</th>\n",
       "      <th>filling factor (%)</th>\n",
       "    </tr>\n",
       "  </thead>\n",
       "  <tbody>\n",
       "    <tr>\n",
       "      <th>0</th>\n",
       "      <td>desc</td>\n",
       "      <td>5858</td>\n",
       "      <td>67.026905</td>\n",
       "    </tr>\n",
       "    <tr>\n",
       "      <th>1</th>\n",
       "      <td>protein</td>\n",
       "      <td>3708</td>\n",
       "      <td>79.128673</td>\n",
       "    </tr>\n",
       "    <tr>\n",
       "      <th>2</th>\n",
       "      <td>sodium</td>\n",
       "      <td>3684</td>\n",
       "      <td>79.263762</td>\n",
       "    </tr>\n",
       "    <tr>\n",
       "      <th>3</th>\n",
       "      <td>calories</td>\n",
       "      <td>3683</td>\n",
       "      <td>79.269391</td>\n",
       "    </tr>\n",
       "    <tr>\n",
       "      <th>4</th>\n",
       "      <td>directions</td>\n",
       "      <td>0</td>\n",
       "      <td>100.000000</td>\n",
       "    </tr>\n",
       "    <tr>\n",
       "      <th>5</th>\n",
       "      <td>fat</td>\n",
       "      <td>0</td>\n",
       "      <td>100.000000</td>\n",
       "    </tr>\n",
       "    <tr>\n",
       "      <th>6</th>\n",
       "      <td>date</td>\n",
       "      <td>0</td>\n",
       "      <td>100.000000</td>\n",
       "    </tr>\n",
       "    <tr>\n",
       "      <th>7</th>\n",
       "      <td>categories</td>\n",
       "      <td>0</td>\n",
       "      <td>100.000000</td>\n",
       "    </tr>\n",
       "    <tr>\n",
       "      <th>8</th>\n",
       "      <td>rating</td>\n",
       "      <td>0</td>\n",
       "      <td>100.000000</td>\n",
       "    </tr>\n",
       "    <tr>\n",
       "      <th>9</th>\n",
       "      <td>title</td>\n",
       "      <td>0</td>\n",
       "      <td>100.000000</td>\n",
       "    </tr>\n",
       "    <tr>\n",
       "      <th>10</th>\n",
       "      <td>ingredients</td>\n",
       "      <td>0</td>\n",
       "      <td>100.000000</td>\n",
       "    </tr>\n",
       "  </tbody>\n",
       "</table>\n",
       "</div>"
      ],
      "text/plain": [
       "       variable  missing values  filling factor (%)\n",
       "0          desc            5858           67.026905\n",
       "1       protein            3708           79.128673\n",
       "2        sodium            3684           79.263762\n",
       "3      calories            3683           79.269391\n",
       "4    directions               0          100.000000\n",
       "5           fat               0          100.000000\n",
       "6          date               0          100.000000\n",
       "7    categories               0          100.000000\n",
       "8        rating               0          100.000000\n",
       "9         title               0          100.000000\n",
       "10  ingredients               0          100.000000"
      ]
     },
     "execution_count": 23,
     "metadata": {},
     "output_type": "execute_result"
    }
   ],
   "source": [
    "show_filling_factor(data)"
   ]
  },
  {
   "cell_type": "markdown",
   "metadata": {},
   "source": [
    "Apresentando a distribuição da variável **fat** e gerando um gráfico de probabilidade dos dados em relação aos quantis de uma distribuição normal:"
   ]
  },
  {
   "cell_type": "code",
   "execution_count": 24,
   "metadata": {},
   "outputs": [
    {
     "data": {
      "image/png": "[encoded data removed]",
      "text/plain": [
       "<Figure size 432x288 with 1 Axes>"
      ]
     },
     "metadata": {
      "needs_background": "light"
     },
     "output_type": "display_data"
    },
    {
     "data": {
      "image/png": "[encoded data removed]",
      "text/plain": [
       "<Figure size 432x288 with 1 Axes>"
      ]
     },
     "metadata": {
      "needs_background": "light"
     },
     "output_type": "display_data"
    }
   ],
   "source": [
    "create_hist_prob_plot(data['fat'])"
   ]
  },
  {
   "cell_type": "markdown",
   "metadata": {},
   "source": [
    "Plotando um boxplot para visualizar a posição, simetria, dispersão e valores discrepantes dos dados da feature **fat**:"
   ]
  },
  {
   "cell_type": "code",
   "execution_count": 25,
   "metadata": {
    "scrolled": false
   },
   "outputs": [
    {
     "data": {
      "image/png": "[encoded data removed]",
      "text/plain": [
       "<Figure size 432x288 with 1 Axes>"
      ]
     },
     "metadata": {
      "needs_background": "light"
     },
     "output_type": "display_data"
    }
   ],
   "source": [
    "sns.boxplot(y=data['fat'])\n",
    "plt.show()"
   ]
  },
  {
   "cell_type": "markdown",
   "metadata": {},
   "source": [
    "### protein"
   ]
  },
  {
   "cell_type": "code",
   "execution_count": 26,
   "metadata": {},
   "outputs": [
    {
     "data": {
      "text/plain": [
       "mean        94.60\n",
       "std       3562.82\n",
       "min          0.00\n",
       "25%          3.00\n",
       "50%          9.00\n",
       "75%         29.00\n",
       "max     236489.00\n",
       "Name: protein, dtype: float64"
      ]
     },
     "execution_count": 26,
     "metadata": {},
     "output_type": "execute_result"
    }
   ],
   "source": [
    "data['protein'].describe().round(decimals=2).drop('count')"
   ]
  },
  {
   "cell_type": "code",
   "execution_count": 27,
   "metadata": {},
   "outputs": [
    {
     "name": "stdout",
     "output_type": "stream",
     "text": [
      "Skewness: 55.047617\n",
      "Kurtosis: 3177.812071\n"
     ]
    }
   ],
   "source": [
    "skew_kurt('protein')"
   ]
  },
  {
   "cell_type": "markdown",
   "metadata": {},
   "source": [
    "A feature **protein** também possui muitos valores extremos. Vamos tratá-los junto com os valores faltantes assim como foi feito com fat."
   ]
  },
  {
   "cell_type": "code",
   "execution_count": 28,
   "metadata": {},
   "outputs": [
    {
     "data": {
      "text/plain": [
       "mean    13.30\n",
       "std     14.34\n",
       "min      0.00\n",
       "25%      5.00\n",
       "50%      8.00\n",
       "75%     16.00\n",
       "max     68.00\n",
       "Name: protein, dtype: float64"
      ]
     },
     "execution_count": 28,
     "metadata": {},
     "output_type": "execute_result"
    }
   ],
   "source": [
    "# preenchendo valores faltantes e outliers com mediana\n",
    "fillna_outlier_median('protein')"
   ]
  },
  {
   "cell_type": "code",
   "execution_count": 29,
   "metadata": {},
   "outputs": [
    {
     "name": "stdout",
     "output_type": "stream",
     "text": [
      "Skewness: 1.777203\n",
      "Kurtosis: 2.487228\n"
     ]
    }
   ],
   "source": [
    "skew_kurt('protein')"
   ]
  },
  {
   "cell_type": "code",
   "execution_count": 30,
   "metadata": {},
   "outputs": [
    {
     "data": {
      "text/html": [
       "<div>\n",
       "<style scoped>\n",
       "    .dataframe tbody tr th:only-of-type {\n",
       "        vertical-align: middle;\n",
       "    }\n",
       "\n",
       "    .dataframe tbody tr th {\n",
       "        vertical-align: top;\n",
       "    }\n",
       "\n",
       "    .dataframe thead th {\n",
       "        text-align: right;\n",
       "    }\n",
       "</style>\n",
       "<table border=\"1\" class=\"dataframe\">\n",
       "  <thead>\n",
       "    <tr style=\"text-align: right;\">\n",
       "      <th></th>\n",
       "      <th>variable</th>\n",
       "      <th>missing values</th>\n",
       "      <th>filling factor (%)</th>\n",
       "    </tr>\n",
       "  </thead>\n",
       "  <tbody>\n",
       "    <tr>\n",
       "      <th>0</th>\n",
       "      <td>desc</td>\n",
       "      <td>5858</td>\n",
       "      <td>67.026905</td>\n",
       "    </tr>\n",
       "    <tr>\n",
       "      <th>1</th>\n",
       "      <td>sodium</td>\n",
       "      <td>3684</td>\n",
       "      <td>79.263762</td>\n",
       "    </tr>\n",
       "    <tr>\n",
       "      <th>2</th>\n",
       "      <td>calories</td>\n",
       "      <td>3683</td>\n",
       "      <td>79.269391</td>\n",
       "    </tr>\n",
       "    <tr>\n",
       "      <th>3</th>\n",
       "      <td>directions</td>\n",
       "      <td>0</td>\n",
       "      <td>100.000000</td>\n",
       "    </tr>\n",
       "    <tr>\n",
       "      <th>4</th>\n",
       "      <td>fat</td>\n",
       "      <td>0</td>\n",
       "      <td>100.000000</td>\n",
       "    </tr>\n",
       "    <tr>\n",
       "      <th>5</th>\n",
       "      <td>date</td>\n",
       "      <td>0</td>\n",
       "      <td>100.000000</td>\n",
       "    </tr>\n",
       "    <tr>\n",
       "      <th>6</th>\n",
       "      <td>categories</td>\n",
       "      <td>0</td>\n",
       "      <td>100.000000</td>\n",
       "    </tr>\n",
       "    <tr>\n",
       "      <th>7</th>\n",
       "      <td>protein</td>\n",
       "      <td>0</td>\n",
       "      <td>100.000000</td>\n",
       "    </tr>\n",
       "    <tr>\n",
       "      <th>8</th>\n",
       "      <td>rating</td>\n",
       "      <td>0</td>\n",
       "      <td>100.000000</td>\n",
       "    </tr>\n",
       "    <tr>\n",
       "      <th>9</th>\n",
       "      <td>title</td>\n",
       "      <td>0</td>\n",
       "      <td>100.000000</td>\n",
       "    </tr>\n",
       "    <tr>\n",
       "      <th>10</th>\n",
       "      <td>ingredients</td>\n",
       "      <td>0</td>\n",
       "      <td>100.000000</td>\n",
       "    </tr>\n",
       "  </tbody>\n",
       "</table>\n",
       "</div>"
      ],
      "text/plain": [
       "       variable  missing values  filling factor (%)\n",
       "0          desc            5858           67.026905\n",
       "1        sodium            3684           79.263762\n",
       "2      calories            3683           79.269391\n",
       "3    directions               0          100.000000\n",
       "4           fat               0          100.000000\n",
       "5          date               0          100.000000\n",
       "6    categories               0          100.000000\n",
       "7       protein               0          100.000000\n",
       "8        rating               0          100.000000\n",
       "9         title               0          100.000000\n",
       "10  ingredients               0          100.000000"
      ]
     },
     "execution_count": 30,
     "metadata": {},
     "output_type": "execute_result"
    }
   ],
   "source": [
    "show_filling_factor(data)"
   ]
  },
  {
   "cell_type": "markdown",
   "metadata": {},
   "source": [
    "Visualizando a distribuição de **protein**"
   ]
  },
  {
   "cell_type": "code",
   "execution_count": 31,
   "metadata": {},
   "outputs": [
    {
     "data": {
      "image/png": "[encoded data removed]",
      "text/plain": [
       "<Figure size 432x288 with 1 Axes>"
      ]
     },
     "metadata": {
      "needs_background": "light"
     },
     "output_type": "display_data"
    },
    {
     "data": {
      "image/png": "[encoded data removed]",
      "text/plain": [
       "<Figure size 432x288 with 1 Axes>"
      ]
     },
     "metadata": {
      "needs_background": "light"
     },
     "output_type": "display_data"
    }
   ],
   "source": [
    "create_hist_prob_plot(data['protein'])"
   ]
  },
  {
   "cell_type": "code",
   "execution_count": 32,
   "metadata": {},
   "outputs": [
    {
     "data": {
      "image/png": "[encoded data removed]",
      "text/plain": [
       "<Figure size 432x288 with 1 Axes>"
      ]
     },
     "metadata": {
      "needs_background": "light"
     },
     "output_type": "display_data"
    }
   ],
   "source": [
    "sns.boxplot(y=data['protein'])\n",
    "plt.show()"
   ]
  },
  {
   "cell_type": "markdown",
   "metadata": {},
   "source": [
    "### calories"
   ]
  },
  {
   "cell_type": "code",
   "execution_count": 33,
   "metadata": {},
   "outputs": [
    {
     "data": {
      "text/plain": [
       "mean        6808.42\n",
       "std       380315.15\n",
       "min            0.00\n",
       "25%          208.00\n",
       "50%          351.00\n",
       "75%          605.00\n",
       "max     30111218.00\n",
       "Name: calories, dtype: float64"
      ]
     },
     "execution_count": 33,
     "metadata": {},
     "output_type": "execute_result"
    }
   ],
   "source": [
    "data['calories'].describe().round(decimals=2).drop('count')"
   ]
  },
  {
   "cell_type": "code",
   "execution_count": 34,
   "metadata": {},
   "outputs": [
    {
     "name": "stdout",
     "output_type": "stream",
     "text": [
      "Skewness: 73.236272\n",
      "Kurtosis: 5635.426321\n"
     ]
    }
   ],
   "source": [
    "skew_kurt('calories')"
   ]
  },
  {
   "cell_type": "markdown",
   "metadata": {},
   "source": [
    "Vamos resolver os valores faltantes e outliers de **calories** da mesma forma que os anteriores."
   ]
  },
  {
   "cell_type": "code",
   "execution_count": 35,
   "metadata": {},
   "outputs": [
    {
     "data": {
      "text/plain": [
       "mean     377.61\n",
       "std      225.54\n",
       "min        0.00\n",
       "25%      242.00\n",
       "50%      327.00\n",
       "75%      460.00\n",
       "max     1200.00\n",
       "Name: calories, dtype: float64"
      ]
     },
     "execution_count": 35,
     "metadata": {},
     "output_type": "execute_result"
    }
   ],
   "source": [
    "# preenchendo valores faltantes e outliers com mediana\n",
    "fillna_outlier_median('calories')"
   ]
  },
  {
   "cell_type": "code",
   "execution_count": 36,
   "metadata": {},
   "outputs": [
    {
     "name": "stdout",
     "output_type": "stream",
     "text": [
      "Skewness: 1.246337\n",
      "Kurtosis: 1.556509\n"
     ]
    }
   ],
   "source": [
    "skew_kurt('calories')"
   ]
  },
  {
   "cell_type": "code",
   "execution_count": 37,
   "metadata": {},
   "outputs": [
    {
     "data": {
      "text/html": [
       "<div>\n",
       "<style scoped>\n",
       "    .dataframe tbody tr th:only-of-type {\n",
       "        vertical-align: middle;\n",
       "    }\n",
       "\n",
       "    .dataframe tbody tr th {\n",
       "        vertical-align: top;\n",
       "    }\n",
       "\n",
       "    .dataframe thead th {\n",
       "        text-align: right;\n",
       "    }\n",
       "</style>\n",
       "<table border=\"1\" class=\"dataframe\">\n",
       "  <thead>\n",
       "    <tr style=\"text-align: right;\">\n",
       "      <th></th>\n",
       "      <th>variable</th>\n",
       "      <th>missing values</th>\n",
       "      <th>filling factor (%)</th>\n",
       "    </tr>\n",
       "  </thead>\n",
       "  <tbody>\n",
       "    <tr>\n",
       "      <th>0</th>\n",
       "      <td>desc</td>\n",
       "      <td>5858</td>\n",
       "      <td>67.026905</td>\n",
       "    </tr>\n",
       "    <tr>\n",
       "      <th>1</th>\n",
       "      <td>sodium</td>\n",
       "      <td>3684</td>\n",
       "      <td>79.263762</td>\n",
       "    </tr>\n",
       "    <tr>\n",
       "      <th>2</th>\n",
       "      <td>directions</td>\n",
       "      <td>0</td>\n",
       "      <td>100.000000</td>\n",
       "    </tr>\n",
       "    <tr>\n",
       "      <th>3</th>\n",
       "      <td>fat</td>\n",
       "      <td>0</td>\n",
       "      <td>100.000000</td>\n",
       "    </tr>\n",
       "    <tr>\n",
       "      <th>4</th>\n",
       "      <td>date</td>\n",
       "      <td>0</td>\n",
       "      <td>100.000000</td>\n",
       "    </tr>\n",
       "    <tr>\n",
       "      <th>5</th>\n",
       "      <td>categories</td>\n",
       "      <td>0</td>\n",
       "      <td>100.000000</td>\n",
       "    </tr>\n",
       "    <tr>\n",
       "      <th>6</th>\n",
       "      <td>calories</td>\n",
       "      <td>0</td>\n",
       "      <td>100.000000</td>\n",
       "    </tr>\n",
       "    <tr>\n",
       "      <th>7</th>\n",
       "      <td>protein</td>\n",
       "      <td>0</td>\n",
       "      <td>100.000000</td>\n",
       "    </tr>\n",
       "    <tr>\n",
       "      <th>8</th>\n",
       "      <td>rating</td>\n",
       "      <td>0</td>\n",
       "      <td>100.000000</td>\n",
       "    </tr>\n",
       "    <tr>\n",
       "      <th>9</th>\n",
       "      <td>title</td>\n",
       "      <td>0</td>\n",
       "      <td>100.000000</td>\n",
       "    </tr>\n",
       "    <tr>\n",
       "      <th>10</th>\n",
       "      <td>ingredients</td>\n",
       "      <td>0</td>\n",
       "      <td>100.000000</td>\n",
       "    </tr>\n",
       "  </tbody>\n",
       "</table>\n",
       "</div>"
      ],
      "text/plain": [
       "       variable  missing values  filling factor (%)\n",
       "0          desc            5858           67.026905\n",
       "1        sodium            3684           79.263762\n",
       "2    directions               0          100.000000\n",
       "3           fat               0          100.000000\n",
       "4          date               0          100.000000\n",
       "5    categories               0          100.000000\n",
       "6      calories               0          100.000000\n",
       "7       protein               0          100.000000\n",
       "8        rating               0          100.000000\n",
       "9         title               0          100.000000\n",
       "10  ingredients               0          100.000000"
      ]
     },
     "execution_count": 37,
     "metadata": {},
     "output_type": "execute_result"
    }
   ],
   "source": [
    "show_filling_factor(data)"
   ]
  },
  {
   "cell_type": "code",
   "execution_count": 38,
   "metadata": {},
   "outputs": [
    {
     "data": {
      "image/png": "[encoded data removed]",
      "text/plain": [
       "<Figure size 432x288 with 1 Axes>"
      ]
     },
     "metadata": {
      "needs_background": "light"
     },
     "output_type": "display_data"
    },
    {
     "data": {
      "image/png": "[encoded data removed]",
      "text/plain": [
       "<Figure size 432x288 with 1 Axes>"
      ]
     },
     "metadata": {
      "needs_background": "light"
     },
     "output_type": "display_data"
    }
   ],
   "source": [
    "create_hist_prob_plot(data['calories'])"
   ]
  },
  {
   "cell_type": "code",
   "execution_count": 39,
   "metadata": {},
   "outputs": [
    {
     "data": {
      "image/png": "[encoded data removed]",
      "text/plain": [
       "<Figure size 432x288 with 1 Axes>"
      ]
     },
     "metadata": {
      "needs_background": "light"
     },
     "output_type": "display_data"
    }
   ],
   "source": [
    "sns.boxplot(y=data['calories'])\n",
    "plt.show()"
   ]
  },
  {
   "cell_type": "markdown",
   "metadata": {},
   "source": [
    "### sodium"
   ]
  },
  {
   "cell_type": "code",
   "execution_count": 40,
   "metadata": {},
   "outputs": [
    {
     "data": {
      "text/plain": [
       "mean        6758.43\n",
       "std       353561.36\n",
       "min            0.00\n",
       "25%           92.00\n",
       "50%          310.00\n",
       "75%          740.00\n",
       "max     27675110.00\n",
       "Name: sodium, dtype: float64"
      ]
     },
     "execution_count": 40,
     "metadata": {},
     "output_type": "execute_result"
    }
   ],
   "source": [
    "data['sodium'].describe().round(decimals=2).drop('count')"
   ]
  },
  {
   "cell_type": "code",
   "execution_count": 41,
   "metadata": {},
   "outputs": [
    {
     "name": "stdout",
     "output_type": "stream",
     "text": [
      "Skewness: 71.340269\n",
      "Kurtosis: 5396.853017\n"
     ]
    }
   ],
   "source": [
    "skew_kurt('sodium')"
   ]
  },
  {
   "cell_type": "code",
   "execution_count": 42,
   "metadata": {},
   "outputs": [
    {
     "data": {
      "text/plain": [
       "mean     368.81\n",
       "std      352.50\n",
       "min        0.00\n",
       "25%      137.00\n",
       "50%      268.00\n",
       "75%      462.00\n",
       "max     1712.00\n",
       "Name: sodium, dtype: float64"
      ]
     },
     "execution_count": 42,
     "metadata": {},
     "output_type": "execute_result"
    }
   ],
   "source": [
    "# preenchendo valores faltantes e outliers com mediana\n",
    "fillna_outlier_median('sodium')"
   ]
  },
  {
   "cell_type": "code",
   "execution_count": 43,
   "metadata": {},
   "outputs": [
    {
     "name": "stdout",
     "output_type": "stream",
     "text": [
      "Skewness: 1.609521\n",
      "Kurtosis: 2.240760\n"
     ]
    }
   ],
   "source": [
    "skew_kurt('sodium')"
   ]
  },
  {
   "cell_type": "code",
   "execution_count": 44,
   "metadata": {},
   "outputs": [
    {
     "data": {
      "text/html": [
       "<div>\n",
       "<style scoped>\n",
       "    .dataframe tbody tr th:only-of-type {\n",
       "        vertical-align: middle;\n",
       "    }\n",
       "\n",
       "    .dataframe tbody tr th {\n",
       "        vertical-align: top;\n",
       "    }\n",
       "\n",
       "    .dataframe thead th {\n",
       "        text-align: right;\n",
       "    }\n",
       "</style>\n",
       "<table border=\"1\" class=\"dataframe\">\n",
       "  <thead>\n",
       "    <tr style=\"text-align: right;\">\n",
       "      <th></th>\n",
       "      <th>variable</th>\n",
       "      <th>missing values</th>\n",
       "      <th>filling factor (%)</th>\n",
       "    </tr>\n",
       "  </thead>\n",
       "  <tbody>\n",
       "    <tr>\n",
       "      <th>0</th>\n",
       "      <td>desc</td>\n",
       "      <td>5858</td>\n",
       "      <td>67.026905</td>\n",
       "    </tr>\n",
       "    <tr>\n",
       "      <th>1</th>\n",
       "      <td>directions</td>\n",
       "      <td>0</td>\n",
       "      <td>100.000000</td>\n",
       "    </tr>\n",
       "    <tr>\n",
       "      <th>2</th>\n",
       "      <td>fat</td>\n",
       "      <td>0</td>\n",
       "      <td>100.000000</td>\n",
       "    </tr>\n",
       "    <tr>\n",
       "      <th>3</th>\n",
       "      <td>date</td>\n",
       "      <td>0</td>\n",
       "      <td>100.000000</td>\n",
       "    </tr>\n",
       "    <tr>\n",
       "      <th>4</th>\n",
       "      <td>categories</td>\n",
       "      <td>0</td>\n",
       "      <td>100.000000</td>\n",
       "    </tr>\n",
       "    <tr>\n",
       "      <th>5</th>\n",
       "      <td>calories</td>\n",
       "      <td>0</td>\n",
       "      <td>100.000000</td>\n",
       "    </tr>\n",
       "    <tr>\n",
       "      <th>6</th>\n",
       "      <td>protein</td>\n",
       "      <td>0</td>\n",
       "      <td>100.000000</td>\n",
       "    </tr>\n",
       "    <tr>\n",
       "      <th>7</th>\n",
       "      <td>rating</td>\n",
       "      <td>0</td>\n",
       "      <td>100.000000</td>\n",
       "    </tr>\n",
       "    <tr>\n",
       "      <th>8</th>\n",
       "      <td>title</td>\n",
       "      <td>0</td>\n",
       "      <td>100.000000</td>\n",
       "    </tr>\n",
       "    <tr>\n",
       "      <th>9</th>\n",
       "      <td>ingredients</td>\n",
       "      <td>0</td>\n",
       "      <td>100.000000</td>\n",
       "    </tr>\n",
       "    <tr>\n",
       "      <th>10</th>\n",
       "      <td>sodium</td>\n",
       "      <td>0</td>\n",
       "      <td>100.000000</td>\n",
       "    </tr>\n",
       "  </tbody>\n",
       "</table>\n",
       "</div>"
      ],
      "text/plain": [
       "       variable  missing values  filling factor (%)\n",
       "0          desc            5858           67.026905\n",
       "1    directions               0          100.000000\n",
       "2           fat               0          100.000000\n",
       "3          date               0          100.000000\n",
       "4    categories               0          100.000000\n",
       "5      calories               0          100.000000\n",
       "6       protein               0          100.000000\n",
       "7        rating               0          100.000000\n",
       "8         title               0          100.000000\n",
       "9   ingredients               0          100.000000\n",
       "10       sodium               0          100.000000"
      ]
     },
     "execution_count": 44,
     "metadata": {},
     "output_type": "execute_result"
    }
   ],
   "source": [
    "show_filling_factor(data)"
   ]
  },
  {
   "cell_type": "code",
   "execution_count": 45,
   "metadata": {},
   "outputs": [
    {
     "data": {
      "image/png": "[encoded data removed]",
      "text/plain": [
       "<Figure size 432x288 with 1 Axes>"
      ]
     },
     "metadata": {
      "needs_background": "light"
     },
     "output_type": "display_data"
    },
    {
     "data": {
      "image/png": "[encoded data removed]",
      "text/plain": [
       "<Figure size 432x288 with 1 Axes>"
      ]
     },
     "metadata": {
      "needs_background": "light"
     },
     "output_type": "display_data"
    }
   ],
   "source": [
    "create_hist_prob_plot(data['sodium'])"
   ]
  },
  {
   "cell_type": "code",
   "execution_count": 46,
   "metadata": {},
   "outputs": [
    {
     "data": {
      "image/png": "[encoded data removed]",
      "text/plain": [
       "<Figure size 432x288 with 1 Axes>"
      ]
     },
     "metadata": {
      "needs_background": "light"
     },
     "output_type": "display_data"
    }
   ],
   "source": [
    "sns.boxplot(y=data['sodium'])\n",
    "plt.show()"
   ]
  },
  {
   "cell_type": "markdown",
   "metadata": {},
   "source": [
    "### categories"
   ]
  },
  {
   "cell_type": "markdown",
   "metadata": {},
   "source": [
    "Verificando as 10 categorias mais utilizadas:"
   ]
  },
  {
   "cell_type": "code",
   "execution_count": 47,
   "metadata": {},
   "outputs": [
    {
     "data": {
      "image/png": "[encoded data removed]",
      "text/plain": [
       "<Figure size 720x576 with 1 Axes>"
      ]
     },
     "metadata": {
      "needs_background": "light"
     },
     "output_type": "display_data"
    },
    {
     "name": "stdout",
     "output_type": "stream",
     "text": [
      "Em um total de  \u001b[1m673 categorias\n"
     ]
    }
   ],
   "source": [
    "# Quantas vezes cada categoria aparece\n",
    "cat = count_sublist_values(data, 'categories')\n",
    "\n",
    "# plot top 10 categorias usadas\n",
    "plt.figure(figsize=(10,8))\n",
    "cat.value_counts().nlargest(10).plot.bar()\n",
    "plt.show()\n",
    "\n",
    "unique_cat = sublist_uniques(data, 'categories')\n",
    "print('Em um total de  \\u001b[1m{} categorias'.format(len(unique_cat)))"
   ]
  },
  {
   "cell_type": "markdown",
   "metadata": {},
   "source": [
    "#### 1) A que categorias pertencem as comidas mais calóricas?\n",
    "* Foram selecionadas as 5 receitas mais caloricas para a análise"
   ]
  },
  {
   "cell_type": "code",
   "execution_count": 48,
   "metadata": {},
   "outputs": [
    {
     "data": {
      "image/png": "[encoded data removed]",
      "text/plain": [
       "<Figure size 576x576 with 1 Axes>"
      ]
     },
     "metadata": {},
     "output_type": "display_data"
    }
   ],
   "source": [
    "# 5 receitas mais caloricas e suas categorias\n",
    "cal_receipts = data.nlargest(5, columns='calories')\n",
    "cal_receipts_unique_cat = count_sublist_values(cal_receipts, 'categories')\n",
    "\n",
    "plt.figure(figsize=(8, 8))\n",
    "cal_receipts_unique_cat.value_counts().plot.pie(rotatelabels=True, autopct='%1.0f%%', radius=2.0)\n",
    "plt.show()"
   ]
  },
  {
   "cell_type": "markdown",
   "metadata": {},
   "source": [
    "**6%** das **receitas mais calóricas** são categorizadas com **Bon Appétit**, sendo essa a categoria mais comum num total de **54** usadas nas receitas mais caóricas.\n",
    "\n",
    "Criando uma nuvem de palavras para melhorar a visualização das categorias mais usadas:"
   ]
  },
  {
   "cell_type": "code",
   "execution_count": 49,
   "metadata": {},
   "outputs": [
    {
     "data": {
      "image/png": "[encoded data removed]",
      "text/plain": [
       "<Figure size 432x288 with 1 Axes>"
      ]
     },
     "metadata": {
      "needs_background": "light"
     },
     "output_type": "display_data"
    }
   ],
   "source": [
    "wordCloud = WordCloud(width=1000, height=500).generate_from_frequencies(cal_receipts_unique_cat.value_counts())\n",
    "plt.imshow(wordCloud, interpolation='bilinear')\n",
    "plt.axis(\"off\")\n",
    "plt.show()"
   ]
  },
  {
   "cell_type": "markdown",
   "metadata": {},
   "source": [
    "### ingredients"
   ]
  },
  {
   "cell_type": "code",
   "execution_count": 50,
   "metadata": {},
   "outputs": [],
   "source": [
    "data.reset_index(drop=True, inplace=True)\n",
    "\n",
    "# extraindo ingredientes de cada registro\n",
    "recipe_ingredients = [] # armazena os ingredientes de cada receita\n",
    "ingredients_list = [] # lista com todos ingredientes presentes nos dados\n",
    "\n",
    "for i in range(len(data['ingredients'])):\n",
    "    recipe_ingredients.append([])\n",
    "    \n",
    "    for j in range(len(data['ingredients'][i])):\n",
    "        tokenized_ingredients = nltk.word_tokenize(data['ingredients'][i][j])\n",
    "        \n",
    "        # lista de tags https://www.ling.upenn.edu/courses/Fall_2003/ling001/penn_treebank_pos.html    \n",
    "        tagged_ingredients = nltk.pos_tag(tokenized_ingredients)         \n",
    "        tagged_ingredients = [k for k in tagged_ingredients if (k[1] == 'NN' or k[1] == 'NNS') and (re.match('[^0-9]', k[0]))]\n",
    "        tagged_ingredients = tagged_ingredients[-1:]\n",
    "        \n",
    "        if len(tagged_ingredients) != 0:\n",
    "            recipe_ingredients[i].append(tagged_ingredients[0][0]) # adicionando apenas o token\n",
    "            ingredients_list.append(tagged_ingredients[0][0])"
   ]
  },
  {
   "cell_type": "markdown",
   "metadata": {},
   "source": [
    "#### 2) Quais os top 10 ingredientes contidos nas receitas mais calóricas?"
   ]
  },
  {
   "cell_type": "code",
   "execution_count": 51,
   "metadata": {},
   "outputs": [
    {
     "data": {
      "text/html": [
       "<div>\n",
       "<style scoped>\n",
       "    .dataframe tbody tr th:only-of-type {\n",
       "        vertical-align: middle;\n",
       "    }\n",
       "\n",
       "    .dataframe tbody tr th {\n",
       "        vertical-align: top;\n",
       "    }\n",
       "\n",
       "    .dataframe thead th {\n",
       "        text-align: right;\n",
       "    }\n",
       "</style>\n",
       "<table border=\"1\" class=\"dataframe\">\n",
       "  <thead>\n",
       "    <tr style=\"text-align: right;\">\n",
       "      <th></th>\n",
       "      <th>directions</th>\n",
       "      <th>fat</th>\n",
       "      <th>date</th>\n",
       "      <th>categories</th>\n",
       "      <th>calories</th>\n",
       "      <th>desc</th>\n",
       "      <th>protein</th>\n",
       "      <th>rating</th>\n",
       "      <th>title</th>\n",
       "      <th>ingredients</th>\n",
       "      <th>sodium</th>\n",
       "    </tr>\n",
       "  </thead>\n",
       "  <tbody>\n",
       "    <tr>\n",
       "      <th>0</th>\n",
       "      <td>[1. Place the stock, lentils, celery, carrot, ...</td>\n",
       "      <td>7.0</td>\n",
       "      <td>2006-09-01 04:00:00+00:00</td>\n",
       "      <td>[Sandwich, Bean, Fruit, Tomato, turkey, Vegeta...</td>\n",
       "      <td>426.0</td>\n",
       "      <td>None</td>\n",
       "      <td>30.0</td>\n",
       "      <td>2.500</td>\n",
       "      <td>Lentil, Apple, and Turkey Wrap</td>\n",
       "      <td>[stock, lentils, lentils, celery, carrot, thym...</td>\n",
       "      <td>559.0</td>\n",
       "    </tr>\n",
       "    <tr>\n",
       "      <th>1</th>\n",
       "      <td>[Combine first 9 ingredients in heavy medium s...</td>\n",
       "      <td>23.0</td>\n",
       "      <td>2004-08-20 04:00:00+00:00</td>\n",
       "      <td>[Food Processor, Onion, Pork, Bake, Bastille D...</td>\n",
       "      <td>403.0</td>\n",
       "      <td>This uses the same ingredients found in boudin...</td>\n",
       "      <td>18.0</td>\n",
       "      <td>4.375</td>\n",
       "      <td>Boudin Blanc Terrine with Red Onion Confit</td>\n",
       "      <td>[cream, onions, salt, leaves, cloves, clove, p...</td>\n",
       "      <td>1439.0</td>\n",
       "    </tr>\n",
       "    <tr>\n",
       "      <th>2</th>\n",
       "      <td>[In a large heavy saucepan cook diced fennel a...</td>\n",
       "      <td>7.0</td>\n",
       "      <td>2004-08-20 04:00:00+00:00</td>\n",
       "      <td>[Soup/Stew, Dairy, Potato, Vegetable, Fennel, ...</td>\n",
       "      <td>165.0</td>\n",
       "      <td>None</td>\n",
       "      <td>6.0</td>\n",
       "      <td>3.750</td>\n",
       "      <td>Potato and Fennel Soup Hodge</td>\n",
       "      <td>[garnish, onion, butter, potatoes, broth, milk]</td>\n",
       "      <td>165.0</td>\n",
       "    </tr>\n",
       "    <tr>\n",
       "      <th>3</th>\n",
       "      <td>[Heat oil in heavy large skillet over medium-h...</td>\n",
       "      <td>17.0</td>\n",
       "      <td>2009-03-27 04:00:00+00:00</td>\n",
       "      <td>[Fish, Olive, Tomato, Sauté, Low Fat, Low Cal,...</td>\n",
       "      <td>327.0</td>\n",
       "      <td>The Sicilian-style tomato sauce has tons of Me...</td>\n",
       "      <td>8.0</td>\n",
       "      <td>5.000</td>\n",
       "      <td>Mahi-Mahi in Tomato Olive Sauce</td>\n",
       "      <td>[oil, onion, wine, paste, juice, fillets, oliv...</td>\n",
       "      <td>268.0</td>\n",
       "    </tr>\n",
       "    <tr>\n",
       "      <th>4</th>\n",
       "      <td>[Preheat oven to 350°F. Lightly grease 8x8x2-i...</td>\n",
       "      <td>32.0</td>\n",
       "      <td>2004-08-20 04:00:00+00:00</td>\n",
       "      <td>[Cheese, Dairy, Pasta, Vegetable, Side, Bake, ...</td>\n",
       "      <td>547.0</td>\n",
       "      <td>None</td>\n",
       "      <td>20.0</td>\n",
       "      <td>3.125</td>\n",
       "      <td>Spinach Noodle Casserole</td>\n",
       "      <td>[soufflé, noodles, cream, sauce, nutmeg, cheese]</td>\n",
       "      <td>452.0</td>\n",
       "    </tr>\n",
       "  </tbody>\n",
       "</table>\n",
       "</div>"
      ],
      "text/plain": [
       "                                          directions   fat  \\\n",
       "0  [1. Place the stock, lentils, celery, carrot, ...   7.0   \n",
       "1  [Combine first 9 ingredients in heavy medium s...  23.0   \n",
       "2  [In a large heavy saucepan cook diced fennel a...   7.0   \n",
       "3  [Heat oil in heavy large skillet over medium-h...  17.0   \n",
       "4  [Preheat oven to 350°F. Lightly grease 8x8x2-i...  32.0   \n",
       "\n",
       "                       date  \\\n",
       "0 2006-09-01 04:00:00+00:00   \n",
       "1 2004-08-20 04:00:00+00:00   \n",
       "2 2004-08-20 04:00:00+00:00   \n",
       "3 2009-03-27 04:00:00+00:00   \n",
       "4 2004-08-20 04:00:00+00:00   \n",
       "\n",
       "                                          categories  calories  \\\n",
       "0  [Sandwich, Bean, Fruit, Tomato, turkey, Vegeta...     426.0   \n",
       "1  [Food Processor, Onion, Pork, Bake, Bastille D...     403.0   \n",
       "2  [Soup/Stew, Dairy, Potato, Vegetable, Fennel, ...     165.0   \n",
       "3  [Fish, Olive, Tomato, Sauté, Low Fat, Low Cal,...     327.0   \n",
       "4  [Cheese, Dairy, Pasta, Vegetable, Side, Bake, ...     547.0   \n",
       "\n",
       "                                                desc  protein  rating  \\\n",
       "0                                               None     30.0   2.500   \n",
       "1  This uses the same ingredients found in boudin...     18.0   4.375   \n",
       "2                                               None      6.0   3.750   \n",
       "3  The Sicilian-style tomato sauce has tons of Me...      8.0   5.000   \n",
       "4                                               None     20.0   3.125   \n",
       "\n",
       "                                         title  \\\n",
       "0              Lentil, Apple, and Turkey Wrap    \n",
       "1  Boudin Blanc Terrine with Red Onion Confit    \n",
       "2                Potato and Fennel Soup Hodge    \n",
       "3             Mahi-Mahi in Tomato Olive Sauce    \n",
       "4                    Spinach Noodle Casserole    \n",
       "\n",
       "                                         ingredients  sodium  \n",
       "0  [stock, lentils, lentils, celery, carrot, thym...   559.0  \n",
       "1  [cream, onions, salt, leaves, cloves, clove, p...  1439.0  \n",
       "2    [garnish, onion, butter, potatoes, broth, milk]   165.0  \n",
       "3  [oil, onion, wine, paste, juice, fillets, oliv...   268.0  \n",
       "4   [soufflé, noodles, cream, sauce, nutmeg, cheese]   452.0  "
      ]
     },
     "execution_count": 51,
     "metadata": {},
     "output_type": "execute_result"
    }
   ],
   "source": [
    "# transformando a coluna ingredients\n",
    "ingredients = pd.Series(recipe_ingredients, name='ingredients')\n",
    "data['ingredients'] = ingredients\n",
    "data.head()"
   ]
  },
  {
   "cell_type": "code",
   "execution_count": 52,
   "metadata": {},
   "outputs": [
    {
     "data": {
      "image/png": "[encoded data removed]",
      "text/plain": [
       "<Figure size 432x288 with 1 Axes>"
      ]
     },
     "metadata": {
      "needs_background": "light"
     },
     "output_type": "display_data"
    }
   ],
   "source": [
    "# retornando as receitas mais caloricas\n",
    "cal_receipts = data.nlargest(5, columns='calories')\n",
    "cal_receipts_unique_ing = count_sublist_values(cal_receipts, 'ingredients')\n",
    "cal_receipts_unique_ing.value_counts().nlargest(10, keep='first').plot.bar() \n",
    "plt.show()"
   ]
  },
  {
   "cell_type": "markdown",
   "metadata": {},
   "source": [
    "Era de se esperar que sal, açucar e oleo fossem os ingredientes mais utilizados. Estes são ingredientes quase que indispensáveis em receitas mais caloricas."
   ]
  },
  {
   "cell_type": "markdown",
   "metadata": {},
   "source": [
    "#### 3) Se você tivesse que recomendar 3 receitas baseando-se nos dados, quais seriam?"
   ]
  },
  {
   "cell_type": "markdown",
   "metadata": {},
   "source": [
    "Uma boa receita é aquela que tem valores nutricionais balanceados. Para o caso, uma receita com baixa caloria e alta proteína deve ser uma boa escolha."
   ]
  },
  {
   "cell_type": "code",
   "execution_count": 53,
   "metadata": {},
   "outputs": [
    {
     "name": "stdout",
     "output_type": "stream",
     "text": [
      "A base de dados é composta por 2311 receitas com avaliação 5.0\n"
     ]
    }
   ],
   "source": [
    "# selecionando as receitas com avaliação 5.0\n",
    "five_aval_recipe = data[data['rating'] == 5.0]\n",
    "print('A base de dados é composta por {} receitas com avaliação 5.0'.format(five_aval_recipe.shape[0]))"
   ]
  },
  {
   "cell_type": "code",
   "execution_count": 54,
   "metadata": {},
   "outputs": [],
   "source": [
    "# dividindo os dados em intervalos de tamanho igual de acordo com os quantis da amostra de dados\n",
    "# e armazenando em uma coluna calories_bin \n",
    "a = pd.qcut(five_aval_recipe['calories'], [0, .33, .66, 1], labels=['low', 'med', 'high']).rename('calories_bin')\n",
    "\n",
    "five_aval_recipe = five_aval_recipe.join(a)"
   ]
  },
  {
   "cell_type": "code",
   "execution_count": 55,
   "metadata": {},
   "outputs": [
    {
     "data": {
      "image/png": "[encoded data removed]",
      "text/plain": [
       "<Figure size 432x288 with 1 Axes>"
      ]
     },
     "metadata": {
      "needs_background": "light"
     },
     "output_type": "display_data"
    }
   ],
   "source": [
    "# selecionando receitas com avaliação 5.0 e baixa caloria\n",
    "low = five_aval_recipe.loc[five_aval_recipe['calories_bin'] == 'low']\n",
    "\n",
    "# plotando calories x protein com os tamanhos das marcas baseado na variavel fat\n",
    "plt.scatter(x='calories', y='protein', s=low['fat'] * 4, data=low)\n",
    "\n",
    "plt.xlabel('Calories')\n",
    "plt.ylabel('Protein')\n",
    "\n",
    "# marcando as 3 receitas a serem recomendadas\n",
    "plt.axhspan(ymin=17, ymax=23, xmin=.44, xmax=.58, alpha=.3, color='r')\n",
    "plt.show()"
   ]
  },
  {
   "cell_type": "code",
   "execution_count": 56,
   "metadata": {},
   "outputs": [
    {
     "data": {
      "text/html": [
       "<div>\n",
       "<style scoped>\n",
       "    .dataframe tbody tr th:only-of-type {\n",
       "        vertical-align: middle;\n",
       "    }\n",
       "\n",
       "    .dataframe tbody tr th {\n",
       "        vertical-align: top;\n",
       "    }\n",
       "\n",
       "    .dataframe thead th {\n",
       "        text-align: right;\n",
       "    }\n",
       "</style>\n",
       "<table border=\"1\" class=\"dataframe\">\n",
       "  <thead>\n",
       "    <tr style=\"text-align: right;\">\n",
       "      <th></th>\n",
       "      <th>directions</th>\n",
       "      <th>fat</th>\n",
       "      <th>date</th>\n",
       "      <th>categories</th>\n",
       "      <th>calories</th>\n",
       "      <th>desc</th>\n",
       "      <th>protein</th>\n",
       "      <th>rating</th>\n",
       "      <th>title</th>\n",
       "      <th>ingredients</th>\n",
       "      <th>sodium</th>\n",
       "      <th>calories_bin</th>\n",
       "    </tr>\n",
       "  </thead>\n",
       "  <tbody>\n",
       "    <tr>\n",
       "      <th>5117</th>\n",
       "      <td>[In large saucepan, combine low-salt chicken b...</td>\n",
       "      <td>6.0</td>\n",
       "      <td>2007-10-01 21:17:01+00:00</td>\n",
       "      <td>[Soup/Stew, turkey, Thanksgiving, Low Fat, Low...</td>\n",
       "      <td>162.0</td>\n",
       "      <td>All of the gravy recipes here call for this en...</td>\n",
       "      <td>18.0</td>\n",
       "      <td>5.0</td>\n",
       "      <td>Shortcut Turkey Stock</td>\n",
       "      <td>[broth, chunks, chunks, onion, parsley, gizzard]</td>\n",
       "      <td>278.0</td>\n",
       "      <td>low</td>\n",
       "    </tr>\n",
       "    <tr>\n",
       "      <th>5793</th>\n",
       "      <td>[Cut neck crosswise into 1 1/2-inch pieces. Me...</td>\n",
       "      <td>3.0</td>\n",
       "      <td>2004-08-20 04:00:00+00:00</td>\n",
       "      <td>[Sauce, Soup/Stew, Onion, turkey, Thanksgiving...</td>\n",
       "      <td>127.0</td>\n",
       "      <td>None</td>\n",
       "      <td>22.0</td>\n",
       "      <td>5.0</td>\n",
       "      <td>Giblet Stock</td>\n",
       "      <td>[turkey, butter, onions, carrots, leaves, brot...</td>\n",
       "      <td>95.0</td>\n",
       "      <td>low</td>\n",
       "    </tr>\n",
       "    <tr>\n",
       "      <th>13243</th>\n",
       "      <td>[Coarsely grind first 5 ingredients in spice m...</td>\n",
       "      <td>4.0</td>\n",
       "      <td>2008-09-30 04:00:00+00:00</td>\n",
       "      <td>[turkey, Marinate, Roast, Thanksgiving, Dinner...</td>\n",
       "      <td>147.0</td>\n",
       "      <td>This recipe has subtle Asian flavors that deli...</td>\n",
       "      <td>22.0</td>\n",
       "      <td>5.0</td>\n",
       "      <td>Salted Roast Turkey with Orange, Fall Spices, ...</td>\n",
       "      <td>[anise*, peppercorns**, cloves, seeds, seeds, ...</td>\n",
       "      <td>763.0</td>\n",
       "      <td>low</td>\n",
       "    </tr>\n",
       "  </tbody>\n",
       "</table>\n",
       "</div>"
      ],
      "text/plain": [
       "                                              directions  fat  \\\n",
       "5117   [In large saucepan, combine low-salt chicken b...  6.0   \n",
       "5793   [Cut neck crosswise into 1 1/2-inch pieces. Me...  3.0   \n",
       "13243  [Coarsely grind first 5 ingredients in spice m...  4.0   \n",
       "\n",
       "                           date  \\\n",
       "5117  2007-10-01 21:17:01+00:00   \n",
       "5793  2004-08-20 04:00:00+00:00   \n",
       "13243 2008-09-30 04:00:00+00:00   \n",
       "\n",
       "                                              categories  calories  \\\n",
       "5117   [Soup/Stew, turkey, Thanksgiving, Low Fat, Low...     162.0   \n",
       "5793   [Sauce, Soup/Stew, Onion, turkey, Thanksgiving...     127.0   \n",
       "13243  [turkey, Marinate, Roast, Thanksgiving, Dinner...     147.0   \n",
       "\n",
       "                                                    desc  protein  rating  \\\n",
       "5117   All of the gravy recipes here call for this en...     18.0     5.0   \n",
       "5793                                                None     22.0     5.0   \n",
       "13243  This recipe has subtle Asian flavors that deli...     22.0     5.0   \n",
       "\n",
       "                                                   title  \\\n",
       "5117                              Shortcut Turkey Stock    \n",
       "5793                                       Giblet Stock    \n",
       "13243  Salted Roast Turkey with Orange, Fall Spices, ...   \n",
       "\n",
       "                                             ingredients  sodium calories_bin  \n",
       "5117    [broth, chunks, chunks, onion, parsley, gizzard]   278.0          low  \n",
       "5793   [turkey, butter, onions, carrots, leaves, brot...    95.0          low  \n",
       "13243  [anise*, peppercorns**, cloves, seeds, seeds, ...   763.0          low  "
      ]
     },
     "execution_count": 56,
     "metadata": {},
     "output_type": "execute_result"
    }
   ],
   "source": [
    "# selecionando as 3 receitas demarcadas no retangulo vermelho\n",
    "low.loc[(low['protein'] > 17) & (low['calories'] < 170)]"
   ]
  },
  {
   "cell_type": "code",
   "execution_count": 57,
   "metadata": {},
   "outputs": [
    {
     "name": "stdout",
     "output_type": "stream",
     "text": [
      "Sendo assim, as 3 receitas sugeridas são:\n",
      " \n",
      "\u001b[1mShortcut Turkey Stock \u001b[0m\n",
      "\u001b[1mGiblet Stock \u001b[0m\n",
      "\u001b[1mSalted Roast Turkey with Orange, Fall Spices, and Sherry Gravy \u001b[0m\n"
     ]
    }
   ],
   "source": [
    "suggested_recipe = low.loc[(low['protein'] > 17) & (low['calories'] < 170), 'title']\n",
    "print('Sendo assim, as 3 receitas sugeridas são:\\n ')\n",
    "\n",
    "for rec in suggested_recipe.values:\n",
    "    print('\\033[1m' + rec + '\\033[0m')"
   ]
  },
  {
   "cell_type": "markdown",
   "metadata": {},
   "source": [
    "#### 4) Alguma característica presente nos dados determina a alta nota de uma receita?"
   ]
  },
  {
   "cell_type": "code",
   "execution_count": 58,
   "metadata": {
    "scrolled": true
   },
   "outputs": [
    {
     "data": {
      "image/png": "[encoded data removed]",
      "text/plain": [
       "<Figure size 1440x360 with 4 Axes>"
      ]
     },
     "metadata": {},
     "output_type": "display_data"
    }
   ],
   "source": [
    "dict_plt = {0:'calories',1:'protein',2:'fat',3:'sodium'}\n",
    "\n",
    "sns.set(font_scale=.7)\n",
    "\n",
    "fig, ax = plt.subplots(1, 4, figsize=(20,5))\n",
    "\n",
    "for i in range(4):\n",
    "    sns.barplot(x='rating',y=dict_plt[i], data=data, ax=ax[i], errwidth=1)\n",
    "    ax[i].set_title('rating por {}'.format(dict_plt[i]), size=15)\n",
    "    ax[i].set_ylabel('')"
   ]
  },
  {
   "cell_type": "markdown",
   "metadata": {},
   "source": [
    "De acordo com os gráficos de barras acima, identifica-se que as receitas com melhor avaliação são aquelas **mais calóricas** e com **muito sódio**. "
   ]
  },
  {
   "cell_type": "markdown",
   "metadata": {},
   "source": [
    "#### 5) Considerando-se as categorias das top 100 receitas em avaliação, quantas receitas há atualmente no site https://www.epicurious.com para cada categoria"
   ]
  },
  {
   "cell_type": "code",
   "execution_count": 59,
   "metadata": {},
   "outputs": [
    {
     "data": {
      "text/html": [
       "<div>\n",
       "<style scoped>\n",
       "    .dataframe tbody tr th:only-of-type {\n",
       "        vertical-align: middle;\n",
       "    }\n",
       "\n",
       "    .dataframe tbody tr th {\n",
       "        vertical-align: top;\n",
       "    }\n",
       "\n",
       "    .dataframe thead th {\n",
       "        text-align: right;\n",
       "    }\n",
       "</style>\n",
       "<table border=\"1\" class=\"dataframe\">\n",
       "  <thead>\n",
       "    <tr style=\"text-align: right;\">\n",
       "      <th></th>\n",
       "      <th>directions</th>\n",
       "      <th>fat</th>\n",
       "      <th>date</th>\n",
       "      <th>categories</th>\n",
       "      <th>calories</th>\n",
       "      <th>desc</th>\n",
       "      <th>protein</th>\n",
       "      <th>rating</th>\n",
       "      <th>title</th>\n",
       "      <th>ingredients</th>\n",
       "      <th>sodium</th>\n",
       "    </tr>\n",
       "  </thead>\n",
       "  <tbody>\n",
       "    <tr>\n",
       "      <th>4660</th>\n",
       "      <td>[Arrange a rack in center of oven; preheat to ...</td>\n",
       "      <td>65.0</td>\n",
       "      <td>2016-11-27 18:46:20.583000+00:00</td>\n",
       "      <td>[Vegetarian, Rice, Dinner, Orange, Parsnip, Ri...</td>\n",
       "      <td>935.0</td>\n",
       "      <td>This simple rice salad combines hearty parsnip...</td>\n",
       "      <td>18.0</td>\n",
       "      <td>5.0</td>\n",
       "      <td>Vegetarian Brown Rice Salad With Parsnips and ...</td>\n",
       "      <td>[rice, oil, salt, oranges, coins, clove, sprig...</td>\n",
       "      <td>1061.0</td>\n",
       "    </tr>\n",
       "    <tr>\n",
       "      <th>15610</th>\n",
       "      <td>[Working one at a time, place turkey breast, s...</td>\n",
       "      <td>36.0</td>\n",
       "      <td>2016-11-24 02:46:00+00:00</td>\n",
       "      <td>[Friendsgiving, Thanksgiving, Dinner, Butternu...</td>\n",
       "      <td>631.0</td>\n",
       "      <td>For maximum juiciness and flavor, pound and se...</td>\n",
       "      <td>59.0</td>\n",
       "      <td>5.0</td>\n",
       "      <td>Stuffed Turkey Breast With Butternut Squash, K...</td>\n",
       "      <td>[breasts, salt, pepper, fennel, oil, casings, ...</td>\n",
       "      <td>1335.0</td>\n",
       "    </tr>\n",
       "    <tr>\n",
       "      <th>8481</th>\n",
       "      <td>[Heat milk in a small saucepan over low until ...</td>\n",
       "      <td>5.0</td>\n",
       "      <td>2016-11-23 20:30:00+00:00</td>\n",
       "      <td>[Bread, Dinner, Christmas, Thanksgiving, Bake,...</td>\n",
       "      <td>122.0</td>\n",
       "      <td>One simple master recipe, based on a classic F...</td>\n",
       "      <td>2.0</td>\n",
       "      <td>5.0</td>\n",
       "      <td>Dinner Rolls Six Ways</td>\n",
       "      <td>[milk, teaspoons, salt, flour, honey, tablespo...</td>\n",
       "      <td>243.0</td>\n",
       "    </tr>\n",
       "    <tr>\n",
       "      <th>6319</th>\n",
       "      <td>[Heat butter and brown sugar in a small saucep...</td>\n",
       "      <td>26.0</td>\n",
       "      <td>2016-11-22 17:36:17.100000+00:00</td>\n",
       "      <td>[Bon Appétit, Thanksgiving, Pie, Sweet Potato/...</td>\n",
       "      <td>409.0</td>\n",
       "      <td>We tested this pie recipe with canned sweet po...</td>\n",
       "      <td>6.0</td>\n",
       "      <td>5.0</td>\n",
       "      <td>Sweet Potato–Miso Pie With Chocolate-Sesame Cr...</td>\n",
       "      <td>[butter, sugar, seeds, pieces, salt, pound, su...</td>\n",
       "      <td>334.0</td>\n",
       "    </tr>\n",
       "    <tr>\n",
       "      <th>17256</th>\n",
       "      <td>[Preheat oven to 300°F. Butter a shallow 13x9\"...</td>\n",
       "      <td>36.0</td>\n",
       "      <td>2016-11-21 23:33:04.148000+00:00</td>\n",
       "      <td>[Bon Appétit, Thanksgiving, Stuffing/Dressing,...</td>\n",
       "      <td>549.0</td>\n",
       "      <td>This holiday-worthy recipe was inspired by bre...</td>\n",
       "      <td>23.0</td>\n",
       "      <td>5.0</td>\n",
       "      <td>Cheesy Sausage and Sage Stuffing</td>\n",
       "      <td>[butter, cups, oil, casings, onions, stalks, s...</td>\n",
       "      <td>865.0</td>\n",
       "    </tr>\n",
       "    <tr>\n",
       "      <th>...</th>\n",
       "      <td>...</td>\n",
       "      <td>...</td>\n",
       "      <td>...</td>\n",
       "      <td>...</td>\n",
       "      <td>...</td>\n",
       "      <td>...</td>\n",
       "      <td>...</td>\n",
       "      <td>...</td>\n",
       "      <td>...</td>\n",
       "      <td>...</td>\n",
       "      <td>...</td>\n",
       "    </tr>\n",
       "    <tr>\n",
       "      <th>13368</th>\n",
       "      <td>[Bring sugar and 1 cup water to a boil in a me...</td>\n",
       "      <td>17.0</td>\n",
       "      <td>2016-05-19 19:15:11.511000+00:00</td>\n",
       "      <td>[Bon Appétit, Cocktail, Punch, Tequila, Jalape...</td>\n",
       "      <td>327.0</td>\n",
       "      <td>We love the citrusy sour flavor of hibiscus, n...</td>\n",
       "      <td>8.0</td>\n",
       "      <td>5.0</td>\n",
       "      <td>Pineapple-Hibiscus Cocktail</td>\n",
       "      <td>[sugar, pieces, vinegar, flowers, rounds, mint...</td>\n",
       "      <td>268.0</td>\n",
       "    </tr>\n",
       "    <tr>\n",
       "      <th>1248</th>\n",
       "      <td>[Preheat oven to 350°F. Toast sunflower seeds ...</td>\n",
       "      <td>19.0</td>\n",
       "      <td>2016-05-19 17:42:56.460000+00:00</td>\n",
       "      <td>[Bon Appétit, Cookies, Bake, Chocolate, Coconu...</td>\n",
       "      <td>312.0</td>\n",
       "      <td>One of those dreamy cookies elicits a silent r...</td>\n",
       "      <td>4.0</td>\n",
       "      <td>5.0</td>\n",
       "      <td>Double and By Double I Mean Triple Chocolate C...</td>\n",
       "      <td>[seeds, chocolate, chocolate, flour, powder, p...</td>\n",
       "      <td>214.0</td>\n",
       "    </tr>\n",
       "    <tr>\n",
       "      <th>1023</th>\n",
       "      <td>[Preheat oven to 350°F. Lightly coat two 9\"-di...</td>\n",
       "      <td>39.0</td>\n",
       "      <td>2016-05-19 17:10:00.187000+00:00</td>\n",
       "      <td>[Bon Appétit, Cake, Carrot, Spring, Spice, Cre...</td>\n",
       "      <td>738.0</td>\n",
       "      <td>This is the only carrot cake recipe you’ll eve...</td>\n",
       "      <td>8.0</td>\n",
       "      <td>5.0</td>\n",
       "      <td>BA's Best Carrot Cake</td>\n",
       "      <td>[spray, raisins, rum, walnuts, carrots, temper...</td>\n",
       "      <td>586.0</td>\n",
       "    </tr>\n",
       "    <tr>\n",
       "      <th>16962</th>\n",
       "      <td>[Preheat oven to 275°F. Bring ancho chiles and...</td>\n",
       "      <td>17.0</td>\n",
       "      <td>2016-05-19 15:14:18.076000+00:00</td>\n",
       "      <td>[Bon Appétit, Dinner, Lamb, Braise, Chile Pepp...</td>\n",
       "      <td>327.0</td>\n",
       "      <td>Though Birrieria Zaragoza in Chicago uses goat...</td>\n",
       "      <td>8.0</td>\n",
       "      <td>5.0</td>\n",
       "      <td>Braised Birria</td>\n",
       "      <td>[chiles, peanuts, seeds, peppercorns, powder, ...</td>\n",
       "      <td>268.0</td>\n",
       "    </tr>\n",
       "    <tr>\n",
       "      <th>7999</th>\n",
       "      <td>[Heat oil in a large skillet over medium. Cook...</td>\n",
       "      <td>31.0</td>\n",
       "      <td>2016-05-19 15:10:27.540000+00:00</td>\n",
       "      <td>[Bon Appétit, Clam, Chickpea, Dinner, Garlic, ...</td>\n",
       "      <td>824.0</td>\n",
       "      <td>A dead-simple shellfish dish that is pure Eric...</td>\n",
       "      <td>8.0</td>\n",
       "      <td>5.0</td>\n",
       "      <td>Steamed Clams With Chickpeas and Green Garlic</td>\n",
       "      <td>[oil, cloves, wine, cream, juice, clams, fraîc...</td>\n",
       "      <td>268.0</td>\n",
       "    </tr>\n",
       "  </tbody>\n",
       "</table>\n",
       "<p>100 rows × 11 columns</p>\n",
       "</div>"
      ],
      "text/plain": [
       "                                              directions   fat  \\\n",
       "4660   [Arrange a rack in center of oven; preheat to ...  65.0   \n",
       "15610  [Working one at a time, place turkey breast, s...  36.0   \n",
       "8481   [Heat milk in a small saucepan over low until ...   5.0   \n",
       "6319   [Heat butter and brown sugar in a small saucep...  26.0   \n",
       "17256  [Preheat oven to 300°F. Butter a shallow 13x9\"...  36.0   \n",
       "...                                                  ...   ...   \n",
       "13368  [Bring sugar and 1 cup water to a boil in a me...  17.0   \n",
       "1248   [Preheat oven to 350°F. Toast sunflower seeds ...  19.0   \n",
       "1023   [Preheat oven to 350°F. Lightly coat two 9\"-di...  39.0   \n",
       "16962  [Preheat oven to 275°F. Bring ancho chiles and...  17.0   \n",
       "7999   [Heat oil in a large skillet over medium. Cook...  31.0   \n",
       "\n",
       "                                  date  \\\n",
       "4660  2016-11-27 18:46:20.583000+00:00   \n",
       "15610        2016-11-24 02:46:00+00:00   \n",
       "8481         2016-11-23 20:30:00+00:00   \n",
       "6319  2016-11-22 17:36:17.100000+00:00   \n",
       "17256 2016-11-21 23:33:04.148000+00:00   \n",
       "...                                ...   \n",
       "13368 2016-05-19 19:15:11.511000+00:00   \n",
       "1248  2016-05-19 17:42:56.460000+00:00   \n",
       "1023  2016-05-19 17:10:00.187000+00:00   \n",
       "16962 2016-05-19 15:14:18.076000+00:00   \n",
       "7999  2016-05-19 15:10:27.540000+00:00   \n",
       "\n",
       "                                              categories  calories  \\\n",
       "4660   [Vegetarian, Rice, Dinner, Orange, Parsnip, Ri...     935.0   \n",
       "15610  [Friendsgiving, Thanksgiving, Dinner, Butternu...     631.0   \n",
       "8481   [Bread, Dinner, Christmas, Thanksgiving, Bake,...     122.0   \n",
       "6319   [Bon Appétit, Thanksgiving, Pie, Sweet Potato/...     409.0   \n",
       "17256  [Bon Appétit, Thanksgiving, Stuffing/Dressing,...     549.0   \n",
       "...                                                  ...       ...   \n",
       "13368  [Bon Appétit, Cocktail, Punch, Tequila, Jalape...     327.0   \n",
       "1248   [Bon Appétit, Cookies, Bake, Chocolate, Coconu...     312.0   \n",
       "1023   [Bon Appétit, Cake, Carrot, Spring, Spice, Cre...     738.0   \n",
       "16962  [Bon Appétit, Dinner, Lamb, Braise, Chile Pepp...     327.0   \n",
       "7999   [Bon Appétit, Clam, Chickpea, Dinner, Garlic, ...     824.0   \n",
       "\n",
       "                                                    desc  protein  rating  \\\n",
       "4660   This simple rice salad combines hearty parsnip...     18.0     5.0   \n",
       "15610  For maximum juiciness and flavor, pound and se...     59.0     5.0   \n",
       "8481   One simple master recipe, based on a classic F...      2.0     5.0   \n",
       "6319   We tested this pie recipe with canned sweet po...      6.0     5.0   \n",
       "17256  This holiday-worthy recipe was inspired by bre...     23.0     5.0   \n",
       "...                                                  ...      ...     ...   \n",
       "13368  We love the citrusy sour flavor of hibiscus, n...      8.0     5.0   \n",
       "1248   One of those dreamy cookies elicits a silent r...      4.0     5.0   \n",
       "1023   This is the only carrot cake recipe you’ll eve...      8.0     5.0   \n",
       "16962  Though Birrieria Zaragoza in Chicago uses goat...      8.0     5.0   \n",
       "7999   A dead-simple shellfish dish that is pure Eric...      8.0     5.0   \n",
       "\n",
       "                                                   title  \\\n",
       "4660   Vegetarian Brown Rice Salad With Parsnips and ...   \n",
       "15610  Stuffed Turkey Breast With Butternut Squash, K...   \n",
       "8481                              Dinner Rolls Six Ways    \n",
       "6319   Sweet Potato–Miso Pie With Chocolate-Sesame Cr...   \n",
       "17256                  Cheesy Sausage and Sage Stuffing    \n",
       "...                                                  ...   \n",
       "13368                       Pineapple-Hibiscus Cocktail    \n",
       "1248   Double and By Double I Mean Triple Chocolate C...   \n",
       "1023                              BA's Best Carrot Cake    \n",
       "16962                                    Braised Birria    \n",
       "7999      Steamed Clams With Chickpeas and Green Garlic    \n",
       "\n",
       "                                             ingredients  sodium  \n",
       "4660   [rice, oil, salt, oranges, coins, clove, sprig...  1061.0  \n",
       "15610  [breasts, salt, pepper, fennel, oil, casings, ...  1335.0  \n",
       "8481   [milk, teaspoons, salt, flour, honey, tablespo...   243.0  \n",
       "6319   [butter, sugar, seeds, pieces, salt, pound, su...   334.0  \n",
       "17256  [butter, cups, oil, casings, onions, stalks, s...   865.0  \n",
       "...                                                  ...     ...  \n",
       "13368  [sugar, pieces, vinegar, flowers, rounds, mint...   268.0  \n",
       "1248   [seeds, chocolate, chocolate, flour, powder, p...   214.0  \n",
       "1023   [spray, raisins, rum, walnuts, carrots, temper...   586.0  \n",
       "16962  [chiles, peanuts, seeds, peppercorns, powder, ...   268.0  \n",
       "7999   [oil, cloves, wine, cream, juice, clams, fraîc...   268.0  \n",
       "\n",
       "[100 rows x 11 columns]"
      ]
     },
     "execution_count": 59,
     "metadata": {},
     "output_type": "execute_result"
    }
   ],
   "source": [
    "# usando as ultimas de acordo com a data\n",
    "top_100_rating_recipe = data.sort_values('date', ascending=False).nlargest(100, columns='rating')\n",
    "top_100_rating_recipe"
   ]
  },
  {
   "cell_type": "code",
   "execution_count": 60,
   "metadata": {},
   "outputs": [
    {
     "name": "stdout",
     "output_type": "stream",
     "text": [
      "\u001b[1mBon Appétit\u001b[0m\n",
      "8470 receitas.\n",
      "\n",
      "\u001b[1mDinner\u001b[0m\n",
      "2535 receitas.\n",
      "\n",
      "\u001b[1mSummer\u001b[0m\n",
      "3762 receitas.\n",
      "\n",
      "\u001b[1mPeanut Free\u001b[0m\n",
      "7564 receitas.\n",
      "\n",
      "\u001b[1mDessert\u001b[0m\n",
      "3153 receitas.\n",
      "\n",
      "\u001b[1mVegetarian\u001b[0m\n",
      "6027 receitas.\n",
      "\n",
      "\u001b[1mSoy Free\u001b[0m\n",
      "7279 receitas.\n",
      "\n",
      "\u001b[1mWheat/Gluten-Free\u001b[0m\n",
      "4357 receitas.\n",
      "\n",
      "\u001b[1mTree Nut Free\u001b[0m\n",
      "6302 receitas.\n",
      "\n",
      "\u001b[1mPescatarian\u001b[0m\n",
      "5399 receitas.\n",
      "\n",
      "\u001b[1mKosher\u001b[0m\n",
      "5511 receitas.\n",
      "\n",
      "\u001b[1mGarlic\u001b[0m\n",
      "1438 receitas.\n",
      "\n",
      "\u001b[1mThanksgiving\u001b[0m\n",
      "1228 receitas.\n",
      "\n",
      "\u001b[1mChile Pepper\u001b[0m\n",
      "210 receitas.\n",
      "\n",
      "\u001b[1mHarperCollins\u001b[0m\n",
      "117 receitas.\n",
      "\n",
      "\u001b[1mDairy Free\u001b[0m\n",
      "2853 receitas.\n",
      "\n",
      "\u001b[1mTomato\u001b[0m\n",
      "1961 receitas.\n",
      "\n",
      "\u001b[1mSalad\u001b[0m\n",
      "1432 receitas.\n",
      "\n",
      "\u001b[1mLime Juice\u001b[0m\n",
      "118 receitas.\n",
      "\n",
      "\u001b[1mBake\u001b[0m\n",
      "4035 receitas.\n",
      "\n",
      "\u001b[1mChicken\u001b[0m\n",
      "1240 receitas.\n",
      "\n",
      "\u001b[1mNo Sugar Added\u001b[0m\n",
      "2792 receitas.\n",
      "\n",
      "\u001b[1mFall\u001b[0m\n",
      "2676 receitas.\n",
      "\n",
      "\u001b[1mPork\u001b[0m\n",
      "872 receitas.\n",
      "\n",
      "\u001b[1mKidney Friendly\u001b[0m\n",
      "1955 receitas.\n",
      "\n",
      "\u001b[1mBreakfast\u001b[0m\n",
      "677 receitas.\n",
      "\n",
      "\u001b[1mMilk/Cream\u001b[0m\n",
      "1791 receitas.\n",
      "\n",
      "\u001b[1mChocolate\u001b[0m\n",
      "769 receitas.\n",
      "\n",
      "\u001b[1mCilantro\u001b[0m\n",
      "532 receitas.\n",
      "\n",
      "\u001b[1mRoast\u001b[0m\n",
      "1173 receitas.\n",
      "\n",
      "\u001b[1mBread\u001b[0m\n",
      "428 receitas.\n",
      "\n",
      "\u001b[1mSide\u001b[0m\n",
      "2710 receitas.\n",
      "\n",
      "\u001b[1mGinger\u001b[0m\n",
      "1030 receitas.\n",
      "\n",
      "\u001b[1mQuick & Easy\u001b[0m\n",
      "4728 receitas.\n",
      "\n",
      "\u001b[1mPie\u001b[0m\n",
      "20 receitas.\n",
      "\n",
      "\u001b[1mHerb\u001b[0m\n",
      "1490 receitas.\n",
      "\n",
      "\u001b[1mBrunch\u001b[0m\n",
      "783 receitas.\n",
      "\n",
      "\u001b[1mChristmas\u001b[0m\n",
      "897 receitas.\n",
      "\n",
      "\u001b[1mBasil\u001b[0m\n",
      "521 receitas.\n",
      "\n",
      "\u001b[1mFish\u001b[0m\n",
      "872 receitas.\n",
      "\n",
      "\u001b[1mLemon\u001b[0m\n",
      "982 receitas.\n",
      "\n",
      "\u001b[1mAppetizer\u001b[0m\n",
      "1305 receitas.\n",
      "\n",
      "\u001b[1mSeed\u001b[0m\n",
      "130 receitas.\n",
      "\n",
      "\u001b[1mEgg\u001b[0m\n",
      "1599 receitas.\n",
      "\n",
      "\u001b[1mWinter\u001b[0m\n",
      "2768 receitas.\n",
      "\n",
      "\u001b[1mLunch\u001b[0m\n",
      "1284 receitas.\n",
      "\n",
      "\u001b[1mGreen Onion/Scallion\u001b[0m\n",
      "108 receitas.\n",
      "\n",
      "\u001b[1mCheese\u001b[0m\n",
      "1273 receitas.\n",
      "\n",
      "\u001b[1mCoconut\u001b[0m\n",
      "337 receitas.\n",
      "\n",
      "\u001b[1mSweet Potato/Yam\u001b[0m\n",
      "270 receitas.\n",
      "\n",
      "\u001b[1mBraise\u001b[0m\n",
      "302 receitas.\n",
      "\n",
      "\u001b[1mButterscotch/Caramel\u001b[0m\n",
      "12 receitas.\n",
      "\n",
      "\u001b[1mMint\u001b[0m\n",
      "557 receitas.\n",
      "\n",
      "\u001b[1mSpice\u001b[0m\n",
      "592 receitas.\n",
      "\n",
      "\u001b[1mFennel\u001b[0m\n",
      "341 receitas.\n",
      "\n",
      "\u001b[1mKale\u001b[0m\n",
      "133 receitas.\n",
      "\n",
      "\u001b[1mButtermilk\u001b[0m\n",
      "70 receitas.\n",
      "\n",
      "\u001b[1mCumin\u001b[0m\n",
      "81 receitas.\n",
      "\n",
      "\u001b[1mButternut Squash\u001b[0m\n",
      "174 receitas.\n",
      "\n",
      "\u001b[1mCorn\u001b[0m\n",
      "345 receitas.\n",
      "\n",
      "\u001b[1mGrill\u001b[0m\n",
      "507 receitas.\n",
      "\n",
      "\u001b[1mPasta\u001b[0m\n",
      "934 receitas.\n",
      "\n",
      "\u001b[1mCapers\u001b[0m\n",
      "167 receitas.\n",
      "\n",
      "\u001b[1mSeafood\u001b[0m\n",
      "382 receitas.\n",
      "\n",
      "\u001b[1mHot Pepper\u001b[0m\n",
      "412 receitas.\n",
      "\n",
      "\u001b[1mPeach\u001b[0m\n",
      "178 receitas.\n",
      "\n",
      "\u001b[1mLemon Juice\u001b[0m\n",
      "135 receitas.\n",
      "\n",
      "\u001b[1mMaple Syrup\u001b[0m\n",
      "141 receitas.\n",
      "\n",
      "\u001b[1mQuick and Healthy\u001b[0m\n",
      "64 receitas.\n",
      "\n",
      "\u001b[1mSugar Conscious\u001b[0m\n",
      "2172 receitas.\n",
      "\n",
      "\u001b[1mSoup/Stew\u001b[0m\n",
      "1014 receitas.\n",
      "\n",
      "\u001b[1mAlmond\u001b[0m\n",
      "542 receitas.\n",
      "\n",
      "\u001b[1mGoat Cheese\u001b[0m\n",
      "298 receitas.\n",
      "\n",
      "\u001b[1mCucumber\u001b[0m\n",
      "359 receitas.\n",
      "\n",
      "\u001b[1mCoriander\u001b[0m\n",
      "114 receitas.\n",
      "\n",
      "\u001b[1mIce Cream\u001b[0m\n",
      "12 receitas.\n",
      "\n",
      "\u001b[1mWhiskey\u001b[0m\n",
      "52 receitas.\n",
      "\n",
      "\u001b[1mZucchini\u001b[0m\n",
      "285 receitas.\n",
      "\n",
      "\u001b[1mRosemary\u001b[0m\n",
      "336 receitas.\n",
      "\n",
      "\u001b[1mJalapeño\u001b[0m\n",
      "311 receitas.\n",
      "\n",
      "\u001b[1mCake\u001b[0m\n",
      "672 receitas.\n",
      "\n",
      "\u001b[1mPeanut Butter\u001b[0m\n",
      "32 receitas.\n",
      "\n",
      "\u001b[1mPaprika\u001b[0m\n",
      "46 receitas.\n",
      "\n",
      "\u001b[1mBourbon\u001b[0m\n",
      "113 receitas.\n",
      "\n",
      "\u001b[1mFry\u001b[0m\n",
      "386 receitas.\n",
      "\n",
      "\u001b[1mVegan\u001b[0m\n",
      "1535 receitas.\n",
      "\n",
      "\u001b[1mOnion\u001b[0m\n",
      "1934 receitas.\n",
      "\n",
      "\u001b[1mPastry\u001b[0m\n",
      "73 receitas.\n",
      "\n",
      "\u001b[1mHam\u001b[0m\n",
      "211 receitas.\n",
      "\n",
      "\u001b[1mSandwich\u001b[0m\n",
      "406 receitas.\n",
      "\n",
      "\u001b[1mPotato\u001b[0m\n",
      "1032 receitas.\n",
      "\n",
      "\u001b[1mBlueberry\u001b[0m\n",
      "168 receitas.\n",
      "\n",
      "\u001b[1mSteak\u001b[0m\n",
      "236 receitas.\n",
      "\n",
      "\u001b[1mCocktail\u001b[0m\n",
      "339 receitas.\n",
      "\n",
      "\u001b[1mLamb\u001b[0m\n",
      "333 receitas.\n",
      "\n",
      "\u001b[1mParmesan\u001b[0m\n",
      "609 receitas.\n",
      "\n",
      "\u001b[1mCarrot\u001b[0m\n",
      "609 receitas.\n",
      "\n",
      "\u001b[1mOrange\u001b[0m\n",
      "771 receitas.\n",
      "\n",
      "\u001b[1mFlaming Hot Summer\u001b[0m\n",
      "12 receitas.\n",
      "\n",
      "\u001b[1mturkey\u001b[0m\n",
      "362 receitas.\n",
      "\n"
     ]
    }
   ],
   "source": [
    "top_100_cat_recipe = count_sublist_values(top_100_rating_recipe, 'categories')\n",
    "\n",
    "# top 100 categorias das top 100 receitas em avaliação\n",
    "cat100 = top_100_cat_recipe.value_counts().nlargest(100).index\n",
    "for cat in cat100:\n",
    "    count = 0\n",
    "    print('\\033[1m' + cat + '\\033[0m')\n",
    "    for i in data.index:\n",
    "        val = data.loc[i,'categories']\n",
    "        if cat in val:\n",
    "            count+=1\n",
    "    print('{} receitas.\\n'.format(count))"
   ]
  },
  {
   "cell_type": "markdown",
   "metadata": {},
   "source": [
    "### Classificador para recomendar categorias"
   ]
  },
  {
   "cell_type": "code",
   "execution_count": 61,
   "metadata": {},
   "outputs": [
    {
     "name": "stderr",
     "output_type": "stream",
     "text": [
      "[nltk_data] Downloading package stopwords to\n",
      "[nltk_data]     /Users/rochelle0liveira/nltk_data...\n",
      "[nltk_data]   Package stopwords is already up-to-date!\n"
     ]
    }
   ],
   "source": [
    "from nltk.corpus import stopwords\n",
    "nltk.download('stopwords')\n",
    "from nltk.stem.snowball import SnowballStemmer\n",
    "\n",
    "from sklearn.model_selection import train_test_split\n",
    "from sklearn.feature_extraction.text import TfidfVectorizer\n",
    "from sklearn.metrics import f1_score\n",
    "from sklearn.metrics import accuracy_score\n",
    "from sklearn.metrics import hamming_loss\n",
    "from skmultilearn.problem_transform import BinaryRelevance\n",
    "from sklearn.naive_bayes import GaussianNB\n",
    "from skmultilearn.problem_transform import ClassifierChain\n",
    "from sklearn.ensemble import RandomForestClassifier\n",
    "from sklearn.linear_model import LogisticRegression\n",
    "from skmultilearn.problem_transform import LabelPowerset\n",
    "from skmultilearn.adapt import MLkNN\n",
    "from sklearn.preprocessing import MultiLabelBinarizer"
   ]
  },
  {
   "cell_type": "markdown",
   "metadata": {},
   "source": [
    "Tratando textos de Titulo e descrição"
   ]
  },
  {
   "cell_type": "code",
   "execution_count": 62,
   "metadata": {
    "scrolled": true
   },
   "outputs": [],
   "source": [
    "REPLACE_BY_SPACE_RE = re.compile('[/(){}\\[\\]\\|@,;]')\n",
    "BAD_SYMBOLS_RE = re.compile('[^0-9a-z #+_]')\n",
    "STOPWORDS = set(stopwords.words('english'))\n",
    "\n",
    "def clean_text(text):\n",
    "    text = text.lower()\n",
    "    text = REPLACE_BY_SPACE_RE.sub(' ', text) # substituindo símbolos por espaço em branco\n",
    "    text = BAD_SYMBOLS_RE.sub('', text) # removendo símbolos desnecessários\n",
    "    text = ' '.join(word for word in text.split() if word not in STOPWORDS) # deletando sportwords\n",
    "    return text\n",
    "\n",
    "stemmer = SnowballStemmer(\"english\")\n",
    "\n",
    "def stemming(sentence):\n",
    "    stemSentence = \"\"\n",
    "    for word in sentence.split():\n",
    "        stem = stemmer.stem(word)\n",
    "        stemSentence += stem\n",
    "        stemSentence += \" \"\n",
    "    \n",
    "    stemSentence = stemSentence.strip()\n",
    "    return stemSentence"
   ]
  },
  {
   "cell_type": "code",
   "execution_count": 63,
   "metadata": {},
   "outputs": [],
   "source": [
    "data['desc'].fillna('', inplace=True)\n",
    "data['desc'] = data['desc'].apply(clean_text)\n",
    "data['desc'] = data['desc'].apply(stemming)\n",
    "\n",
    "data['title'] = data['title'].apply(clean_text)\n",
    "data['title'] = data['title'].apply(stemming)\n",
    "\n",
    "data['title_desc'] = data['title'] + \" \" + data['desc']\n",
    "\n",
    "data.drop(columns=['title', 'desc'], inplace=True)"
   ]
  },
  {
   "cell_type": "code",
   "execution_count": 64,
   "metadata": {
    "scrolled": true
   },
   "outputs": [
    {
     "data": {
      "text/html": [
       "<div>\n",
       "<style scoped>\n",
       "    .dataframe tbody tr th:only-of-type {\n",
       "        vertical-align: middle;\n",
       "    }\n",
       "\n",
       "    .dataframe tbody tr th {\n",
       "        vertical-align: top;\n",
       "    }\n",
       "\n",
       "    .dataframe thead th {\n",
       "        text-align: right;\n",
       "    }\n",
       "</style>\n",
       "<table border=\"1\" class=\"dataframe\">\n",
       "  <thead>\n",
       "    <tr style=\"text-align: right;\">\n",
       "      <th></th>\n",
       "      <th>directions</th>\n",
       "      <th>fat</th>\n",
       "      <th>date</th>\n",
       "      <th>calories</th>\n",
       "      <th>protein</th>\n",
       "      <th>rating</th>\n",
       "      <th>ingredients</th>\n",
       "      <th>sodium</th>\n",
       "      <th>title_desc</th>\n",
       "      <th>#CAKEWEEK</th>\n",
       "      <th>...</th>\n",
       "      <th>Yellow Squash</th>\n",
       "      <th>Yogurt</th>\n",
       "      <th>Yonkers</th>\n",
       "      <th>Yuca</th>\n",
       "      <th>Zucchini</th>\n",
       "      <th>cookbooks</th>\n",
       "      <th>leftovers</th>\n",
       "      <th>snack</th>\n",
       "      <th>snack week</th>\n",
       "      <th>turkey</th>\n",
       "    </tr>\n",
       "  </thead>\n",
       "  <tbody>\n",
       "    <tr>\n",
       "      <th>0</th>\n",
       "      <td>[1. Place the stock, lentils, celery, carrot, ...</td>\n",
       "      <td>7.0</td>\n",
       "      <td>2006-09-01 04:00:00+00:00</td>\n",
       "      <td>426.0</td>\n",
       "      <td>30.0</td>\n",
       "      <td>2.500</td>\n",
       "      <td>[stock, lentils, lentils, celery, carrot, thym...</td>\n",
       "      <td>559.0</td>\n",
       "      <td>lentil appl turkey wrap</td>\n",
       "      <td>0.0</td>\n",
       "      <td>...</td>\n",
       "      <td>0.0</td>\n",
       "      <td>0.0</td>\n",
       "      <td>0.0</td>\n",
       "      <td>0.0</td>\n",
       "      <td>0.0</td>\n",
       "      <td>0.0</td>\n",
       "      <td>0.0</td>\n",
       "      <td>0.0</td>\n",
       "      <td>0.0</td>\n",
       "      <td>1.0</td>\n",
       "    </tr>\n",
       "    <tr>\n",
       "      <th>1</th>\n",
       "      <td>[Combine first 9 ingredients in heavy medium s...</td>\n",
       "      <td>23.0</td>\n",
       "      <td>2004-08-20 04:00:00+00:00</td>\n",
       "      <td>403.0</td>\n",
       "      <td>18.0</td>\n",
       "      <td>4.375</td>\n",
       "      <td>[cream, onions, salt, leaves, cloves, clove, p...</td>\n",
       "      <td>1439.0</td>\n",
       "      <td>boudin blanc terrin red onion confit use ingre...</td>\n",
       "      <td>0.0</td>\n",
       "      <td>...</td>\n",
       "      <td>0.0</td>\n",
       "      <td>0.0</td>\n",
       "      <td>0.0</td>\n",
       "      <td>0.0</td>\n",
       "      <td>0.0</td>\n",
       "      <td>0.0</td>\n",
       "      <td>0.0</td>\n",
       "      <td>0.0</td>\n",
       "      <td>0.0</td>\n",
       "      <td>0.0</td>\n",
       "    </tr>\n",
       "    <tr>\n",
       "      <th>2</th>\n",
       "      <td>[In a large heavy saucepan cook diced fennel a...</td>\n",
       "      <td>7.0</td>\n",
       "      <td>2004-08-20 04:00:00+00:00</td>\n",
       "      <td>165.0</td>\n",
       "      <td>6.0</td>\n",
       "      <td>3.750</td>\n",
       "      <td>[garnish, onion, butter, potatoes, broth, milk]</td>\n",
       "      <td>165.0</td>\n",
       "      <td>potato fennel soup hodg</td>\n",
       "      <td>0.0</td>\n",
       "      <td>...</td>\n",
       "      <td>0.0</td>\n",
       "      <td>0.0</td>\n",
       "      <td>0.0</td>\n",
       "      <td>0.0</td>\n",
       "      <td>0.0</td>\n",
       "      <td>0.0</td>\n",
       "      <td>0.0</td>\n",
       "      <td>0.0</td>\n",
       "      <td>0.0</td>\n",
       "      <td>0.0</td>\n",
       "    </tr>\n",
       "    <tr>\n",
       "      <th>3</th>\n",
       "      <td>[Heat oil in heavy large skillet over medium-h...</td>\n",
       "      <td>17.0</td>\n",
       "      <td>2009-03-27 04:00:00+00:00</td>\n",
       "      <td>327.0</td>\n",
       "      <td>8.0</td>\n",
       "      <td>5.000</td>\n",
       "      <td>[oil, onion, wine, paste, juice, fillets, oliv...</td>\n",
       "      <td>268.0</td>\n",
       "      <td>mahimahi tomato oliv sauc sicilianstyl tomato ...</td>\n",
       "      <td>0.0</td>\n",
       "      <td>...</td>\n",
       "      <td>0.0</td>\n",
       "      <td>0.0</td>\n",
       "      <td>0.0</td>\n",
       "      <td>0.0</td>\n",
       "      <td>0.0</td>\n",
       "      <td>0.0</td>\n",
       "      <td>0.0</td>\n",
       "      <td>0.0</td>\n",
       "      <td>0.0</td>\n",
       "      <td>0.0</td>\n",
       "    </tr>\n",
       "    <tr>\n",
       "      <th>4</th>\n",
       "      <td>[Preheat oven to 350°F. Lightly grease 8x8x2-i...</td>\n",
       "      <td>32.0</td>\n",
       "      <td>2004-08-20 04:00:00+00:00</td>\n",
       "      <td>547.0</td>\n",
       "      <td>20.0</td>\n",
       "      <td>3.125</td>\n",
       "      <td>[soufflé, noodles, cream, sauce, nutmeg, cheese]</td>\n",
       "      <td>452.0</td>\n",
       "      <td>spinach noodl casserol</td>\n",
       "      <td>0.0</td>\n",
       "      <td>...</td>\n",
       "      <td>0.0</td>\n",
       "      <td>0.0</td>\n",
       "      <td>0.0</td>\n",
       "      <td>0.0</td>\n",
       "      <td>0.0</td>\n",
       "      <td>0.0</td>\n",
       "      <td>0.0</td>\n",
       "      <td>0.0</td>\n",
       "      <td>0.0</td>\n",
       "      <td>0.0</td>\n",
       "    </tr>\n",
       "  </tbody>\n",
       "</table>\n",
       "<p>5 rows × 682 columns</p>\n",
       "</div>"
      ],
      "text/plain": [
       "                                          directions   fat  \\\n",
       "0  [1. Place the stock, lentils, celery, carrot, ...   7.0   \n",
       "1  [Combine first 9 ingredients in heavy medium s...  23.0   \n",
       "2  [In a large heavy saucepan cook diced fennel a...   7.0   \n",
       "3  [Heat oil in heavy large skillet over medium-h...  17.0   \n",
       "4  [Preheat oven to 350°F. Lightly grease 8x8x2-i...  32.0   \n",
       "\n",
       "                       date  calories  protein  rating  \\\n",
       "0 2006-09-01 04:00:00+00:00     426.0     30.0   2.500   \n",
       "1 2004-08-20 04:00:00+00:00     403.0     18.0   4.375   \n",
       "2 2004-08-20 04:00:00+00:00     165.0      6.0   3.750   \n",
       "3 2009-03-27 04:00:00+00:00     327.0      8.0   5.000   \n",
       "4 2004-08-20 04:00:00+00:00     547.0     20.0   3.125   \n",
       "\n",
       "                                         ingredients  sodium  \\\n",
       "0  [stock, lentils, lentils, celery, carrot, thym...   559.0   \n",
       "1  [cream, onions, salt, leaves, cloves, clove, p...  1439.0   \n",
       "2    [garnish, onion, butter, potatoes, broth, milk]   165.0   \n",
       "3  [oil, onion, wine, paste, juice, fillets, oliv...   268.0   \n",
       "4   [soufflé, noodles, cream, sauce, nutmeg, cheese]   452.0   \n",
       "\n",
       "                                          title_desc  #CAKEWEEK  ...  \\\n",
       "0                           lentil appl turkey wrap         0.0  ...   \n",
       "1  boudin blanc terrin red onion confit use ingre...        0.0  ...   \n",
       "2                           potato fennel soup hodg         0.0  ...   \n",
       "3  mahimahi tomato oliv sauc sicilianstyl tomato ...        0.0  ...   \n",
       "4                            spinach noodl casserol         0.0  ...   \n",
       "\n",
       "   Yellow Squash  Yogurt  Yonkers  Yuca  Zucchini  cookbooks  leftovers  \\\n",
       "0            0.0     0.0      0.0   0.0       0.0        0.0        0.0   \n",
       "1            0.0     0.0      0.0   0.0       0.0        0.0        0.0   \n",
       "2            0.0     0.0      0.0   0.0       0.0        0.0        0.0   \n",
       "3            0.0     0.0      0.0   0.0       0.0        0.0        0.0   \n",
       "4            0.0     0.0      0.0   0.0       0.0        0.0        0.0   \n",
       "\n",
       "   snack  snack week  turkey  \n",
       "0    0.0         0.0     1.0  \n",
       "1    0.0         0.0     0.0  \n",
       "2    0.0         0.0     0.0  \n",
       "3    0.0         0.0     0.0  \n",
       "4    0.0         0.0     0.0  \n",
       "\n",
       "[5 rows x 682 columns]"
      ]
     },
     "execution_count": 64,
     "metadata": {},
     "output_type": "execute_result"
    }
   ],
   "source": [
    "# One Hot Encoding categories\n",
    "dummy = pd.get_dummies(data['categories'].apply(pd.Series).stack()).sum(level=0)\n",
    "data.drop(columns='categories', inplace=True)\n",
    "data = pd.concat([data, dummy], axis=1)\n",
    "data.head()"
   ]
  },
  {
   "cell_type": "code",
   "execution_count": 90,
   "metadata": {},
   "outputs": [],
   "source": [
    "# dividindo os dados em treino e teste\n",
    "train, test = train_test_split(data, random_state=42, test_size=0.2, shuffle=True)\n",
    "train_text = train['title_desc'].astype('U')\n",
    "test_text = test['title_desc'].astype('U')"
   ]
  },
  {
   "cell_type": "code",
   "execution_count": 94,
   "metadata": {},
   "outputs": [
    {
     "data": {
      "text/plain": [
       "TfidfVectorizer(analyzer='word', binary=False, decode_error='strict',\n",
       "                dtype=<class 'numpy.float64'>, encoding='utf-8',\n",
       "                input='content', lowercase=True, max_df=1.0, max_features=100,\n",
       "                min_df=1, ngram_range=(1, 1), norm='l2', preprocessor=None,\n",
       "                smooth_idf=True, stop_words=None, strip_accents='unicode',\n",
       "                sublinear_tf=False, token_pattern='(?u)\\\\b\\\\w\\\\w+\\\\b',\n",
       "                tokenizer=None, use_idf=True, vocabulary=None)"
      ]
     },
     "execution_count": 94,
     "metadata": {},
     "output_type": "execute_result"
    }
   ],
   "source": [
    "vectorizer = TfidfVectorizer(strip_accents='unicode', analyzer='word', ngram_range=(1,1), norm='l2', max_features = 100)\n",
    "vectorizer.fit(train_text)\n",
    "vectorizer.fit(test_text)"
   ]
  },
  {
   "cell_type": "code",
   "execution_count": 91,
   "metadata": {},
   "outputs": [],
   "source": [
    "labels = ['directions', 'fat', 'date', 'calories', 'protein', 'rating', 'ingredients', 'sodium', 'title_desc']\n",
    "x_train = vectorizer.transform(train_text)\n",
    "y_train = train.drop(labels=labels, axis=1)\n",
    "y_train.fillna(0.0, inplace=True)\n",
    "x_test = vectorizer.transform(test_text)\n",
    "y_test = test.drop(labels=labels, axis=1)\n",
    "y_test.fillna(0.0, inplace=True)"
   ]
  },
  {
   "cell_type": "code",
   "execution_count": 92,
   "metadata": {},
   "outputs": [
    {
     "name": "stdout",
     "output_type": "stream",
     "text": [
      "Accuracy =  0.0\n",
      "F1 score =  0.07437071721465782\n",
      "Hamming loss =  0.3448265602605974\n"
     ]
    }
   ],
   "source": [
    "br_classifier = BinaryRelevance(GaussianNB())\n",
    "\n",
    "br_classifier.fit(x_train, y_train)\n",
    "br_predictions = br_classifier.predict(x_test)\n",
    "print(\"Accuracy = \",accuracy_score(y_test,br_predictions.toarray()))\n",
    "print(\"F1 score = \", f1_score(y_test,br_predictions, average=\"micro\"))\n",
    "print(\"Hamming loss = \",hamming_loss(y_test,br_predictions))"
   ]
  },
  {
   "cell_type": "code",
   "execution_count": null,
   "metadata": {},
   "outputs": [],
   "source": [
    "labels = ['directions', 'fat', 'date', 'calories', 'protein', 'rating', 'ingredients', 'sodium', 'title_desc']\n",
    "x_train = vectorizer.transform(train_text)\n",
    "y_train = train.drop(labels=labels, axis=1)\n",
    "y_train.fillna(0.0, inplace=True)\n",
    "selected_labels = y_train.columns[y_train.sum(axis = 0, skipna = True) > 0].tolist()\n",
    "y_train = y_train.filter(selected_labels, axis=1)\n",
    "y_test = test.drop(labels=labels, axis=1)\n",
    "y_test.fillna(0.0, inplace=True)\n",
    "y_test = y_test.filter(selected_labels, axis=1)\n",
    "x_test = vectorizer.transform(test_text)"
   ]
  },
  {
   "cell_type": "code",
   "execution_count": 93,
   "metadata": {},
   "outputs": [
    {
     "name": "stderr",
     "output_type": "stream",
     "text": [
      "/anaconda3/lib/python3.7/site-packages/sklearn/linear_model/_logistic.py:940: ConvergenceWarning: lbfgs failed to converge (status=1):\n",
      "STOP: TOTAL NO. of ITERATIONS REACHED LIMIT.\n",
      "\n",
      "Increase the number of iterations (max_iter) or scale the data as shown in:\n",
      "    https://scikit-learn.org/stable/modules/preprocessing.html\n",
      "Please also refer to the documentation for alternative solver options:\n",
      "    https://scikit-learn.org/stable/modules/linear_model.html#logistic-regression\n",
      "  extra_warning_msg=_LOGISTIC_SOLVER_CONVERGENCE_MSG)\n",
      "/anaconda3/lib/python3.7/site-packages/sklearn/linear_model/_logistic.py:940: ConvergenceWarning: lbfgs failed to converge (status=1):\n",
      "STOP: TOTAL NO. of ITERATIONS REACHED LIMIT.\n",
      "\n",
      "Increase the number of iterations (max_iter) or scale the data as shown in:\n",
      "    https://scikit-learn.org/stable/modules/preprocessing.html\n",
      "Please also refer to the documentation for alternative solver options:\n",
      "    https://scikit-learn.org/stable/modules/linear_model.html#logistic-regression\n",
      "  extra_warning_msg=_LOGISTIC_SOLVER_CONVERGENCE_MSG)\n",
      "/anaconda3/lib/python3.7/site-packages/sklearn/linear_model/_logistic.py:940: ConvergenceWarning: lbfgs failed to converge (status=1):\n",
      "STOP: TOTAL NO. of ITERATIONS REACHED LIMIT.\n",
      "\n",
      "Increase the number of iterations (max_iter) or scale the data as shown in:\n",
      "    https://scikit-learn.org/stable/modules/preprocessing.html\n",
      "Please also refer to the documentation for alternative solver options:\n",
      "    https://scikit-learn.org/stable/modules/linear_model.html#logistic-regression\n",
      "  extra_warning_msg=_LOGISTIC_SOLVER_CONVERGENCE_MSG)\n",
      "/anaconda3/lib/python3.7/site-packages/sklearn/linear_model/_logistic.py:940: ConvergenceWarning: lbfgs failed to converge (status=1):\n",
      "STOP: TOTAL NO. of ITERATIONS REACHED LIMIT.\n",
      "\n",
      "Increase the number of iterations (max_iter) or scale the data as shown in:\n",
      "    https://scikit-learn.org/stable/modules/preprocessing.html\n",
      "Please also refer to the documentation for alternative solver options:\n",
      "    https://scikit-learn.org/stable/modules/linear_model.html#logistic-regression\n",
      "  extra_warning_msg=_LOGISTIC_SOLVER_CONVERGENCE_MSG)\n",
      "/anaconda3/lib/python3.7/site-packages/sklearn/linear_model/_logistic.py:940: ConvergenceWarning: lbfgs failed to converge (status=1):\n",
      "STOP: TOTAL NO. of ITERATIONS REACHED LIMIT.\n",
      "\n",
      "Increase the number of iterations (max_iter) or scale the data as shown in:\n",
      "    https://scikit-learn.org/stable/modules/preprocessing.html\n",
      "Please also refer to the documentation for alternative solver options:\n",
      "    https://scikit-learn.org/stable/modules/linear_model.html#logistic-regression\n",
      "  extra_warning_msg=_LOGISTIC_SOLVER_CONVERGENCE_MSG)\n",
      "/anaconda3/lib/python3.7/site-packages/sklearn/linear_model/_logistic.py:940: ConvergenceWarning: lbfgs failed to converge (status=1):\n",
      "STOP: TOTAL NO. of ITERATIONS REACHED LIMIT.\n",
      "\n",
      "Increase the number of iterations (max_iter) or scale the data as shown in:\n",
      "    https://scikit-learn.org/stable/modules/preprocessing.html\n",
      "Please also refer to the documentation for alternative solver options:\n",
      "    https://scikit-learn.org/stable/modules/linear_model.html#logistic-regression\n",
      "  extra_warning_msg=_LOGISTIC_SOLVER_CONVERGENCE_MSG)\n",
      "/anaconda3/lib/python3.7/site-packages/sklearn/linear_model/_logistic.py:940: ConvergenceWarning: lbfgs failed to converge (status=1):\n",
      "STOP: TOTAL NO. of ITERATIONS REACHED LIMIT.\n",
      "\n",
      "Increase the number of iterations (max_iter) or scale the data as shown in:\n",
      "    https://scikit-learn.org/stable/modules/preprocessing.html\n",
      "Please also refer to the documentation for alternative solver options:\n",
      "    https://scikit-learn.org/stable/modules/linear_model.html#logistic-regression\n",
      "  extra_warning_msg=_LOGISTIC_SOLVER_CONVERGENCE_MSG)\n",
      "/anaconda3/lib/python3.7/site-packages/sklearn/linear_model/_logistic.py:940: ConvergenceWarning: lbfgs failed to converge (status=1):\n",
      "STOP: TOTAL NO. of ITERATIONS REACHED LIMIT.\n",
      "\n",
      "Increase the number of iterations (max_iter) or scale the data as shown in:\n",
      "    https://scikit-learn.org/stable/modules/preprocessing.html\n",
      "Please also refer to the documentation for alternative solver options:\n",
      "    https://scikit-learn.org/stable/modules/linear_model.html#logistic-regression\n",
      "  extra_warning_msg=_LOGISTIC_SOLVER_CONVERGENCE_MSG)\n",
      "/anaconda3/lib/python3.7/site-packages/sklearn/linear_model/_logistic.py:940: ConvergenceWarning: lbfgs failed to converge (status=1):\n",
      "STOP: TOTAL NO. of ITERATIONS REACHED LIMIT.\n",
      "\n",
      "Increase the number of iterations (max_iter) or scale the data as shown in:\n",
      "    https://scikit-learn.org/stable/modules/preprocessing.html\n",
      "Please also refer to the documentation for alternative solver options:\n",
      "    https://scikit-learn.org/stable/modules/linear_model.html#logistic-regression\n",
      "  extra_warning_msg=_LOGISTIC_SOLVER_CONVERGENCE_MSG)\n",
      "/anaconda3/lib/python3.7/site-packages/sklearn/linear_model/_logistic.py:940: ConvergenceWarning: lbfgs failed to converge (status=1):\n",
      "STOP: TOTAL NO. of ITERATIONS REACHED LIMIT.\n",
      "\n",
      "Increase the number of iterations (max_iter) or scale the data as shown in:\n",
      "    https://scikit-learn.org/stable/modules/preprocessing.html\n",
      "Please also refer to the documentation for alternative solver options:\n",
      "    https://scikit-learn.org/stable/modules/linear_model.html#logistic-regression\n",
      "  extra_warning_msg=_LOGISTIC_SOLVER_CONVERGENCE_MSG)\n",
      "/anaconda3/lib/python3.7/site-packages/sklearn/linear_model/_logistic.py:940: ConvergenceWarning: lbfgs failed to converge (status=1):\n",
      "STOP: TOTAL NO. of ITERATIONS REACHED LIMIT.\n",
      "\n",
      "Increase the number of iterations (max_iter) or scale the data as shown in:\n",
      "    https://scikit-learn.org/stable/modules/preprocessing.html\n",
      "Please also refer to the documentation for alternative solver options:\n",
      "    https://scikit-learn.org/stable/modules/linear_model.html#logistic-regression\n",
      "  extra_warning_msg=_LOGISTIC_SOLVER_CONVERGENCE_MSG)\n",
      "/anaconda3/lib/python3.7/site-packages/sklearn/linear_model/_logistic.py:940: ConvergenceWarning: lbfgs failed to converge (status=1):\n",
      "STOP: TOTAL NO. of ITERATIONS REACHED LIMIT.\n",
      "\n",
      "Increase the number of iterations (max_iter) or scale the data as shown in:\n",
      "    https://scikit-learn.org/stable/modules/preprocessing.html\n",
      "Please also refer to the documentation for alternative solver options:\n",
      "    https://scikit-learn.org/stable/modules/linear_model.html#logistic-regression\n",
      "  extra_warning_msg=_LOGISTIC_SOLVER_CONVERGENCE_MSG)\n"
     ]
    },
    {
     "name": "stdout",
     "output_type": "stream",
     "text": [
      "Accuracy =  0.0002813731007315701\n",
      "F1 =  0.2063993831919815\n",
      "Hamming loss =  0.017499536711964053\n"
     ]
    }
   ],
   "source": [
    "cc_classifier = ClassifierChain(LogisticRegression())\n",
    "cc_classifier.fit(x_train, y_train)\n",
    "cc_predictions = cc_classifier.predict(x_test)\n",
    "\n",
    "print(\"Accuracy = \",accuracy_score(y_test,cc_predictions))\n",
    "print(\"F1 = \",f1_score(y_test,cc_predictions, average=\"micro\"))\n",
    "print(\"Hamming loss = \",hamming_loss(y_test,cc_predictions))"
   ]
  }
 ],
 "metadata": {
  "kernelspec": {
   "display_name": "Python 3",
   "language": "python",
   "name": "python3"
  },
  "language_info": {
   "codemirror_mode": {
    "name": "ipython",
    "version": 3
   },
   "file_extension": ".py",
   "mimetype": "text/x-python",
   "name": "python",
   "nbconvert_exporter": "python",
   "pygments_lexer": "ipython3",
   "version": "3.7.1"
  }
 },
 "nbformat": 4,
 "nbformat_minor": 2
}
